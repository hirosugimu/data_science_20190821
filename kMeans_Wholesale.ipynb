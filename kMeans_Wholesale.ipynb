{
 "cells": [
  {
   "cell_type": "markdown",
   "metadata": {},
   "source": [
    "# Wholesale customers Data Set (卸売業者の顧客データ)\n",
    "https://archive.ics.uci.edu/ml/datasets/wholesale+customers <br>\n",
    "ポルトガルの卸売業者の顧客のデータ（2011年(通年)、通貨単位の年間支出）"
   ]
  },
  {
   "cell_type": "code",
   "execution_count": null,
   "metadata": {},
   "outputs": [],
   "source": [
    "# -*- coding: utf-8 -*-\n",
    "import numpy as np\n",
    "import pandas as pd\n",
    "import matplotlib.pyplot as plt\n",
    "%matplotlib inline\n",
    "from matplotlib import cm\n",
    "import seaborn as sns\n",
    "\n",
    "from sklearn.cluster import KMeans\n",
    "from sklearn import datasets\n",
    "#from sklearn.metrics import  accuracy_score, classification_report\n",
    "\n",
    "FLAG_fig = False"
   ]
  },
  {
   "cell_type": "code",
   "execution_count": null,
   "metadata": {},
   "outputs": [],
   "source": [
    "#原データは　https://archive.ics.uci.edu/ml/datasets/wholesale+customers#　にあり，\n",
    "#このファイル名の空白を下線に変えて，下記のサイトにアップした。\n",
    "df_all = pd.read_csv(\"https://sites.google.com/site/datasciencehiro/datasets/Wholesale_customers_data.csv\")\n",
    "df_all.head()"
   ]
  },
  {
   "cell_type": "code",
   "execution_count": null,
   "metadata": {},
   "outputs": [],
   "source": [
    "#不要なカラムを削除\n",
    "df_1 = df_all.drop(['Channel', 'Region'], axis=1)\n",
    "df_1.head()"
   ]
  },
  {
   "cell_type": "code",
   "execution_count": null,
   "metadata": {},
   "outputs": [],
   "source": [
    "# pandasデータフレームをnumpy配列に変換\n",
    "# .tolist()は\"値\"をリスト（Python形式）に変換する\n",
    "cstmr_data = np.array([df_1['Fresh'].values,\n",
    "                       df_1['Milk'].values,\n",
    "                       df_1['Grocery'].values,\n",
    "                       df_1['Frozen'].values,\n",
    "                       df_1['Detergents_Paper'].values,\n",
    "                       df_1['Delicassen'].values\n",
    "                       ])\n",
    "cstmr_data = cstmr_data.T # Transpose, 転置"
   ]
  },
  {
   "cell_type": "code",
   "execution_count": null,
   "metadata": {},
   "outputs": [],
   "source": [
    "print(type(cstmr_data))\n",
    "cstmr_data[0:5] # numpy 配列の中身の確認"
   ]
  },
  {
   "cell_type": "code",
   "execution_count": null,
   "metadata": {},
   "outputs": [],
   "source": [
    "clstr = KMeans(n_clusters=4).fit_predict(cstmr_data)\n",
    "clstr"
   ]
  },
  {
   "cell_type": "markdown",
   "metadata": {},
   "source": [
    "クラスタリングの結果をpandasのデータフレームに挿入する。"
   ]
  },
  {
   "cell_type": "code",
   "execution_count": null,
   "metadata": {},
   "outputs": [],
   "source": [
    "df_1['cluster_id'] = clstr\n",
    "df_1.head()"
   ]
  },
  {
   "cell_type": "code",
   "execution_count": null,
   "metadata": {},
   "outputs": [],
   "source": [
    "# 各クラスタのサンプル数の分布\n",
    "df_1['cluster_id'].value_counts()"
   ]
  },
  {
   "cell_type": "code",
   "execution_count": null,
   "metadata": {},
   "outputs": [],
   "source": [
    "# クラスタ==0 商品の支出額の平均値\n",
    "df_1[df_1['cluster_id']==0].mean() "
   ]
  },
  {
   "cell_type": "code",
   "execution_count": null,
   "metadata": {},
   "outputs": [],
   "source": [
    "# クラスタ==1 商品の支出額の平均値\n",
    "df_1[df_1['cluster_id']==1].mean() "
   ]
  },
  {
   "cell_type": "code",
   "execution_count": null,
   "metadata": {},
   "outputs": [],
   "source": [
    "# クラスタ==2 商品の支出額の平均値\n",
    "df_1[df_1['cluster_id']==2].mean() "
   ]
  },
  {
   "cell_type": "code",
   "execution_count": null,
   "metadata": {},
   "outputs": [],
   "source": [
    "# クラスタ==3 商品の支出額の平均値\n",
    "df_1[df_1['cluster_id']==3].mean() "
   ]
  },
  {
   "cell_type": "code",
   "execution_count": null,
   "metadata": {
    "scrolled": true
   },
   "outputs": [],
   "source": [
    "# クラスタ毎のグルーピング\n",
    "df2 = df_1.groupby('cluster_id').mean()\n",
    "df2"
   ]
  },
  {
   "cell_type": "markdown",
   "metadata": {},
   "source": [
    "pandasのplot.bar https://pandas.pydata.org/pandas-docs/stable/generated/pandas.DataFrame.plot.bar.html<br>\n",
    "この引数の詳細　https://pandas.pydata.org/pandas-docs/stable/generated/pandas.DataFrame.plot.html"
   ]
  },
  {
   "cell_type": "code",
   "execution_count": null,
   "metadata": {
    "scrolled": false
   },
   "outputs": [],
   "source": [
    "df2.plot.bar( alpha=0.6, figsize=(6,4), stacked=True, cmap='Set1')\n",
    "if FLAG_fig: plt.savefig('fig_kMeans_WholeSale_Bar.png')\n",
    "plt.show()"
   ]
  },
  {
   "cell_type": "markdown",
   "metadata": {},
   "source": [
    "結果の考察\n",
    "\n",
    "クラスタ番号 = 0 顧客 ( 79件) 、Fresh (生鮮品) やFrozen (冷凍食品) の支出額が比較的高い<br>\n",
    "クラスタ番号 = 1 顧客 (  7件) 、全てのジャンルで支出額が高い<br>\n",
    "クラスタ番号 = 2 顧客 ( 77件) 、Milk，Grocery，Detergents_Paperの支出額が比較的高い<br>\n",
    "クラスタ番号 = 3 顧客 (280件) 、全体的に支出額が低い傾向"
   ]
  },
  {
   "cell_type": "code",
   "execution_count": null,
   "metadata": {
    "scrolled": true
   },
   "outputs": [],
   "source": [
    "#pd.tools.plotting.scatter_matrix(df_1)\n",
    "g = sns.pairplot(df_1)\n",
    "\n",
    "if FLAG_fig: plt.savefig('fig_kMeans_WholeSale_Pairplot.png')\n",
    "plt.show()"
   ]
  },
  {
   "cell_type": "markdown",
   "metadata": {},
   "source": [
    "上記の結果で，Grocery，Detergents_Paperの相関が強く，かつ支出額が比較的高いことに注目して，この2変数だけでのクラスタリングを実施する"
   ]
  },
  {
   "cell_type": "code",
   "execution_count": null,
   "metadata": {
    "scrolled": true
   },
   "outputs": [],
   "source": [
    "cstmr_data = np.array([df_1['Grocery'].tolist(),\n",
    "                       df_1['Detergents_Paper'].tolist()\n",
    "                       ])\n",
    "cstmr_data = cstmr_data.T\n",
    "clstr = KMeans(n_clusters=3).fit_predict(cstmr_data)\n",
    "clstr"
   ]
  },
  {
   "cell_type": "markdown",
   "metadata": {},
   "source": [
    "この結果を用いた散布図を描く。何らかのクラスタが認められる"
   ]
  },
  {
   "cell_type": "code",
   "execution_count": null,
   "metadata": {},
   "outputs": [],
   "source": [
    "plt.scatter(cstmr_data[:,0], cstmr_data[:,1], c=clstr, cmap=cm.bwr, edgecolors='k')\n",
    "plt.xlabel('Grocery')\n",
    "plt.ylabel('Detergents_Paper')\n",
    "\n",
    "if FLAG_fig: plt.savefig('fig_kMeans_WholeSale_Scatter.png')\n",
    "plt.show()"
   ]
  },
  {
   "cell_type": "code",
   "execution_count": null,
   "metadata": {},
   "outputs": [],
   "source": []
  }
 ],
 "metadata": {
  "kernelspec": {
   "display_name": "Python 3",
   "language": "python",
   "name": "python3"
  },
  "language_info": {
   "codemirror_mode": {
    "name": "ipython",
    "version": 3
   },
   "file_extension": ".py",
   "mimetype": "text/x-python",
   "name": "python",
   "nbconvert_exporter": "python",
   "pygments_lexer": "ipython3",
   "version": "3.7.0"
  }
 },
 "nbformat": 4,
 "nbformat_minor": 2
}
