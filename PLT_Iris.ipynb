{
 "cells": [
  {
   "cell_type": "markdown",
   "metadata": {},
   "source": [
    "# Iris（アイリス）データの可視化\n",
    "参照<br>\n",
    "http://seaborn.pydata.org/\n",
    "\n",
    "seaborn.pairplot https://seaborn.pydata.org/generated/seaborn.pairplot.html<br>\n",
    "Multiple linear regression https://seaborn.pydata.org/examples/multiple_regression.html<br>\n",
    "Scatterplot with categorical variables https://seaborn.pydata.org/examples/scatterplot_categorical.html"
   ]
  },
  {
   "cell_type": "code",
   "execution_count": null,
   "metadata": {},
   "outputs": [],
   "source": [
    "# -*- coding: utf-8 -*-\n",
    "import numpy as np\n",
    "import pandas as pd\n",
    "import seaborn as sns\n",
    "\n",
    "import matplotlib.pyplot as plt\n",
    "%matplotlib inline\n",
    "\n",
    "FLAG_fig = True"
   ]
  },
  {
   "cell_type": "code",
   "execution_count": null,
   "metadata": {
    "scrolled": true
   },
   "outputs": [],
   "source": [
    "from IPython.display import Image\n",
    "# Iris Setosa\n",
    "url = 'https://upload.wikimedia.org/wikipedia/commons/a/a7/Irissetosa1.jpg'\n",
    "Image(url,width=300, height=300)"
   ]
  },
  {
   "cell_type": "code",
   "execution_count": null,
   "metadata": {
    "scrolled": true
   },
   "outputs": [],
   "source": [
    "# Iris Versicolor\n",
    "url = 'https://upload.wikimedia.org/wikipedia/commons/d/db/Iris_versicolor_4.jpg'\n",
    "Image(url,width=300, height=300)"
   ]
  },
  {
   "cell_type": "code",
   "execution_count": null,
   "metadata": {},
   "outputs": [],
   "source": [
    "# Iris Virginica\n",
    "url = 'https://upload.wikimedia.org/wikipedia/commons/b/b1/Virginia_Iris.png'\n",
    "Image(url,width=300, height=300)"
   ]
  },
  {
   "cell_type": "markdown",
   "metadata": {},
   "source": [
    "sns.set()は，Seabornのディフォルトスタイルを適用する<br>\n",
    "https://seaborn.pydata.org/generated/seaborn.set.html"
   ]
  },
  {
   "cell_type": "code",
   "execution_count": null,
   "metadata": {
    "scrolled": true
   },
   "outputs": [],
   "source": [
    "sns.set()\n",
    "# Load the example tips dataset\n",
    "iris = sns.load_dataset(\"iris\") # type (iris) = pandas.core.frame.DataFrame\n",
    "iris.head()"
   ]
  },
  {
   "cell_type": "markdown",
   "metadata": {},
   "source": [
    "データの説明"
   ]
  },
  {
   "cell_type": "code",
   "execution_count": null,
   "metadata": {
    "scrolled": true
   },
   "outputs": [],
   "source": [
    "type(iris)"
   ]
  },
  {
   "cell_type": "markdown",
   "metadata": {},
   "source": [
    "lmplot()は，回帰モデルの作成とグラフ作成を同時に行う<br>\n",
    "次の例は，横軸をsepal_length[cm], 縦軸をsepal_width[cm]とし，3種のirisそれぞれに対する回帰モデルを考える<br>\n",
    "truncate=Falseは，各回帰モデルを横軸のレンジ一杯に直線を引く。=Trueは，データの範囲内だけとする<br>\n",
    "size=5 はグラフのサイズ[inch], hueは色調を指定<br>\n",
    "ただし，統計量は出力しない<br>\n",
    "参照：<br>\n",
    "http://seaborn.pydata.org/generated/seaborn.lmplot.html <br>\n",
    "https://seaborn.pydata.org/generated/seaborn.FacetGrid.html"
   ]
  },
  {
   "cell_type": "code",
   "execution_count": null,
   "metadata": {
    "scrolled": true
   },
   "outputs": [],
   "source": [
    "# Plot tip as a function of toal bill across days\n",
    "# size is for old version, height is for new version.\n",
    "#g = sns.lmplot(x=\"sepal_length\", y=\"sepal_width\", hue=\"species\",\n",
    "#               truncate=True, size=4, data=iris)\n",
    "g = sns.lmplot(x=\"sepal_length\", y=\"sepal_width\", hue=\"species\",\n",
    "               truncate=True, height=4, data=iris)\n",
    "# もし、FutureWaringが表示されても、無視してかまいません。\n",
    "\n",
    "# Use more informative axis labels than are provided by default\n",
    "g.set_axis_labels(\"Sepal length (cm)\", \"Sepal width (cm)\")\n",
    "\n",
    "if FLAG_fig: g.savefig('fig_PLT_Iris_sns_regression.png')"
   ]
  },
  {
   "cell_type": "markdown",
   "metadata": {},
   "source": [
    "pairplot()は，各変数をそれぞれ組合せた散布図，すなわち，<br>\n",
    "散布図行列をプロットする。<br>\n",
    "参照<br>\n",
    "https://seaborn.pydata.org/generated/seaborn.pairplot.html <br>\n",
    "引数diag_kind='kde'; kernel density estimate (default),  ='hist'；histogram"
   ]
  },
  {
   "cell_type": "code",
   "execution_count": null,
   "metadata": {},
   "outputs": [],
   "source": [
    "sns_plot = sns.pairplot(iris, hue=\"species\", diag_kind='hist')\n",
    "\n",
    "if FLAG_fig: sns_plot.savefig('fig_PLT_Iris_sns_pairplot.png')"
   ]
  },
  {
   "cell_type": "code",
   "execution_count": null,
   "metadata": {},
   "outputs": [],
   "source": []
  }
 ],
 "metadata": {
  "kernelspec": {
   "display_name": "Python 3",
   "language": "python",
   "name": "python3"
  },
  "language_info": {
   "codemirror_mode": {
    "name": "ipython",
    "version": 3
   },
   "file_extension": ".py",
   "mimetype": "text/x-python",
   "name": "python",
   "nbconvert_exporter": "python",
   "pygments_lexer": "ipython3",
   "version": "3.7.0"
  }
 },
 "nbformat": 4,
 "nbformat_minor": 2
}
