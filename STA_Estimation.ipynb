{
 "cells": [
  {
   "cell_type": "markdown",
   "metadata": {},
   "source": [
    "# 統計　はじめに\n",
    "１．標本平均の分布  \n",
    "２．標準正規分布における信頼度$1-\\alpha$と信頼区間  \n",
    "３．母平均の信頼区間  \n",
    "４．母比率の信頼区間"
   ]
  },
  {
   "cell_type": "code",
   "execution_count": null,
   "metadata": {},
   "outputs": [],
   "source": [
    "# -*- coding: utf-8 -*-\n",
    "import numpy as np\n",
    "from scipy.stats import norm\n",
    "from scipy.stats import t\n",
    "from scipy.stats import uniform\n",
    "\n",
    "import matplotlib.pyplot as plt\n",
    "%matplotlib inline\n",
    "\n",
    "FLAG_fig = False"
   ]
  },
  {
   "cell_type": "markdown",
   "metadata": {},
   "source": [
    "#### 標本平均の分布"
   ]
  },
  {
   "cell_type": "code",
   "execution_count": null,
   "metadata": {},
   "outputs": [],
   "source": [
    "#numを変えることで分布が異なる\n",
    "num = 50\n",
    "N = 10\n",
    "mean, std = 2, 0.5\n",
    "mu = np.zeros(num)\n",
    "\n",
    "for i in range(num):\n",
    "    mu[i] = np.mean( norm.rvs(loc=mean, scale=std, size=N))\n",
    "\n",
    "plt.hist(mu, bins=20, range=(1.5, 2.5))\n",
    "if FLAG_fig: plt.savefig('fig_STAT_Est_SampleMean.png')"
   ]
  },
  {
   "cell_type": "markdown",
   "metadata": {},
   "source": [
    "#### 区間推定"
   ]
  },
  {
   "cell_type": "code",
   "execution_count": null,
   "metadata": {},
   "outputs": [],
   "source": [
    "alp = 0.01\n",
    "za, zb = norm.interval(alpha=(1-alp), loc=0, scale=1)\n",
    "print('za=',za, ' zb=',zb)"
   ]
  },
  {
   "cell_type": "markdown",
   "metadata": {},
   "source": [
    "#### 母平均の信頼区間"
   ]
  },
  {
   "cell_type": "code",
   "execution_count": null,
   "metadata": {},
   "outputs": [],
   "source": [
    "N = 10\n",
    "mu_hat = 145.2\n",
    "std_hat = 23.7\n",
    "t1 = t.interval( 0.99, df=N-1)\n",
    "t2 = t.interval( 0.95, df=N-1)\n",
    "t3 = t.interval( 0.90, df=N-1)\n",
    "se = std_hat / np.sqrt(N)"
   ]
  },
  {
   "cell_type": "code",
   "execution_count": null,
   "metadata": {},
   "outputs": [],
   "source": [
    "print('1-alp = 0.99, interval:', mu_hat + t1[0]*se, mu_hat + t1[1]*se)\n",
    "print('1-alp = 0.95, interval:', mu_hat + t2[0]*se, mu_hat + t2[1]*se)\n",
    "print('1-alp = 0.90, interval:', mu_hat + t3[0]*se, mu_hat + t3[1]*se)"
   ]
  },
  {
   "cell_type": "markdown",
   "metadata": {},
   "source": [
    "#### 母比率の信頼区間\n",
    "内閣支持率の例題：サンプル数N, 支持する人の数550人、信頼度 1- alp"
   ]
  },
  {
   "cell_type": "code",
   "execution_count": null,
   "metadata": {
    "scrolled": true
   },
   "outputs": [],
   "source": [
    "N=1000\n",
    "p_hat = 550/N\n",
    "alp = 0.05\n",
    "za, zb = norm.interval(alpha=(1-alp), loc=0, scale=1)\n",
    "se = np.sqrt( p_hat*(1-p_hat)/N )\n",
    "print('1-alp = ',(1-alp),'  interval:', p_hat+za*se, p_hat+zb*se)\n",
    "interval1 = zb*se*2"
   ]
  },
  {
   "cell_type": "markdown",
   "metadata": {},
   "source": [
    "上の例と同じ、ただし、サンプル数Nx を N * coef とする、coef(coefficient)は倍率を表す。"
   ]
  },
  {
   "cell_type": "code",
   "execution_count": null,
   "metadata": {},
   "outputs": [],
   "source": [
    "coef=4\n",
    "Nx=N*coef\n",
    "p_hat = 550*coef/Nx\n",
    "alp = 0.05\n",
    "za, zb = norm.interval(alpha=(1-alp), loc=0, scale=1)\n",
    "se = np.sqrt( p_hat*(1-p_hat)/Nx )\n",
    "print('1-alp = ',(1-alp),'  interval:', p_hat+za*se, p_hat+zb*se)\n",
    "interval2 = zb*se*2\n",
    "print('interval1=',interval1, 'interval2=',interval2)"
   ]
  },
  {
   "cell_type": "code",
   "execution_count": null,
   "metadata": {},
   "outputs": [],
   "source": []
  }
 ],
 "metadata": {
  "kernelspec": {
   "display_name": "Python 3",
   "language": "python",
   "name": "python3"
  },
  "language_info": {
   "codemirror_mode": {
    "name": "ipython",
    "version": 3
   },
   "file_extension": ".py",
   "mimetype": "text/x-python",
   "name": "python",
   "nbconvert_exporter": "python",
   "pygments_lexer": "ipython3",
   "version": "3.7.0"
  }
 },
 "nbformat": 4,
 "nbformat_minor": 2
}
