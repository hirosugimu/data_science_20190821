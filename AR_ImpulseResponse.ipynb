{
 "cells": [
  {
   "cell_type": "markdown",
   "metadata": {},
   "source": [
    "# ARMA（2,0)モデルのインパルス応答を見る"
   ]
  },
  {
   "cell_type": "code",
   "execution_count": null,
   "metadata": {},
   "outputs": [],
   "source": [
    "# -*- coding: utf-8 -*-\n",
    "import numpy as np\n",
    "\n",
    "#import statsmodels.api as sm\n",
    "import statsmodels.tsa.arima_process as arima\n",
    "\n",
    "import matplotlib.pyplot as plt\n",
    "import matplotlib.patches as patches\n",
    "\n",
    "%matplotlib inline"
   ]
  },
  {
   "cell_type": "markdown",
   "metadata": {},
   "source": [
    "http://www.statsmodels.org/dev/generated/statsmodels.tsa.arima_process.arma_impulse_response.html#statsmodels.tsa.arima_process.arma_impulse_response"
   ]
  },
  {
   "cell_type": "code",
   "execution_count": null,
   "metadata": {},
   "outputs": [],
   "source": [
    "ma = np.array([1.0])\n",
    "num = 100"
   ]
  },
  {
   "cell_type": "markdown",
   "metadata": {},
   "source": [
    "ARが2次，MAは0次である。　極の位置を一つrで与えれば，その共役複素数をとることでARの係数が求まる。  \n",
    "下記に複数の\"r=\"は極の位置をから一つを選び，コメントを外す。他の \"r=\" はコメントのままとする"
   ]
  },
  {
   "cell_type": "code",
   "execution_count": null,
   "metadata": {},
   "outputs": [],
   "source": [
    "#r = -0.95 + 0.4j  #[1]\n",
    "r = -0.9 + 0.4j  #[2]\n",
    "#r = -0.6 + 0.4j #[3]\n",
    "#r = 0.6 + 0.4j #[4]\n",
    "#r = 0.9 + 0.4j #[5]\n",
    "#r = 0.95 + 0.4j #[6]\n",
    "#r = 0.5 #[7]\n",
    "#r = 1.1 #[8]\n",
    "#r = 0.5j #[9]\n",
    "#r = 1.0j #[10]\n",
    "\n",
    "r_cnj = np.conj(r)\n",
    "\n",
    "pole = np.array([r, r_cnj])\n",
    "print('pole = ', pole)\n",
    "ar = np.poly(pole) # coeff. of AR model\n",
    "print('abs =',np.abs(pole), ',  coef =',ar)\n",
    "tresp = arima.arma_impulse_response(ar, ma, nobs=num)\n",
    "#print(tresp)\n",
    "# Plot\n",
    "fig, (axL, axR) = plt.subplots(ncols=2, figsize=(14,6))\n",
    "\n",
    "circ = patches.Circle(xy=(0, 0), radius=1.0, fill=False, ec='k') #塗りつぶし無し(False)，演習は黒\n",
    "axL.set_xlim((-2, 2))\n",
    "axL.set_ylim((-2, 2))\n",
    "axL.set_aspect('equal')\n",
    "axL.add_patch(circ)\n",
    "axL.set_title('Pole')\n",
    "axL.grid()\n",
    "for i in np.arange(2):\n",
    "    axL.plot(np.real(pole[i]), np.imag(pole[i]), marker='x', color='r')\n",
    "\n",
    "ymin, ymax = -4, 4\n",
    "axR.set_xlim(0,num)\n",
    "axR.set_ylim(ymin, ymax)\n",
    "axR.plot(tresp, color ='k')\n",
    "axR.set_title('Impulse response')\n",
    "axR.grid()\n",
    "plt.savefig('fig_AR_Impls_Pole_11.png')"
   ]
  },
  {
   "cell_type": "code",
   "execution_count": null,
   "metadata": {},
   "outputs": [],
   "source": []
  }
 ],
 "metadata": {
  "kernelspec": {
   "display_name": "Python 3",
   "language": "python",
   "name": "python3"
  },
  "language_info": {
   "codemirror_mode": {
    "name": "ipython",
    "version": 3
   },
   "file_extension": ".py",
   "mimetype": "text/x-python",
   "name": "python",
   "nbconvert_exporter": "python",
   "pygments_lexer": "ipython3",
   "version": "3.7.0"
  }
 },
 "nbformat": 4,
 "nbformat_minor": 2
}
