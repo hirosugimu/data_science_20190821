{
 "cells": [
  {
   "cell_type": "markdown",
   "metadata": {},
   "source": [
    "# SVM ソフトマージン\n",
    "sklearn.model_selection.train_test_split http://scikit-learn.org/stable/modules/generated/sklearn.model_selection.train_test_split.html  \n",
    "sklearn.metrics http://scikit-learn.org/stable/modules/classes.html#module-sklearn.metrics  \n",
    "\n",
    "matplotlibのカラーマップを使用\n",
    "https://matplotlib.org/users/colormaps.html"
   ]
  },
  {
   "cell_type": "code",
   "execution_count": null,
   "metadata": {},
   "outputs": [],
   "source": [
    "# -*- coding: utf-8 -*-\n",
    "import numpy as np\n",
    "import matplotlib.pyplot as plt\n",
    "from matplotlib import cm # maplotlibのカラーマップを使用\n",
    "%matplotlib inline\n",
    "\n",
    "from sklearn import svm\n",
    "from sklearn.model_selection import train_test_split\n",
    "from sklearn.metrics import   accuracy_score, confusion_matrix, precision_score, recall_score, f1_score, classification_report\n",
    "from sklearn.datasets import make_classification\n",
    "\n",
    "FLAG_fig = False"
   ]
  },
  {
   "cell_type": "code",
   "execution_count": null,
   "metadata": {},
   "outputs": [],
   "source": [
    "X, y = make_classification( n_samples=100, n_features=2, n_informative=2, n_redundant=0, \n",
    "                            n_classes=2, n_clusters_per_class=1, \n",
    "                            class_sep=0.4, #　大きいほどクラス分離の距離が大きい \n",
    "                            shift=None, \n",
    "                            random_state=5) # 整数を与えると乱数の再現性がある"
   ]
  },
  {
   "cell_type": "markdown",
   "metadata": {},
   "source": [
    "#### トレーニングデータとテストデータに分離（split）\n",
    "sklearn.model_selection.train_test_split  \n",
    "http://scikit-learn.org/stable/modules/generated/sklearn.model_selection.train_test_split.html"
   ]
  },
  {
   "cell_type": "code",
   "execution_count": null,
   "metadata": {},
   "outputs": [],
   "source": [
    "X_train, X_test, y_train, y_test = train_test_split(X, y, test_size=0.2, random_state=0)\n",
    "plt.scatter(X_train[:,0], X_train[:,1], c=y_train, cmap=cm.bwr)\n",
    "if FLAG_fig: plt.savefig('fig_SVM_SM_Train.png')\n",
    "plt.show()"
   ]
  },
  {
   "cell_type": "code",
   "execution_count": null,
   "metadata": {},
   "outputs": [],
   "source": [
    "clf = svm.SVC(kernel='linear', C=10000) # Cの値を大きくして，なるべく他クラスへの混入を認めない\n",
    "clf.fit(X_train, y_train)"
   ]
  },
  {
   "cell_type": "code",
   "execution_count": null,
   "metadata": {
    "scrolled": false
   },
   "outputs": [],
   "source": [
    "plt.scatter(X_train[:, 0], X_train[:, 1], s=30, c=y_train, cmap=cm.bwr)\n",
    "# plot hyper-plane and margin liness as the lines\n",
    "ax = plt.gca() # get current axis\n",
    "xlim = ax.get_xlim()\n",
    "ylim = ax.get_ylim()\n",
    "# create grid to evaluate the lines\n",
    "xx = np.linspace(xlim[0], xlim[1], 30)\n",
    "yy = np.linspace(ylim[0], ylim[1], 30)\n",
    "YY, XX = np.meshgrid(yy, xx)\n",
    "xy = np.vstack([XX.ravel(), YY.ravel()]).T\n",
    "# 超平面までの距離を求め，次にグリッドに合わせてreshape((30,30))\n",
    "Z = clf.decision_function(xy).reshape(XX.shape)\n",
    "# マージンの境界線と超平面を等高線に描く\n",
    "ax.contour(XX, YY, Z, colors='k', levels=[-1, 0, 1], alpha=0.5, #等高線の本数と間隔をlevelsで指定\n",
    "           linestyles=['--', '-', '--'])\n",
    "# plot support vectors\n",
    "#ax.scatter(clf.support_vectors_[:, 0], clf.support_vectors_[:, 1], s=200, c='w', edgecolors='k')\n",
    "if FLAG_fig: plt.savefig('fig_SVM_SM_Train_Result.png')\n",
    "plt.show()"
   ]
  },
  {
   "cell_type": "markdown",
   "metadata": {},
   "source": [
    "#### トレーニングデータに対する評価"
   ]
  },
  {
   "cell_type": "code",
   "execution_count": null,
   "metadata": {},
   "outputs": [],
   "source": [
    "y_train[0:10]\n",
    "print('トレーニングデータ　正解率', clf.score(X_train, y_train))   "
   ]
  },
  {
   "cell_type": "code",
   "execution_count": null,
   "metadata": {},
   "outputs": [],
   "source": [
    "y_train_pred = clf.predict(X_train)\n",
    "print(\"予測値: %s\" % y_train_pred)\n",
    "print(\"真値　: %s\" % y_train)"
   ]
  },
  {
   "cell_type": "markdown",
   "metadata": {},
   "source": [
    "トレーニングデータに対する評価，下記のaccuracy と上記のclf.score()は同じ計算"
   ]
  },
  {
   "cell_type": "code",
   "execution_count": null,
   "metadata": {},
   "outputs": [],
   "source": [
    "print('confusion = \\n %s' % confusion_matrix(y_train, y_train_pred)) # 混同行列\n",
    "print('accuracy = %f ' % accuracy_score(y_train, y_train_pred))  # 正答率\n",
    "print('precision = %f ' % precision_score(y_train, y_train_pred)) # 適合率\n",
    "print('recall = %f ' % recall_score(y_train, y_train_pred)) # 再現率\n",
    "print('F-measure = %f' % f1_score(y_train, y_train_pred)) # F-値"
   ]
  },
  {
   "cell_type": "code",
   "execution_count": null,
   "metadata": {
    "scrolled": true
   },
   "outputs": [],
   "source": [
    "print( classification_report(y_train, y_train_pred)) # 正答率（accuracy）はavg/totalに"
   ]
  },
  {
   "cell_type": "markdown",
   "metadata": {},
   "source": [
    "上記の結果の見方，\"0\", \"1\"はクラス名で，それぞれの立場での 評価指標が示されている。\n",
    "上記の一つ一つの評価では，\"1\"の立場で見ていることと同じである。また，F-measureとf1-scoreは同じ量を示す。"
   ]
  },
  {
   "cell_type": "markdown",
   "metadata": {},
   "source": [
    "#### テストデータに対する評価"
   ]
  },
  {
   "cell_type": "code",
   "execution_count": null,
   "metadata": {},
   "outputs": [],
   "source": [
    "y_test_pred = clf.predict(X_test)\n",
    "print(\"予測値: %s\" % y_test_pred)\n",
    "print(\"真値　: %s\" % y_test)"
   ]
  },
  {
   "cell_type": "code",
   "execution_count": null,
   "metadata": {},
   "outputs": [],
   "source": [
    "print('テストデータ　　　　　正解率', clf.score(X_test, y_test))   \n",
    "print('confusion = \\n %s' % confusion_matrix(y_test, y_test_pred))\n",
    "print('accuracy = %f ' % accuracy_score(y_test, y_test_pred))\n",
    "print('precision = %f ' % precision_score(y_test, y_test_pred))\n",
    "print('recall = %f ' % recall_score(y_test, y_test_pred))\n",
    "print('F-measure = %f' % f1_score(y_test, y_test_pred))"
   ]
  },
  {
   "cell_type": "code",
   "execution_count": null,
   "metadata": {
    "scrolled": true
   },
   "outputs": [],
   "source": [
    "print( classification_report(y_test, y_test_pred))"
   ]
  },
  {
   "cell_type": "code",
   "execution_count": null,
   "metadata": {
    "scrolled": true
   },
   "outputs": [],
   "source": [
    "plt.scatter(X_test[:, 0], X_test[:, 1], s=30, c=y_test, cmap=cm.bwr)\n",
    "ax = plt.gca() # get current axis\n",
    "ax.contour(XX, YY, Z, colors='k', levels=[-1, 0, 1], alpha=0.5,            linestyles=['--', '-', '--'])\n",
    "if FLAG_fig: plt.savefig('fig_SVM_SM_Test.png')\n",
    "plt.show()"
   ]
  }
 ],
 "metadata": {
  "kernelspec": {
   "display_name": "Python 3",
   "language": "python",
   "name": "python3"
  },
  "language_info": {
   "codemirror_mode": {
    "name": "ipython",
    "version": 3
   },
   "file_extension": ".py",
   "mimetype": "text/x-python",
   "name": "python",
   "nbconvert_exporter": "python",
   "pygments_lexer": "ipython3",
   "version": "3.7.0"
  }
 },
 "nbformat": 4,
 "nbformat_minor": 2
}
