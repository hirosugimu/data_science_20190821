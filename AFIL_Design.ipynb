{
 "cells": [
  {
   "cell_type": "markdown",
   "metadata": {},
   "source": [
    "# アナログフィルタの設計（Analog Filter Design)\n",
    "バタワース，チェビシェフフィルタの設計を示す。この際，次を共通して用いる。<br>\n",
    "scipy.signal.iirfilter https://docs.scipy.org/doc/scipy/reference/generated/scipy.signal.iirfilter.html  \n",
    "\n",
    "アナログフィルタの周波数応答は次を用いる。<br>\n",
    "scipy.signal.freqs  https://docs.scipy.org/doc/scipy/reference/generated/scipy.signal.freqs.html<br>\n",
    "この二つのページ共に，[rad/s]で計算することを述べている。"
   ]
  },
  {
   "cell_type": "code",
   "execution_count": null,
   "metadata": {},
   "outputs": [],
   "source": [
    "# coding: utf-8\n",
    "import numpy as np\n",
    "from scipy import signal\n",
    "import matplotlib.pyplot as plt\n",
    "%matplotlib inline\n",
    "\n",
    "FLAG_fig = False"
   ]
  },
  {
   "cell_type": "markdown",
   "metadata": {},
   "source": [
    "### フィルタ仕様\n",
    "ローパスフィルタの場合　カットオフ周波数 wc[rad/s]，周波数レンジ（範囲）は $[10^0 ,10^3]$ とする<br>\n",
    "バンドパスフィルタの場合は，スクリプト参照"
   ]
  },
  {
   "cell_type": "code",
   "execution_count": null,
   "metadata": {},
   "outputs": [],
   "source": [
    "wc = 100 #Cut off  [rad/s]\n",
    "W_range = np.logspace(0, 3, 100) # [10^0 ,10^3] [rad/s], 100 samples"
   ]
  },
  {
   "cell_type": "markdown",
   "metadata": {},
   "source": [
    "### バタワースフィルタ（Butterworth filter）\n",
    "バタワースフィルタはIIRフィルタの一種であり，有理多項式となるため，分子と分母の係数を求める。"
   ]
  },
  {
   "cell_type": "markdown",
   "metadata": {},
   "source": [
    "#### ローパスフィルタ"
   ]
  },
  {
   "cell_type": "code",
   "execution_count": null,
   "metadata": {},
   "outputs": [],
   "source": [
    "fig = plt.subplots(figsize=(8,4))\n",
    "\n",
    "for order in [1, 2, 3, 4, 5]:\n",
    "    b, a = signal.iirfilter(N = order, Wn = wc, \n",
    "                            btype='lowpass', analog=True, ftype='butter')\n",
    "#    print('b = ', b) # numerator coefficient\n",
    "#    print('a = ', a) # denominator coefficient\n",
    "    w, h = signal.freqs(b, a, W_range)\n",
    "    gain = 20*np.log10(abs(h))\n",
    "    plt.plot(w, gain, label=('order '+str(order)) )\n",
    "\n",
    "plt.xscale('log')\n",
    "plt.ylim(-30, 0)\n",
    "plt.grid(which = \"both\", axis='both', ls=\"--\")\n",
    "plt.xlabel('omega [rad / s]')\n",
    "plt.ylabel('Gain [dB]')\n",
    "\n",
    "plt.axvline(wc, color='g', ls='--') # cutoff frequency\n",
    "plt.axhline(-3, color='g', label='-3 [dB]', ls='--') # -3 dB\n",
    "\n",
    "plt.margins(0, 0.1) #これが無いと，横軸左端の目盛り 10^0 の左横に少し空白が生じる\n",
    "plt.legend()\n",
    "\n",
    "if FLAG_fig: plt.savefig('fig_AFLT_Butter_Lowpass_1.png')\n",
    "plt.show()"
   ]
  },
  {
   "cell_type": "markdown",
   "metadata": {},
   "source": [
    "上のグラフの横軸の単位 [rad/s]が見づらい場合には，$2 \\pi f = \\omega$ （$f$ [Hz],  $\\omega$ [rad/s]）の関係を用いて，スクリプト中で  frq = w/(2*np.pi)  とおく。  frqの単位は[Hz]であり， plt.plot(frq, gain) とすれば，配列の要素順は変わらないので，横軸が[Hz]のグラフとなる"
   ]
  },
  {
   "cell_type": "code",
   "execution_count": null,
   "metadata": {},
   "outputs": [],
   "source": [
    "fig = plt.subplots(figsize=(8,4))\n",
    "\n",
    "f_range = np.logspace(0, 3, 100)\n",
    "\n",
    "for order in [1, 2, 3, 4, 5]:\n",
    "    b, a = signal.iirfilter(N = order, Wn = wc, \n",
    "                            btype='lowpass', analog=True, ftype='butter')\n",
    "    w, h = signal.freqs(b, a, W_range)\n",
    "    frq = w/(2*np.pi)\n",
    "    gain = 20*np.log10(abs(h))\n",
    "    plt.plot(frq, gain, label=('order '+str(order)) )\n",
    "\n",
    "plt.xscale('log')\n",
    "plt.ylim(-30, 0)\n",
    "plt.grid(which = \"both\", axis='both', ls=\"--\")\n",
    "plt.xlabel('f [Hz]')\n",
    "plt.ylabel('Gain [dB]')\n",
    "plt.axhline(-3, color='g', label='-3 [dB]', ls='--') # -3 dB\n",
    "\n",
    "plt.margins(0, 0.1) #これが無いと，横軸左端の目盛り 10^0 の左横に少し空白が生じる\n",
    "plt.legend()\n",
    "\n",
    "if FLAG_fig: plt.savefig('fig_AFLT_Butter_Lowpass_2.png')\n",
    "plt.show()"
   ]
  },
  {
   "cell_type": "markdown",
   "metadata": {},
   "source": [
    "#### バンドバスフィルタ\n",
    "Ref. http://scipy-cookbook.readthedocs.io/items/ButterworthBandpass.html"
   ]
  },
  {
   "cell_type": "code",
   "execution_count": null,
   "metadata": {},
   "outputs": [],
   "source": [
    "wc_L = 500.0    # 下限カットオフ周波数　[rad/s]\n",
    "wc_H = 1500.0   # 上限カットオフ周波数  [rad/s]\n",
    "W_linear_range = np.arange(0,2500) # linear scale\n",
    "\n",
    "for order in [3, 6, 9]:\n",
    "    b, a = signal.iirfilter(N=order, Wn=[wc_L, wc_H], btype='bandpass', analog=True, ftype='butter')\n",
    "    w, h = signal.freqs(b, a, W_linear_range)\n",
    "    plt.plot(w, abs(h), label=('order '+str(order)) )\n",
    "\n",
    "plt.ylim(0, 1.2)\n",
    "plt.xlim(0, 2500)\n",
    "plt.xlabel('omega [rad / s]')\n",
    "plt.ylabel('Gain [Linear]')\n",
    "\n",
    "plt.axhline(1/np.sqrt(2), color='g', label='1/sqrt(2) gain', ls='--') # 1/sqrt(2) -> -3 dB\n",
    "plt.legend()\n",
    "plt.grid()\n",
    "\n",
    "if FLAG_fig: plt.savefig('fig_AFLT_Butter_Bandpass_1.png')\n",
    "plt.show()"
   ]
  },
  {
   "cell_type": "markdown",
   "metadata": {},
   "source": [
    "#### ハイパスフィルタは各自で考えてください"
   ]
  },
  {
   "cell_type": "markdown",
   "metadata": {},
   "source": [
    "### チェビシェフ多項式（Chebyshev polynomial）\n",
    "https://en.wikipedia.org/wiki/Chebyshev_polynomials <br>\n",
    "https://docs.scipy.org/doc/numpy/reference/routines.polynomials.chebyshev.html  \n",
    "この多項式が，次のチェビシェフフィルタに用いられる。"
   ]
  },
  {
   "cell_type": "code",
   "execution_count": null,
   "metadata": {},
   "outputs": [],
   "source": [
    "x = np.linspace(-np.pi/2, np.pi/2, num=100)"
   ]
  },
  {
   "cell_type": "code",
   "execution_count": null,
   "metadata": {},
   "outputs": [],
   "source": [
    "c0 = np.polynomial.chebyshev.chebval(x,[1])\n",
    "c2 = np.polynomial.chebyshev.chebval(x,[0,0,1])\n",
    "c4 = np.polynomial.chebyshev.chebval(x,[0,0,0,0,1])\n",
    "c6 = np.polynomial.chebyshev.chebval(x,[0,0,0,0,0,0,1])"
   ]
  },
  {
   "cell_type": "code",
   "execution_count": null,
   "metadata": {},
   "outputs": [],
   "source": [
    "fig = plt.subplots(figsize=(12,4))\n",
    "plt.plot(x, c0, label='order 0')\n",
    "plt.plot(x, c2, label='order 2')\n",
    "plt.plot(x, c4, label='order 4')\n",
    "plt.plot(x, c6, label='order 6')\n",
    "\n",
    "plt.title('Even order')\n",
    "plt.xlim(x.min(), x.max())\n",
    "plt.ylim(-3,3)\n",
    "plt.grid()\n",
    "plt.legend()\n",
    "\n",
    "if FLAG_fig: plt.savefig('fig_Chebyshev_Polynomial_1.png')\n",
    "plt.show()"
   ]
  },
  {
   "cell_type": "code",
   "execution_count": null,
   "metadata": {},
   "outputs": [],
   "source": [
    "c1 = np.polynomial.chebyshev.chebval(x,[0,1])\n",
    "c3 = np.polynomial.chebyshev.chebval(x,[0,0,0,1])\n",
    "c5 = np.polynomial.chebyshev.chebval(x,[0,0,0,0,0,1])\n",
    "c7 = np.polynomial.chebyshev.chebval(x,[0,0,0,0,0,0,0,1])"
   ]
  },
  {
   "cell_type": "code",
   "execution_count": null,
   "metadata": {},
   "outputs": [],
   "source": [
    "fig = plt.subplots(figsize=(12,4))\n",
    "#plt.plot(x,c0, x,c1, x,c3, x,c5)\n",
    "\n",
    "plt.plot(x, c1, label='order 1')\n",
    "plt.plot(x, c3, label='order 3')\n",
    "plt.plot(x, c5, label='order 5')\n",
    "plt.plot(x, c7, label='order 7')\n",
    "\n",
    "plt.title('Odd order')\n",
    "plt.xlim(x.min(), x.max())\n",
    "plt.ylim(-3,3)\n",
    "plt.grid()\n",
    "plt.legend()\n",
    "\n",
    "if FLAG_fig: plt.savefig('fig_Chebyshev_Polynomial_2.png')\n",
    "plt.show()"
   ]
  },
  {
   "cell_type": "markdown",
   "metadata": {},
   "source": [
    "### チェビシェフフィルタ（Chebyshev filter）\n",
    "https://en.wikipedia.org/wiki/Chebyshev_filter  "
   ]
  },
  {
   "cell_type": "markdown",
   "metadata": {},
   "source": [
    "第1種 <br>\n",
    "$$ \\textrm{ripple [dB]} = 20 \\log_{10}\\frac{1}{\\sqrt{1+\\varepsilon^2}} $$\n",
    "この左辺を与えて，内部では$\\epsilon$を計算して，これをチェビシェフ第1種フィルタの式に与えている。<br>\n",
    "この式は次を参照：https://en.wikipedia.org/wiki/Chebyshev_filter　  \n",
    "https://docs.scipy.org/doc/scipy/reference/generated/scipy.signal.cheby1.html"
   ]
  },
  {
   "cell_type": "code",
   "execution_count": null,
   "metadata": {
    "scrolled": true
   },
   "outputs": [],
   "source": [
    "fig = plt.subplots(figsize=(8,4))\n",
    "\n",
    "ripple = 5 # [dB]\n",
    "b, a = signal.iirfilter(N=4, Wn=wc, rp=ripple, \n",
    "                        btype='low', analog=True, ftype='cheby1')\n",
    "w, h = signal.freqs(b, a, W_range)\n",
    "plt.semilogx(w, 20 * np.log10(abs(h)))\n",
    "\n",
    "plt.title('Chebyshev Type I frequency response (rp='+str(ripple)+')')\n",
    "plt.xlabel('omega [rad / s]')\n",
    "plt.ylabel('Gain [dB]')\n",
    "\n",
    "plt.ylim(-30,1)\n",
    "plt.grid(which='both', axis='both')\n",
    "\n",
    "plt.axvline(wc, color='g', ls='--') # cutoff frequency\n",
    "plt.axhline(-3, color='g', label='-3 [dB]', ls='--') # -3 dB\n",
    "plt.axhline(-ripple, color='orangered', label='ripple', ls='--') # ripple\n",
    "\n",
    "plt.legend()\n",
    "plt.margins(0, 0.1)\n",
    "\n",
    "if FLAG_fig: plt.savefig('fig_AFLT_Cheby1_Lowpass.png')\n",
    "plt.show()"
   ]
  },
  {
   "cell_type": "markdown",
   "metadata": {},
   "source": [
    "第2種　https://docs.scipy.org/doc/scipy/reference/generated/scipy.signal.cheby2.html"
   ]
  },
  {
   "cell_type": "code",
   "execution_count": null,
   "metadata": {},
   "outputs": [],
   "source": [
    "fig = plt.subplots(figsize=(8,4))\n",
    "\n",
    "ripple = 20 # [dB]\n",
    "b, a = signal.iirfilter(N=4, Wn=wc, rs=ripple, btype='low', analog=True, ftype='cheby2')\n",
    "w, h = signal.freqs(b, a, W_range)\n",
    "plt.semilogx(w, 20 * np.log10(abs(h)))\n",
    "\n",
    "plt.title('Chebyshev Type II frequency response (rs='+str(ripple)+')')\n",
    "plt.xlabel('omega [rad / s]')\n",
    "plt.ylabel('Gain [dB]')\n",
    "\n",
    "plt.ylim(-30,1)\n",
    "plt.grid(which='both', axis='both')\n",
    "\n",
    "plt.axvline(wc, color='g', ls='--') # cutoff frequency\n",
    "plt.axhline(-3, color='g', label='-3 [dB]', ls='--') # -3 dB\n",
    "plt.axhline(-ripple, color='orangered', label='ripple', ls='--') # ripple\n",
    "\n",
    "plt.margins(0, 0.1)\n",
    "\n",
    "if FLAG_fig: plt.savefig('fig_AFLT_Cheby2_Lowpass.png')\n",
    "plt.savefig('fig_AFLT_Cheby2_Lowpass.png')\n",
    "plt.show()"
   ]
  },
  {
   "cell_type": "code",
   "execution_count": null,
   "metadata": {},
   "outputs": [],
   "source": []
  }
 ],
 "metadata": {
  "kernelspec": {
   "display_name": "Python 3",
   "language": "python",
   "name": "python3"
  },
  "language_info": {
   "codemirror_mode": {
    "name": "ipython",
    "version": 3
   },
   "file_extension": ".py",
   "mimetype": "text/x-python",
   "name": "python",
   "nbconvert_exporter": "python",
   "pygments_lexer": "ipython3",
   "version": "3.7.0"
  }
 },
 "nbformat": 4,
 "nbformat_minor": 2
}
