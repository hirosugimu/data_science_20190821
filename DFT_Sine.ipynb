{
 "cells": [
  {
   "cell_type": "markdown",
   "metadata": {},
   "source": [
    "# DFT(Discrete Fourier Transform)\n",
    "\n",
    "scipy.fftpackを使用　https://docs.scipy.org/doc/scipy/reference/fftpack.html<br>\n",
    "dft, fftは，numpy.fft.fftにもあるが，上記を使用する。<br>\n",
    "wiki https://en.wikipedia.org/wiki/Discrete_Fourier_transform <br>"
   ]
  },
  {
   "cell_type": "code",
   "execution_count": null,
   "metadata": {},
   "outputs": [],
   "source": [
    "# coding: utf-8\n",
    "import numpy as np\n",
    "\n",
    "#from scipy import signal\n",
    "import scipy.fftpack\n",
    "\n",
    "import matplotlib.pyplot as plt\n",
    "%matplotlib inline\n",
    "\n",
    "np.random.seed(123)\n",
    "FLAG_fig = False"
   ]
  },
  {
   "cell_type": "markdown",
   "metadata": {},
   "source": [
    "#### サイン波の周期の整数倍を観測"
   ]
  },
  {
   "cell_type": "code",
   "execution_count": null,
   "metadata": {},
   "outputs": [],
   "source": [
    "f0 = 1.5  # 基本周波数 [Hz]\n",
    "T = 2/f0  # 観測時間[s],  分子が観測する周期の数を表す\n",
    "N = 16    # サンプル数\n",
    "dt = T/N  # サンプリング時間\n",
    "df = 1/T  # 周波数分解能\n",
    "A = 2.0\n",
    "t = np.linspace(0, N-1, N)*dt # 時間軸\n",
    "x = A*np.sin(2*np.pi*f0*t)      # 観測信号\n",
    "\n",
    "plt.plot(t, x, marker='.')\n",
    "plt.grid()\n",
    "if FLAG_fig: plt.savefig('fig_DFT_1_sine.png')"
   ]
  },
  {
   "cell_type": "markdown",
   "metadata": {},
   "source": [
    "scipy.fftpack.fft https://docs.scipy.org/doc/scipy/reference/generated/scipy.fftpack.fft.html<br>\n",
    "実部：縦軸対称，　虚部：原点対称<br>\n",
    "サイン波の離散フーリエ変換：虚部のみに値が生じ，原点（中心）対称となる。"
   ]
  },
  {
   "cell_type": "markdown",
   "metadata": {},
   "source": [
    "周波数分解能 $\\Delta f = 1/T = 1/(N\\Delta t)$\n",
    "\n",
    "$$\n",
    "X\\left( {m \\Delta f} \\right) = \\mathop {{\\rm{DFT}}}\\limits_{n=0} \\left( {A\\,\\sin \\left( {2\\pi {f_0}\\,\\Delta t\\;n} \\right)} \\right) = \\frac{{NA}}{2}\\left( { - j\\delta \\left( {m\\Delta f - f_0} \\right) + j\\delta \\left( {(m-N) \\Delta f + f_0} \\right)} \\right)\n",
    "$$\n",
    "$$\n",
    "n, m = 1, \\cdots, N-1\n",
    "$$\n",
    "これより，DFTの振幅は (N*A)/2  = (16*2)/2=16,  m=2, N-2 で生じる"
   ]
  },
  {
   "cell_type": "code",
   "execution_count": null,
   "metadata": {
    "scrolled": false
   },
   "outputs": [],
   "source": [
    "dft = scipy.fftpack.fft(x)  # xのDFT\n",
    "print('DFT = \\n',dft)\n",
    "plt.stem(np.real(dft), markerfmt='ro')\n",
    "plt.stem(np.imag(dft), markerfmt='bx')\n",
    "plt.xlabel('sequence-number')\n",
    "if FLAG_fig: plt.savefig('fig_DFT_1_DFT.png')"
   ]
  },
  {
   "cell_type": "code",
   "execution_count": null,
   "metadata": {},
   "outputs": [],
   "source": [
    "esd = (np.abs(dft)**2) # エネルギースペクトル\n",
    "psd = esd/T            # パワースペクトル\n",
    "\n",
    "plt.stem(psd)\n",
    "plt.xlabel('sequence-number')\n",
    "plt.ylabel('PSD')\n",
    "if FLAG_fig: plt.savefig('fig_DFT_1_PSD.png')"
   ]
  },
  {
   "cell_type": "markdown",
   "metadata": {},
   "source": [
    "#### 周期の非整数倍を観測"
   ]
  },
  {
   "cell_type": "code",
   "execution_count": null,
   "metadata": {
    "scrolled": false
   },
   "outputs": [],
   "source": [
    "f0 = 1.25 # 基本周波数 [Hz]\n",
    "T = 1     # 観測時間[s]\n",
    "N = 20    # サンプル数\n",
    "dt = T/N  # サンプリング時間\n",
    "df = 1/T  # 周波数分解能\n",
    "t = np.linspace(0, N-1, N)*dt # 時間軸\n",
    "x = np.sin(2*np.pi*f0*t)      # 観測信号\n",
    "\n",
    "plt.plot(t,x, marker='.')\n",
    "plt.xlabel('time[s]')\n",
    "plt.grid()\n",
    "plt.xlim(0,1)\n",
    "if FLAG_fig: plt.savefig('fig_DFT_1_nonint_sine.png')"
   ]
  },
  {
   "cell_type": "code",
   "execution_count": null,
   "metadata": {},
   "outputs": [],
   "source": [
    "dft = dt*scipy.fftpack.fft(x) # フーリエ変換\n",
    "esd = (np.abs(dft)**2) # エネルギースペクトル\n",
    "psd = esd/T            # パワースペクトル\n",
    "freq = np.fft.fftfreq(x.size, d=dt) # 周波数軸\n",
    "\n",
    "labels = 'N='+str(N)+', T='+str(T)+' df='+f\"{df:1.2f}\"\n",
    "plt.stem(freq, psd, label=labels)\n",
    "plt.legend()\n",
    "plt.xlabel('Frequency [Hz]')\n",
    "plt.ylabel('Power Spectrum')\n",
    "if FLAG_fig: plt.savefig('fig_DFT_1_NonintPSD1.png')"
   ]
  },
  {
   "cell_type": "code",
   "execution_count": null,
   "metadata": {},
   "outputs": [],
   "source": [
    "f0 = 1.25 # 基本周波数 [Hz]\n",
    "T = 3     #  観測時間[s]\n",
    "N = 20    # サンプル数\n",
    "dt = T/N  # サンプリング時間\n",
    "df = 1/T  # 周波数分解能\n",
    "t = np.linspace(0, T-dt, N)\n",
    "x = np.sin(2*np.pi*f0*t)\n",
    "\n",
    "dft = dt*scipy.fftpack.fft(x)\n",
    "esd = (np.abs(dft)**2)\n",
    "psd = esd/T\n",
    "freq = np.fft.fftfreq(x.size, d=dt) # 周波数軸\n",
    "\n",
    "labels = 'N='+str(N)+', T='+str(T)+' df='+f\"{df:1.2f}\"\n",
    "plt.stem(freq, psd, label=labels)\n",
    "plt.legend(loc='upper left')\n",
    "plt.xlabel('Frequency [Hz]')\n",
    "plt.ylabel('Power Spectrum')\n",
    "if FLAG_fig: plt.savefig('fig_DFT_1_NonintPSD2.png')"
   ]
  },
  {
   "cell_type": "code",
   "execution_count": null,
   "metadata": {},
   "outputs": [],
   "source": [
    "f0 = 1.25 # 基本周波数 [Hz]\n",
    "N = 20    # サンプル数\n",
    "T = 6     #  観測時間[s]\n",
    "dt = T/N  # サンプリング時間\n",
    "df = 1/T  # 周波数分解能\n",
    "t = np.linspace(0, T-dt, N)\n",
    "x = np.sin(2*np.pi*f0*t)\n",
    "\n",
    "dft = dt*scipy.fftpack.fft(x)\n",
    "esd = (np.abs(dft)**2)\n",
    "psd = esd/T\n",
    "freq = np.fft.fftfreq(x.size, d=dt) # 周波数軸\n",
    "\n",
    "labels = 'N='+str(N)+', T='+str(T)+' df='+f\"{df:1.2f}\"\n",
    "plt.stem(freq, psd, label=labels)\n",
    "plt.legend()\n",
    "plt.xlabel('Frequency [Hz]')\n",
    "plt.ylabel('Power Spectrum')\n",
    "if FLAG_fig: plt.savefig('fig_DFT_1_NonintPSD3.png')"
   ]
  },
  {
   "cell_type": "code",
   "execution_count": null,
   "metadata": {},
   "outputs": [],
   "source": [
    "f0 = 1.25 # 基本周波数 [Hz]\n",
    "N = 40    # サンプル数\n",
    "T = 3     #  観測時間[s]\n",
    "dt = T/N  # サンプリング時間\n",
    "df = 1/T  # 周波数分解能\n",
    "t = np.linspace(0, T-dt, N)\n",
    "x = np.sin(2*np.pi*f0*t)\n",
    "\n",
    "dft = dt*scipy.fftpack.fft(x)\n",
    "esd = (np.abs(dft)**2)\n",
    "psd = esd/T\n",
    "freq = np.fft.fftfreq(x.size, d=dt) # 周波数軸\n",
    "\n",
    "labels = 'N='+str(N)+', T='+str(T)+' df='+f\"{df:1.2f}\"\n",
    "plt.stem(freq, psd, label=labels)\n",
    "plt.legend()\n",
    "plt.xlabel('Frequency [Hz]')\n",
    "plt.ylabel('Power Spectrum')\n",
    "if FLAG_fig: plt.savefig('fig_DFT_1_NonintPSD4.png')"
   ]
  },
  {
   "cell_type": "code",
   "execution_count": null,
   "metadata": {},
   "outputs": [],
   "source": [
    "f0 = 1.25 # 基本周波数 [Hz]\n",
    "N = 40    # サンプル数\n",
    "T = 6     #  観測時間[s]\n",
    "dt = T/N  # サンプリング時間\n",
    "df = 1/T  # 周波数分解能\n",
    "t = np.linspace(0, T-dt, N)\n",
    "x = np.sin(2*np.pi*f0*t)\n",
    "\n",
    "dft = dt*scipy.fftpack.fft(x)\n",
    "esd = (np.abs(dft)**2)\n",
    "psd = esd/T\n",
    "freq = np.fft.fftfreq(x.size, d=dt) # 周波数軸\n",
    "\n",
    "labels = 'N='+str(N)+', T='+str(T)+' df='+f\"{df:1.2f}\"\n",
    "plt.stem(freq, psd, label=labels)\n",
    "plt.legend(loc='upper left')\n",
    "plt.xlabel('Frequency [Hz]')\n",
    "plt.ylabel('Power Spectrum')\n",
    "if FLAG_fig: plt.savefig('fig_DFT_1_NonintPSD5.png')"
   ]
  },
  {
   "cell_type": "code",
   "execution_count": null,
   "metadata": {},
   "outputs": [],
   "source": []
  }
 ],
 "metadata": {
  "kernelspec": {
   "display_name": "Python 3",
   "language": "python",
   "name": "python3"
  },
  "language_info": {
   "codemirror_mode": {
    "name": "ipython",
    "version": 3
   },
   "file_extension": ".py",
   "mimetype": "text/x-python",
   "name": "python",
   "nbconvert_exporter": "python",
   "pygments_lexer": "ipython3",
   "version": "3.7.0"
  }
 },
 "nbformat": 4,
 "nbformat_minor": 2
}
