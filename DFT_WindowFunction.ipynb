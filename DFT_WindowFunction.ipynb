{
 "cells": [
  {
   "cell_type": "markdown",
   "metadata": {},
   "source": [
    "# Window Function\n",
    "scipyが提供するWindow funtcion　https://docs.scipy.org/doc/scipy/reference/signal.html<br>\n",
    "Window functionの解説　https://en.wikipedia.org/wiki/Window_function#Kaiser_window"
   ]
  },
  {
   "cell_type": "code",
   "execution_count": null,
   "metadata": {},
   "outputs": [],
   "source": [
    "# coding: utf-8\n",
    "import numpy as np\n",
    "\n",
    "from scipy import signal \n",
    "import scipy.fftpack\n",
    "\n",
    "import matplotlib.pyplot as plt\n",
    "%matplotlib inline\n",
    "\n",
    "np.random.seed(123)\n",
    "FLAG_fig = False"
   ]
  },
  {
   "cell_type": "markdown",
   "metadata": {},
   "source": [
    "Kaiser窓について，元の定式の$\\pi \\alpha$をsignal.kaiser(N, beta)のbetaが表している。<br>\n",
    "beta =0 rectangular, =5  similar to a hamming,  =6 similar to hann, =8.6 similar to blackman<br>\n",
    "https://docs.scipy.org/doc/scipy/reference/generated/scipy.signal.kaiser.html"
   ]
  },
  {
   "cell_type": "code",
   "execution_count": null,
   "metadata": {},
   "outputs": [],
   "source": [
    "N = 40    # サンプル数\n",
    "\n",
    "w_hamming = signal.hamming(N)\n",
    "w_hann = signal.hann(N)\n",
    "w_blackman = signal.blackman(N)\n",
    "w_kaiser = signal.kaiser(N, beta=14)"
   ]
  },
  {
   "cell_type": "code",
   "execution_count": null,
   "metadata": {},
   "outputs": [],
   "source": [
    "plt.subplots(figsize=(10,4))\n",
    "plt.plot(w_hamming,  label='hamming')\n",
    "plt.plot(w_hann,     label='hann')\n",
    "plt.plot(w_blackman, label='blackman')\n",
    "plt.plot(w_kaiser,   label='kaiser')\n",
    "\n",
    "plt.xlabel('sample')\n",
    "plt.ylabel('Amplitutde')\n",
    "plt.grid()\n",
    "plt.legend()\n",
    "if FLAG_fig: plt.savefig('DFT_Window1.png')"
   ]
  },
  {
   "cell_type": "code",
   "execution_count": null,
   "metadata": {
    "scrolled": true
   },
   "outputs": [],
   "source": [
    "f0 = 1.25 # 基本周波数 [Hz]\n",
    "T = 6     #  観測時間[s]\n",
    "dt = T/N  # サンプリング時間\n",
    "df = 1/T  # 周波数分解能\n",
    "t = np.linspace(0, N-1, N)*dt\n",
    "x = np.sin(2*np.pi*f0*t)\n",
    "\n",
    "xw = w_hann*x # ﾊﾝ窓の適用\n",
    "\n",
    "plt.plot(t, x, label='x')\n",
    "plt.plot(t, xw, label='w. hann wind.')\n",
    "plt.legend()\n",
    "plt.grid()\n",
    "if FLAG_fig: plt.savefig('DFT_Window2.png')"
   ]
  },
  {
   "cell_type": "code",
   "execution_count": null,
   "metadata": {},
   "outputs": [],
   "source": [
    "dft = dt*scipy.fftpack.fft(x)\n",
    "esd = (np.abs(dft)**2)\n",
    "psd = esd/T\n",
    "freq = np.fft.fftfreq(x.size, d=dt) # 周波数軸\n",
    "\n",
    "#labels = 'N='+str(N)+', T='+str(T)+' df='+f\"{df:1.2f}\"\n",
    "plt.stem(freq, psd)\n",
    "#plt.legend(loc='upper left')\n",
    "plt.xlabel('Frequency [Hz]')\n",
    "plt.ylabel('Power Spectrum')\n",
    "if FLAG_fig: plt.savefig('DFT_Window3.png')"
   ]
  },
  {
   "cell_type": "code",
   "execution_count": null,
   "metadata": {},
   "outputs": [],
   "source": [
    "dft = dt*scipy.fftpack.fft(xw)\n",
    "esd = (np.abs(dft)**2)\n",
    "psd = esd/T\n",
    "freq = np.fft.fftfreq(x.size, d=dt) # 周波数軸\n",
    "\n",
    "#labels = 'N='+str(N)+', T='+str(T)+' df='+f\"{df:1.2f}\"\n",
    "plt.stem(freq, psd)\n",
    "#plt.legend(loc='upper left')\n",
    "plt.xlabel('Frequency [Hz]')\n",
    "plt.ylabel('Power Spectrum')\n",
    "if FLAG_fig: plt.savefig('DFT_Window4.png')"
   ]
  },
  {
   "cell_type": "code",
   "execution_count": null,
   "metadata": {},
   "outputs": [],
   "source": [
    "f0 = 1.25 # 基本周波数 [Hz]\n",
    "T = 8     #  観測時間[s]\n",
    "dt = T/N  # サンプリング時間\n",
    "df = 1/T  # 周波数分解能\n",
    "t = np.linspace(0, N-1, N)*dt\n",
    "x = np.sin(2*np.pi*f0*t)\n",
    "\n",
    "xw = w_hann*x\n",
    "\n",
    "plt.plot(t, xw)\n",
    "plt.grid()\n",
    "if FLAG_fig: plt.savefig('DFT_Window5.png')"
   ]
  },
  {
   "cell_type": "code",
   "execution_count": null,
   "metadata": {},
   "outputs": [],
   "source": [
    "dft = dt*scipy.fftpack.fft(xw)\n",
    "esd = (np.abs(dft)**2)\n",
    "psd = esd/T\n",
    "freq = np.fft.fftfreq(x.size, d=dt) # 周波数軸\n",
    "\n",
    "#labels = 'N='+str(N)+', T='+str(T)+' df='+f\"{df:1.2f}\"\n",
    "plt.stem(freq, psd)\n",
    "#plt.legend(loc='upper left')\n",
    "plt.xlabel('Frequency [Hz]')\n",
    "plt.ylabel('Power Spectrum')\n",
    "if FLAG_fig: plt.savefig('DFT_Window6.png')"
   ]
  },
  {
   "cell_type": "code",
   "execution_count": null,
   "metadata": {},
   "outputs": [],
   "source": []
  }
 ],
 "metadata": {
  "kernelspec": {
   "display_name": "Python 3",
   "language": "python",
   "name": "python3"
  },
  "language_info": {
   "codemirror_mode": {
    "name": "ipython",
    "version": 3
   },
   "file_extension": ".py",
   "mimetype": "text/x-python",
   "name": "python",
   "nbconvert_exporter": "python",
   "pygments_lexer": "ipython3",
   "version": "3.7.0"
  }
 },
 "nbformat": 4,
 "nbformat_minor": 2
}
