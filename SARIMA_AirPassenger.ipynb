{
 "cells": [
  {
   "cell_type": "markdown",
   "metadata": {},
   "source": [
    "# SARIMAX model for AirPassenger\n",
    "Seasonal AutoRegressive Integrated Moving Average with eXogenous model  \n",
    "\n",
    "SARIMAのモデル構造，引数（パラメータ）は次を参照：statsmodels.tsa.statespace.sarimax.SARIMAX  \n",
    "http://www.statsmodels.org/dev/generated/statsmodels.tsa.statespace.sarimax.SARIMAX.html\n",
    "\n",
    "AirPassenger:国際線の航空旅客数，月ごと，1949年1月1日から1960年12月1日まで  \n",
    "https://stat.ethz.ch/R-manual/R-devel/library/datasets/html/AirPassengers.html  \n",
    "\n",
    "このデータアクセスの簡便化を図るため，このCSVファイルを次にアップした。\n",
    "https://sites.google.com/site/datasciencehiro/datasets/  \n",
    "\n"
   ]
  },
  {
   "cell_type": "code",
   "execution_count": null,
   "metadata": {},
   "outputs": [],
   "source": [
    "# -*- coding: utf-8 -*-\n",
    "import numpy as np\n",
    "import pandas as pd\n",
    "from scipy import stats\n",
    "\n",
    "import matplotlib.pyplot as plt\n",
    "%matplotlib inline\n",
    "\n",
    "import statsmodels.api as sm\n",
    "\n",
    "np.random.seed(123)\n",
    "FLAG_fig = False"
   ]
  },
  {
   "cell_type": "code",
   "execution_count": null,
   "metadata": {},
   "outputs": [],
   "source": [
    "url = 'https://sites.google.com/site/datasciencehiro/datasets/AirPassengers.csv'\n",
    "df = pd.read_csv(url, index_col='Date', parse_dates=True)\n",
    "df.head()"
   ]
  },
  {
   "cell_type": "code",
   "execution_count": null,
   "metadata": {
    "scrolled": false
   },
   "outputs": [],
   "source": [
    "df.plot()\n",
    "\n",
    "if FLAG_fig: plt.savefig('fig_SARIMAX_Passenger_data.png')\n",
    "plt.show()"
   ]
  },
  {
   "cell_type": "code",
   "execution_count": null,
   "metadata": {},
   "outputs": [],
   "source": [
    "acf = sm.tsa.stattools.acf(df, nlags=40)\n",
    "#fig, ax = plt.subplots(figsize=(4,4))\n",
    "plt.plot(acf, marker='o')\n",
    "plt.xlabel('lag')\n",
    "plt.ylabel('acf')\n",
    "\n",
    "if FLAG_fig: plt.savefig('fig_SARIMAX_Passenger_data_acf.png')\n",
    "plt.show()"
   ]
  },
  {
   "cell_type": "markdown",
   "metadata": {},
   "source": [
    "次の引数  \n",
    "order = (p,d,q): ARMA(p,q), 差分の次数d  \n",
    "seasonal_order = (P, D, Q, s), 季節性用のモデルの次数で，(P,D,Q)は(p,d,q)に類似したもの。sは季節調整に適用する周期を指定する。  \n",
    "上記のデータの場合，12点ごとに周期性（単位時間で見ている）があるので，s=12とする。"
   ]
  },
  {
   "cell_type": "markdown",
   "metadata": {},
   "source": [
    "もし，ValueWarning: No frequency information was provided, so inferred frequency MS will be used.というWarningが出ても無視して構わない。<br>\n",
    "この警告は時間間隔(frequency)が指定されていなから，MS（month start frequency）を仮定しますよ，と言っている。<br>\n",
    "ちなみに，時間間隔（statsmodelsはOffset Aliasesと称している）は次を参照：http://pandas.pydata.org/pandas-docs/stable/timeseries.html#offset-aliases <br>\n",
    "しかし，dfにはその情報を与えているので，気にしないこととする。<br>\n",
    "それに，statsmodelsが示す次の例題でもこのWarningを出しながら計算を進めている。<br>\n",
    "https://www.statsmodels.org/dev/examples/notebooks/generated/tsa_arma_0.html<br>\n",
    "https://www.statsmodels.org/dev/examples/notebooks/generated/statespace_varmax.html<br>\n"
   ]
  },
  {
   "cell_type": "code",
   "execution_count": null,
   "metadata": {},
   "outputs": [],
   "source": [
    "#SARIMA_model = sm.tsa.SARIMAX(df, order=(3,1,2), seasonal_order=(1,1,1,12)).fit(method='bfgs', maxiter=500)\n",
    "SARIMAX_model = sm.tsa.SARIMAX(df, order=(3,1,2), seasonal_order=(1,1,1,12)).fit(maxiter=200)\n",
    "print(SARIMAX_model.summary())"
   ]
  },
  {
   "cell_type": "code",
   "execution_count": null,
   "metadata": {},
   "outputs": [],
   "source": [
    "# 残差のチェック\n",
    "resid = SARIMAX_model.resid\n",
    "fig, ax = plt.subplots(figsize=(10,4))\n",
    "fig2 = sm.graphics.tsa.plot_acf(resid, lags=40,  alpha=0.05, ax=ax)\n",
    "\n",
    "if FLAG_fig: plt.savefig('fig_SARIMAX_Passenger_resid_acf.png')\n",
    "plt.show()"
   ]
  },
  {
   "cell_type": "code",
   "execution_count": null,
   "metadata": {},
   "outputs": [],
   "source": [
    "#予測\n",
    "pred = SARIMAX_model.predict(start='1960-01-01', end='1962-12-01')"
   ]
  },
  {
   "cell_type": "code",
   "execution_count": null,
   "metadata": {},
   "outputs": [],
   "source": [
    "plt.plot(df)\n",
    "plt.plot(pred, 'r')\n",
    "\n",
    "plt.xlabel('Date')\n",
    "plt.ylabel('Passengers')\n",
    "\n",
    "if FLAG_fig: plt.savefig('fig_SARIMAX_Passenger_predict.png')\n",
    "plt.show()"
   ]
  },
  {
   "cell_type": "code",
   "execution_count": null,
   "metadata": {},
   "outputs": [],
   "source": []
  }
 ],
 "metadata": {
  "kernelspec": {
   "display_name": "Python 3",
   "language": "python",
   "name": "python3"
  },
  "language_info": {
   "codemirror_mode": {
    "name": "ipython",
    "version": 3
   },
   "file_extension": ".py",
   "mimetype": "text/x-python",
   "name": "python",
   "nbconvert_exporter": "python",
   "pygments_lexer": "ipython3",
   "version": "3.7.0"
  }
 },
 "nbformat": 4,
 "nbformat_minor": 2
}
