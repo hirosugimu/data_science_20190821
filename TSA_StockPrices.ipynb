{
 "cells": [
  {
   "cell_type": "markdown",
   "metadata": {},
   "source": [
    "# 株価の時系列データの分析\n",
    "\n",
    "pandas.DataFrame.rolling　https://pandas.pydata.org/pandas-docs/stable/generated/pandas.DataFrame.rolling.html  \n",
    "    "
   ]
  },
  {
   "cell_type": "code",
   "execution_count": null,
   "metadata": {},
   "outputs": [],
   "source": [
    "# -*- coding: utf-8 -*-\n",
    "# Rolling mean statistics\n",
    "import numpy as np\n",
    "import pandas as pd\n",
    "import matplotlib.pyplot as plt\n",
    "%matplotlib inline\n",
    "import matplotlib\n",
    "\n",
    "#import matplotlib.finance as mpf\n",
    "from mpl_finance import candlestick_ohlc\n",
    "from matplotlib.dates import date2num\n",
    "\n",
    "matplotlib.rcParams['font.family'] ='Yu Mincho' # matplotlibで日本語を使う\n",
    "\n",
    "FLAG_fig = False"
   ]
  },
  {
   "cell_type": "code",
   "execution_count": null,
   "metadata": {
    "scrolled": true
   },
   "outputs": [],
   "source": [
    "url = 'https://sites.google.com/site/datasciencehiro/datasets/Stock_7203.txt'\n",
    "df = pd.read_csv(url, index_col='日付', parse_dates=[0] )\n",
    "df = df.sort_index() # 日付を昇順に並び替える\n",
    "df.head()"
   ]
  },
  {
   "cell_type": "markdown",
   "metadata": {},
   "source": [
    "#### 移動平均\n",
    "単純平均と指数重み付き平均"
   ]
  },
  {
   "cell_type": "code",
   "execution_count": null,
   "metadata": {
    "scrolled": false
   },
   "outputs": [],
   "source": [
    "item='終値'\n",
    "W = 25\n",
    "ax = df[item].plot(color='black', label=item)\n",
    "\n",
    "rol = df[item].rolling(window=W).mean()\n",
    "rol.plot(ax=ax, label='移動平均25日', color='red', linestyle='dashed')\n",
    "\n",
    "ewm = df[item].ewm(span=W).mean()\n",
    "ewm.plot(ax=ax, label='指数移動平均スパン25', color='green', linestyle='dashed')\n",
    "\n",
    "plt.grid()\n",
    "plt.legend(loc='upper right')\n",
    "\n",
    "if FLAG_fig: plt.savefig('fig_TSA_StockPrice_result_1.png')\n",
    "plt.show()"
   ]
  },
  {
   "cell_type": "markdown",
   "metadata": {},
   "source": [
    "#### 移動平均,　windowの大きさの影響\n",
    "W＝7日と28日"
   ]
  },
  {
   "cell_type": "code",
   "execution_count": null,
   "metadata": {},
   "outputs": [],
   "source": [
    "item='終値'\n",
    "ax = df[item].plot(color='black', label=item)\n",
    "\n",
    "rol1 = df[item].rolling(window=7).mean()\n",
    "rol1.plot(ax=ax, label='移動平均7日', color='red', linestyle='dashed')\n",
    "\n",
    "rol2 = df[item].rolling(window=28).mean()\n",
    "rol2.plot(ax=ax, label='移動平均28日', color='green', linestyle='dashed')\n",
    "\n",
    "plt.grid()\n",
    "plt.legend(loc='upper right')\n",
    "\n",
    "if FLAG_fig: plt.savefig('fig_TSA_StockPrice_result_2.png')\n",
    "plt.show()"
   ]
  },
  {
   "cell_type": "markdown",
   "metadata": {},
   "source": [
    "#### ボリンジャーバンド（Bollinger bands)"
   ]
  },
  {
   "cell_type": "code",
   "execution_count": null,
   "metadata": {
    "scrolled": true
   },
   "outputs": [],
   "source": [
    "item = '終値'\n",
    "W = 25\n",
    "ax = df[item].plot(label=item, color='black', linestyle='solid')\n",
    "rolm = df[item].rolling(window=W).mean()\n",
    "rolst = df[item].rolling(window=W).std() #unbiased\n",
    "m = 2\n",
    "upper_band = rolm + rolst*m\n",
    "lower_band = rolm - rolst*m\n",
    "\n",
    "rolm.plot(ax=ax, label='移動平均25日', color='green', linestyle='solid')\n",
    "upper_band.plot(ax=ax, label='Upper band', color='red', linestyle='dashed')\n",
    "lower_band.plot(ax=ax, label='Lower band', color='blue', linestyle='dashed')\n",
    "\n",
    "plt.grid()\n",
    "plt.legend(loc='upper right')\n",
    "\n",
    "if FLAG_fig: plt.savefig('fig_TSA_StockPrice_BollingerBand.png')\n",
    "plt.show()"
   ]
  },
  {
   "cell_type": "markdown",
   "metadata": {},
   "source": [
    "#### ローソク足チャート\n",
    "・もともと，matplotlib.financeにあったが，現在はmaplotlibは提供していない。  \n",
    "・現在は，githubから提供：　https://github.com/matplotlib/mpl_finance  \n",
    "・ただし，使用法は次を参照されたい：https://matplotlib.org/api/finance_api.html"
   ]
  },
  {
   "cell_type": "code",
   "execution_count": null,
   "metadata": {},
   "outputs": [],
   "source": [
    "df0 = df.loc['20170901':'20170930', ['始値','高値','安値','終値']] #2017年9月，1か月だけを見る\n",
    "\n",
    "df0['終値'].plot(label='9月の終値') #終値のプロット\n",
    "plt.legend(loc='upper left')\n",
    "if FLAG_fig: plt.savefig('fig_TSA_StockPrice_Plot_CandleStick_1.png')\n",
    "    \n",
    "fig, ax = plt.subplots()\n",
    "\n",
    "xdate = [x.date() for x in df0.index] #Timestamp -> datetime\n",
    "ohlc = np.vstack((date2num(xdate), df0.values.T)).T #datetime -> float\n",
    "candlestick_ohlc(ax, ohlc, width=0.7, colorup='g', colordown='r')\n",
    "\n",
    "plt.title('9月のローソク足')\n",
    "ax.grid() #グリッド表示\n",
    "ax.set_xlim(df0.index[0].date(), df0.index[-1].date()) #x軸の範囲\n",
    "fig.autofmt_xdate() #x軸のオートフォーマット\n",
    "\n",
    "\n",
    "if FLAG_fig: plt.savefig('fig_TSA_StockPrice_Plot_CandleStick_2.png')\n",
    "plt.show()"
   ]
  },
  {
   "cell_type": "markdown",
   "metadata": {},
   "source": [
    "### 備考　nullデータの対処\n",
    "・Yafooファナンスから，日経データをダウンロード。\n",
    "・ファイル名\"^N225.csv\"，エンコードはutf-8である。\n",
    "・データにはnullデータ（マーケットが閉じている日は取引が無い）がある<br>\n",
    "・pandasはnull（データは無いという意味）をNan(Not a Number, 数字データは無いという意味)と解釈する。\n",
    "・この対処法を示す\n",
    "・原データを格納する変数（データフレーム）をdf0とする<br>\n"
   ]
  },
  {
   "cell_type": "code",
   "execution_count": null,
   "metadata": {},
   "outputs": [],
   "source": [
    "url = 'https://sites.google.com/site/datasciencehiro/datasets/^N225.csv'\n",
    "df0 = pd.read_csv(url, index_col='Date', parse_dates=[0] )\n",
    "df0 = df0.sort_index() # 日付を昇順に並び替える\n",
    "df0.head()"
   ]
  },
  {
   "cell_type": "markdown",
   "metadata": {},
   "source": [
    "#### 原データからNan(nullデータ)を削除して，これを変数dfに代入する\n",
    "メッソド\".notnull()\"はNan(null)データが無い行を返す。  \n",
    "データが無い日は，Open, High, Low, Close　全て同じであるから，ここでは'Open'を用いる "
   ]
  },
  {
   "cell_type": "code",
   "execution_count": null,
   "metadata": {},
   "outputs": [],
   "source": [
    "df = df0[df0['Open'].notnull()]\n",
    "df.head()"
   ]
  },
  {
   "cell_type": "markdown",
   "metadata": {},
   "source": [
    "#### 移動平均"
   ]
  },
  {
   "cell_type": "code",
   "execution_count": null,
   "metadata": {},
   "outputs": [],
   "source": [
    "item='Close'\n",
    "ax = df[item].plot(color='black', label=item)\n",
    "\n",
    "rol1 = df[item].rolling(window=5).mean()\n",
    "rol1.plot(ax=ax, label='Window=5', color='red', linestyle='dashed')\n",
    "\n",
    "rol2 = df[item].rolling(window=25).mean()\n",
    "rol2.plot(ax=ax, label='Window=25', color='green', linestyle='dashed')\n",
    "\n",
    "\n",
    "plt.grid()\n",
    "plt.legend(loc='upper right')\n",
    "plt.show()"
   ]
  },
  {
   "cell_type": "code",
   "execution_count": null,
   "metadata": {},
   "outputs": [],
   "source": []
  }
 ],
 "metadata": {
  "kernelspec": {
   "display_name": "Python 3",
   "language": "python",
   "name": "python3"
  },
  "language_info": {
   "codemirror_mode": {
    "name": "ipython",
    "version": 3
   },
   "file_extension": ".py",
   "mimetype": "text/x-python",
   "name": "python",
   "nbconvert_exporter": "python",
   "pygments_lexer": "ipython3",
   "version": "3.7.0"
  }
 },
 "nbformat": 4,
 "nbformat_minor": 2
}
