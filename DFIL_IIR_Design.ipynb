{
 "cells": [
  {
   "cell_type": "markdown",
   "metadata": {},
   "source": [
    "# Digital Filter IIR Design\n",
    "\n",
    "http://scipy.github.io/devdocs/generated/scipy.signal.iirfilter.html<br>"
   ]
  },
  {
   "cell_type": "code",
   "execution_count": null,
   "metadata": {},
   "outputs": [],
   "source": [
    "# coding: utf-8\n",
    "import numpy as np\n",
    "import matplotlib.pyplot as plt\n",
    "%matplotlib inline\n",
    "\n",
    "from scipy import signal\n",
    "\n",
    "np.random.seed(123)\n",
    "FLAG_fig = False"
   ]
  },
  {
   "cell_type": "code",
   "execution_count": null,
   "metadata": {
    "scrolled": true
   },
   "outputs": [],
   "source": [
    "fc_L  = 3.  # カットオフ周波数 [Hz]\n",
    "fc_H  = 7.  # 上側カットオフ周波数 [Hz]\n",
    "fsmp  = 50. # サンプリング周波数 [Hz]\n",
    "fnyq  = fsmp/2.0 # ナイキスト周波数 [Hz]\n",
    "\n",
    "Ndeg = 6  # フィルタ次数"
   ]
  },
  {
   "cell_type": "markdown",
   "metadata": {},
   "source": [
    "#### ローパスフィルタ\n",
    "iirfilterを用いてディジタルフィルタを設計する場合，カットオフ周波数を指定するパラメータWnにはナイキスト周波数で規格化した0～1の値が入る。"
   ]
  },
  {
   "cell_type": "code",
   "execution_count": null,
   "metadata": {},
   "outputs": [],
   "source": [
    "b1, a1  = signal.iirfilter(N=Ndeg, Wn=fc_L/fnyq, \n",
    "                           btype='lowpass', analog=False, ftype='butter')\n",
    "#分子多項式の係数がb1,  分子多項式の係数がa1に代入される\n",
    "#print(b1)\n",
    "#print(a1)"
   ]
  },
  {
   "cell_type": "markdown",
   "metadata": {},
   "source": [
    "#### scipy.signal.freqz\n",
    "https://docs.scipy.org/doc/scipy/reference/generated/scipy.signal.freqz.html <br>\n",
    "離散時間伝達関数ゆえ，下記の左辺にあるwには，w = 0 - pi が代入される"
   ]
  },
  {
   "cell_type": "code",
   "execution_count": null,
   "metadata": {},
   "outputs": [],
   "source": [
    "w, h = signal.freqz(b1, a1)\n",
    "gain = 20*np.log10(abs(h))"
   ]
  },
  {
   "cell_type": "code",
   "execution_count": null,
   "metadata": {
    "scrolled": true
   },
   "outputs": [],
   "source": [
    "fig, (ax1, ax2)  = plt.subplots(nrows=2, figsize=(6,8))\n",
    "\n",
    "# Plot Gain\n",
    "ax1.plot(w, gain, c='b')\n",
    "ax1.axhline(-3, color='g', ls='--') # -3[dB]\n",
    "ax1.set_ylim(-60,5)\n",
    "\n",
    "ax1.grid(which = \"both\", axis='both', ls=\"--\")\n",
    "ax1.set_xlabel('omega [radian / sample]')\n",
    "ax1.set_ylabel('Gain [dB]')\n",
    "\n",
    "# x-axis [Hz]\n",
    "f = (w/np.pi)*fnyq\n",
    "\n",
    "# Gain - Linear\n",
    "ax2.plot(f, abs(h), c='b')\n",
    "ax2.axhline(1/np.sqrt(2), color='g', ls='--') # 1/sqrt(2)\n",
    "\n",
    "ax2.grid(which = \"both\", axis='both', ls=\"--\")\n",
    "ax2.set_xticks(np.arange(f.min(),f.max(),1))\n",
    "ax2.set_xlabel('f [Hz]')\n",
    "ax2.set_ylabel('Gain [Linear]')\n",
    "\n",
    "\n",
    "# Phase\n",
    "ax21 = ax2.twinx()\n",
    "phase = np.unwrap(np.angle(h))  # radian\n",
    "#phase = np.unwrap(np.angle(h))*(180./np.pi)  # degree\n",
    "ax21.plot(f, phase, c='c')\n",
    "ax21.set_ylabel('Phase [radian]')\n",
    "\n",
    "if FLAG_fig: plt.savefig('fig_DFIL_IIR_01.png')\n",
    "plt.show()"
   ]
  },
  {
   "cell_type": "markdown",
   "metadata": {},
   "source": [
    "#### バンドパスフィルタ"
   ]
  },
  {
   "cell_type": "code",
   "execution_count": null,
   "metadata": {},
   "outputs": [],
   "source": [
    "b2, a2 = signal.iirfilter(N=Ndeg, Wn=[fc_L/(fnyq), fc_H/(fnyq)], \n",
    "                          btype='bandpass', analog=False, ftype='butter')\n",
    "w, h = signal.freqz(b2, a2)\n",
    "gain = 20*np.log10(abs(h))"
   ]
  },
  {
   "cell_type": "code",
   "execution_count": null,
   "metadata": {},
   "outputs": [],
   "source": [
    "fig, (ax1, ax2)  = plt.subplots(nrows=2, figsize=(6,8))\n",
    "\n",
    "# Plot Gain\n",
    "ax1.plot(w, gain, c='b')\n",
    "ax1.axhline(-3, color='g', ls='--') # -3[dB]\n",
    "ax1.set_ylim(-60,5)\n",
    "\n",
    "ax1.grid(which = \"both\", axis='both', ls=\"--\")\n",
    "ax1.set_xlabel('omega [radian / sample]')\n",
    "ax1.set_ylabel('Gain [dB]')\n",
    "\n",
    "# x-axis [Hz]\n",
    "f = (w/np.pi)*fnyq\n",
    "\n",
    "# Gain - Linear\n",
    "ax2.plot(f, abs(h), c='b')\n",
    "ax2.axhline(1/np.sqrt(2), color='g', ls='--') # 1/sqrt(2)\n",
    "\n",
    "ax2.grid(which = \"both\", axis='both', ls=\"--\")\n",
    "ax2.set_xticks(np.arange(f.min(),f.max(),1))\n",
    "ax2.set_xlabel('f [Hz]')\n",
    "ax2.set_ylabel('Gain [Linear]')\n",
    "\n",
    "\n",
    "# Phase\n",
    "ax21 = ax2.twinx()\n",
    "phase = np.unwrap(np.angle(h))  # radian\n",
    "#phase = np.unwrap(np.angle(h))*(180./np.pi)  # degree\n",
    "ax21.plot(f, phase, c='c')\n",
    "ax21.set_ylabel('Phase [radian]')\n",
    "\n",
    "if FLAG_fig: plt.savefig('fig_DFIL_IIR_02.png')\n",
    "plt.show()"
   ]
  },
  {
   "cell_type": "markdown",
   "metadata": {},
   "source": [
    "# フィルタの効用を見る\n",
    "scipy.signal.lfilter   https://docs.scipy.org/doc/scipy-0.18.1/reference/generated/scipy.signal.lfilter.html"
   ]
  },
  {
   "cell_type": "code",
   "execution_count": null,
   "metadata": {},
   "outputs": [],
   "source": [
    "frq1, frq2 = 1.0, 5.0\n",
    "Num = 256    # データ数\n",
    "dt  = 1/fsmp      # サンプリング時間\n",
    "t = np.linspace(0, Num-1, Num)*dt\n",
    "y1 = np.sin(2*np.pi*frq1*t)\n",
    "y2 = np.sin(2*np.pi*frq2*t)\n",
    "y = y1 + y2 + 0.2*np.random.randn(t.size)\n",
    "\n",
    "y_filt1 = signal.lfilter(b1,a1,y)"
   ]
  },
  {
   "cell_type": "code",
   "execution_count": null,
   "metadata": {},
   "outputs": [],
   "source": [
    "fig = plt.subplots(figsize=(8,4))\n",
    "\n",
    "plt.plot(t,y, 'k', label='observed')\n",
    "plt.plot(t,y_filt1, 'g', label='filtered')\n",
    "delay = 1.3\n",
    "plt.plot(t, np.sin(2*np.pi*frq1*t-delay), c='r', ls='--', label='y1 with lag')\n",
    "\n",
    "plt.xlabel('Time [s]')\n",
    "plt.ylabel('Amplitude')\n",
    "plt.title('Low pass')\n",
    "plt.legend()\n",
    "\n",
    "if FLAG_fig: plt.savefig('fig_DFIL_IIR_03.png')\n",
    "plt.show()"
   ]
  },
  {
   "cell_type": "code",
   "execution_count": null,
   "metadata": {},
   "outputs": [],
   "source": [
    "y2 = signal.lfilter(b2,a2,y)\n",
    "\n",
    "fig = plt.subplots(figsize=(8,4))\n",
    "\n",
    "#plt.plot(t,y, 'k')\n",
    "plt.plot(t,y2, 'g', label='filtered')\n",
    "delay = 1.1\n",
    "plt.plot(t, np.sin(2*np.pi*frq2*t-delay), c='r', ls='--', label='y2 with lag')\n",
    "\n",
    "plt.xlabel('Time [s]')\n",
    "plt.ylabel('Amplitude')\n",
    "plt.title('Band pass')\n",
    "plt.legend()\n",
    "\n",
    "if FLAG_fig: plt.savefig('fig_DFIL_IIR_04.png')\n",
    "plt.show()"
   ]
  },
  {
   "cell_type": "code",
   "execution_count": null,
   "metadata": {},
   "outputs": [],
   "source": []
  }
 ],
 "metadata": {
  "kernelspec": {
   "display_name": "Python 3",
   "language": "python",
   "name": "python3"
  },
  "language_info": {
   "codemirror_mode": {
    "name": "ipython",
    "version": 3
   },
   "file_extension": ".py",
   "mimetype": "text/x-python",
   "name": "python",
   "nbconvert_exporter": "python",
   "pygments_lexer": "ipython3",
   "version": "3.7.0"
  }
 },
 "nbformat": 4,
 "nbformat_minor": 2
}
