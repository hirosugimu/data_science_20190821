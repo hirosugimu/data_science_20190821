{
 "cells": [
  {
   "cell_type": "markdown",
   "metadata": {},
   "source": [
    "# ドレミファソラシドを鳴らす\n",
    "音を鳴らすためには次のパッケージをインストールする  \n",
    "PyAudio https://people.csail.mit.edu/hubert/pyaudio/ \n",
    "\n",
    "備考：国によって「音名」と「階名」の呼び方は異なる。  \n",
    "日本人が良く知っているのは音名であり，これはイタリア語が由来である。<br>\n",
    "イタリア語の呼び方は，ドレミファソラシド（Do, Re, Mi, Fa, Sol, La, Si）<br>\n",
    "ドイツ語では　C（ツェー），D（デー），E（エー），F（エフ），G（ゲー），A（アー），H（ハー）<br>\n",
    "英語はドイツ語読みに準じている<br>\n",
    "Wikipedia https://en.wikipedia.org/wiki/Key_signature_names_and_translations <br>\n",
    "YAMAHA https://jp.yamaha.com/services/music_pal/study/score/index.html"
   ]
  },
  {
   "cell_type": "code",
   "execution_count": null,
   "metadata": {},
   "outputs": [],
   "source": [
    "# -*- coding: utf-8 -*-\n",
    "import wave\n",
    "import struct\n",
    "import numpy as np\n",
    "import pyaudio"
   ]
  },
  {
   "cell_type": "code",
   "execution_count": null,
   "metadata": {},
   "outputs": [],
   "source": [
    "def createSinWave (A, f0, fs, length):\n",
    "    \"\"\"振幅A,基本周波数f0, サンプリング周波数fs,長さlength秒の正弦波を作成して返す\"\"\"\n",
    "    \n",
    "    data = []\n",
    "    for n in np.arange(length * fs):\n",
    "        s = A * np.sin(2 * np.pi * f0 * n / fs) # 周波数f0 の正弦波\n",
    "        if s > 1.0: s = 1.0    #正弦波の振幅-1～＋１に制限\n",
    "        if s < -1.0: s = -1.0\n",
    "        data.append(s)\n",
    "\n",
    "    data = [int(x * 32767.0) for x in data] # [-32768, 32767]の整数に変換\n",
    "    # list に * をつけて引数展開\n",
    "    data = struct.pack(\"h\" * len(data), *data) # バイナリデータに変換\n",
    "    return data\n",
    "\n",
    "def play(data, fs, bit):\n",
    "    p = pyaudio.PyAudio()\n",
    "    stream = p.open(format=pyaudio.paInt16,\n",
    "               channels=1,\n",
    "               rate=int(fs),\n",
    "               output=True)\n",
    "\n",
    "    chunk = 1024\n",
    "    sp = 0\n",
    "    buffer = data[sp:sp+chunk]\n",
    "    while buffer != b'':\n",
    "        stream.write(buffer)\n",
    "        sp = sp + chunk\n",
    "        buffer = data[sp:sp+chunk]\n",
    "\n",
    "    stream.close()\n",
    "    p.terminate()\n",
    "\n",
    "\n",
    "if __name__ == \"__main__\" :\n",
    "    freqList = [262, 294, 330, 349, 392, 440, 494, 523]\n",
    "#               ド,  レ,  ミ, ファ  ソ,  ラ,  シ,  ド　\n",
    "    for f in freqList:\n",
    "        data = createSinWave(1.0, f, 8000.0, 1.0)\n",
    "        play(data, 8000, 16)"
   ]
  }
 ],
 "metadata": {
  "kernelspec": {
   "display_name": "Python 3",
   "language": "python",
   "name": "python3"
  },
  "language_info": {
   "codemirror_mode": {
    "name": "ipython",
    "version": 3
   },
   "file_extension": ".py",
   "mimetype": "text/x-python",
   "name": "python",
   "nbconvert_exporter": "python",
   "pygments_lexer": "ipython3",
   "version": "3.7.0"
  }
 },
 "nbformat": 4,
 "nbformat_minor": 2
}
