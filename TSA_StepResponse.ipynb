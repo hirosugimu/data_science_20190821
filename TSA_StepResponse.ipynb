{
 "cells": [
  {
   "cell_type": "markdown",
   "metadata": {},
   "source": [
    "# ステップ応答（時間応答）\n",
    "1次系のステップ応答，インパルス応答  \n",
    "2次系のインパルス応答  \n",
    "scipy.integrate.odeint https://docs.scipy.org/doc/scipy/reference/generated/scipy.integrate.odeint.html"
   ]
  },
  {
   "cell_type": "code",
   "execution_count": null,
   "metadata": {},
   "outputs": [],
   "source": [
    "# -*- coding: utf-8 -*-\n",
    "from scipy.integrate import odeint\n",
    "import numpy as np\n",
    "import matplotlib.pyplot as plt\n",
    "%matplotlib inline\n",
    "\n",
    "FLAG_fig = False"
   ]
  },
  {
   "cell_type": "code",
   "execution_count": null,
   "metadata": {},
   "outputs": [],
   "source": [
    "def dFunc_1(x, time, a, u):\n",
    "    dx = -a*x + u\n",
    "    return dx\n",
    "\n",
    "time = np.linspace(0,3,100) # time interval, 100 division\n",
    "a = 2.0"
   ]
  },
  {
   "cell_type": "markdown",
   "metadata": {},
   "source": [
    "#### 1次系のステップ応答\n",
    "1次のODE (Ordinary Differential Equation)"
   ]
  },
  {
   "cell_type": "code",
   "execution_count": null,
   "metadata": {
    "scrolled": true
   },
   "outputs": [],
   "source": [
    "x0 = 0.0 # Initial value\n",
    "u = 1.0  # Step input\n",
    "sol_1 = odeint(dFunc_1, x0 ,time, args=(a,u))\n",
    "plt.plot(time, sol_1, '-k', linewidth=2)\n",
    "plt.xlabel('t', fontsize=20)\n",
    "plt.ylabel('x', fontsize=20, rotation='horizontal')\n",
    "plt.grid()\n",
    "\n",
    "if FLAG_fig: plt.savefig('fig_TS_1st_Step_Response.png')\n",
    "plt.show()"
   ]
  },
  {
   "cell_type": "markdown",
   "metadata": {},
   "source": [
    "#### 1次系のインパルス応答"
   ]
  },
  {
   "cell_type": "code",
   "execution_count": null,
   "metadata": {
    "scrolled": false
   },
   "outputs": [],
   "source": [
    "x0 = 1.0 # Initial value\n",
    "u = 0.0  # zero input\n",
    "sol_2 = odeint(dFunc_1, x0 ,time, args=(a,u))\n",
    "plt.plot(time, sol_2, '-b', linewidth=2)\n",
    "plt.xlabel('t', fontsize=20)\n",
    "plt.ylabel('x', fontsize=20, rotation='horizontal')\n",
    "plt.grid()\n",
    "\n",
    "if FLAG_fig: plt.savefig('fig_TS_1st_Impulse_Response.png')\n",
    "plt.show()"
   ]
  },
  {
   "cell_type": "markdown",
   "metadata": {},
   "source": [
    "#### 2次系のステップ応答\n",
    "質量(mass)，ばね定数（spring）の係数は一定として，ダンパ係数を変えてシミュレーションを実施"
   ]
  },
  {
   "cell_type": "code",
   "execution_count": null,
   "metadata": {},
   "outputs": [],
   "source": [
    "def dFunc_2(x, time, mass, damper, spring, u):\n",
    "    dx1 = x[1]\n",
    "    dx0 = (-1/mass)*(damper*x[1] + spring*x[0] - u) \n",
    "    return [dx1, dx0]\n",
    "\n",
    "time = np.linspace(0,20,100)\n",
    "u = 1.0  # input\n",
    "x0 = [0.0, 0.0]\n",
    "\n",
    "mass, damper, spring = 4.0, 0.4, 1.0 # damper; changeable\n",
    "\n",
    "sol_1 = odeint(dFunc_2, x0, time, args=(mass, 1.0, spring, u))\n",
    "sol_2 = odeint(dFunc_2, x0, time, args=(mass, 2.0, spring, u))\n",
    "sol_3 = odeint(dFunc_2, x0, time, args=(mass, 4.0, spring, u))\n",
    "sol_4 = odeint(dFunc_2, x0, time, args=(mass, 6.0, spring, u))\n",
    "\n",
    "plt.plot(time, sol_1[:,[0]], label='D=1')\n",
    "plt.plot(time, sol_2[:,[0]], label='D=2')\n",
    "plt.plot(time, sol_3[:,[0]], label='D=4')\n",
    "plt.plot(time, sol_4[:,[0]], label='D=6')\n",
    "\n",
    "plt.xlabel('t')\n",
    "#plt.ylabel('x', rotation='horizontal')\n",
    "plt.ylabel('x')\n",
    "plt.legend()\n",
    "plt.grid()\n",
    "\n",
    "if FLAG_fig: plt.savefig('fig_TS_2nd_Step_Response.png')\n",
    "plt.show()"
   ]
  },
  {
   "cell_type": "code",
   "execution_count": null,
   "metadata": {},
   "outputs": [],
   "source": []
  }
 ],
 "metadata": {
  "kernelspec": {
   "display_name": "Python 3",
   "language": "python",
   "name": "python3"
  },
  "language_info": {
   "codemirror_mode": {
    "name": "ipython",
    "version": 3
   },
   "file_extension": ".py",
   "mimetype": "text/x-python",
   "name": "python",
   "nbconvert_exporter": "python",
   "pygments_lexer": "ipython3",
   "version": "3.7.0"
  }
 },
 "nbformat": 4,
 "nbformat_minor": 2
}
