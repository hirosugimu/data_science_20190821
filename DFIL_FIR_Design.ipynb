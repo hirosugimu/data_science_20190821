{
 "cells": [
  {
   "cell_type": "markdown",
   "metadata": {},
   "source": [
    "# Digital Filter FIR Type I\n",
    "ここでは，Type Iのみを扱う<br>\n",
    "Type I\n",
    "This function computes the coefficients of a finite impulse response filter. The filter will have linear phase; it will be Type I if numtaps is odd and Type II if numtaps is even.\n",
    "\n",
    "Type II filters always have zero response at the Nyquist frequency, so a ValueError exception is raised if firwin is called with numtaps even and having a passband whose right end is at the Nyquist frequency. <br>\n",
    "\n",
    "see https://docs.scipy.org/doc/scipy/reference/generated/scipy.signal.firwin.html\n"
   ]
  },
  {
   "cell_type": "markdown",
   "metadata": {},
   "source": [
    "#### FIRフィルタの係数を求める\n",
    "scipy.signal.firwin  https://docs.scipy.org/doc/scipy/reference/generated/scipy.signal.firwin.html <br>\n",
    "FIRフィルタの伝達関数は分子だけであるから，左辺は分子の係数を与えるbのみを置く<br>\n",
    "b = scipy.signal.firwin(numtaps, fc_L, pass_zero=True)          # Low-pass<br>\n",
    "b = scipy.signal.firwin(numtaps, fc_H, pass_zero=False)         # High-pass<br>\n",
    "b = scipy.signal.firwin(numtaps, [fc_L, fc_H], pass_zero=False) # Band-pass<br>\n",
    "b = scipy.signal.firwin(numtaps, [fc_L, fc_H])                  # Band-stop<br>"
   ]
  },
  {
   "cell_type": "markdown",
   "metadata": {},
   "source": [
    "#### 離散時間系伝達関数の周波数応答　scipy.signal.freqz\n",
    "https://docs.scipy.org/doc/scipy/reference/generated/scipy.signal.freqz.html <br>\n",
    "離散時間系ゆえ，左辺のwには，w = 0 - pi [rad/sample] が代入される"
   ]
  },
  {
   "cell_type": "code",
   "execution_count": null,
   "metadata": {},
   "outputs": [],
   "source": [
    "# -*- coding: utf-8 -*-\n",
    "import numpy as np\n",
    "from scipy import signal\n",
    "import matplotlib.pyplot as plt\n",
    "%matplotlib inline\n",
    "\n",
    "np.random.seed(123)\n",
    "FLAG_fig = False"
   ]
  },
  {
   "cell_type": "markdown",
   "metadata": {},
   "source": [
    "#### 注意：アナログフィルタの場合と異なり，下記の周波数の単位は[Hz]で与える"
   ]
  },
  {
   "cell_type": "code",
   "execution_count": null,
   "metadata": {
    "scrolled": true
   },
   "outputs": [],
   "source": [
    "fc_L   = 3.  # カットオフ周波数 [Hz]\n",
    "fc_H   = 7.  # 上側カットオフ周波数 [Hz]\n",
    "fsmp   = 50. # サンプリング周波数 [Hz]\n",
    "fnyq   = fsmp/2.0 # ナイキスト周波数 [Hz]\n",
    "\n",
    "Ntaps =127 # タップ数，Type I より奇数とする"
   ]
  },
  {
   "cell_type": "markdown",
   "metadata": {},
   "source": [
    "#### ローパスフィルタ"
   ]
  },
  {
   "cell_type": "code",
   "execution_count": null,
   "metadata": {},
   "outputs": [],
   "source": [
    "b1 = signal.firwin(numtaps=Ntaps, cutoff=fc_L,\n",
    "                   window='hamming', pass_zero=True, fs = fsmp)"
   ]
  },
  {
   "cell_type": "code",
   "execution_count": null,
   "metadata": {},
   "outputs": [],
   "source": [
    "w, h = signal.freqz(b1)\n",
    "gain = 20*np.log10(abs(h))"
   ]
  },
  {
   "cell_type": "markdown",
   "metadata": {},
   "source": [
    "#### 横軸 [rad/sample] and [Hz]\n",
    "w[rad/sample] = pi と　f[Hz] = fnyq　は等価である。<br>\n",
    "また，w = 2*pi*f より，スクリプトでf = (w/np.pi)*fnyq　とすれば[Hz]を得られる。"
   ]
  },
  {
   "cell_type": "code",
   "execution_count": null,
   "metadata": {},
   "outputs": [],
   "source": [
    "fig, (ax1, ax2)  = plt.subplots(nrows=2, figsize=(6,8))\n",
    "\n",
    "# Plot Gain[dB]  vs [rad/sample]\n",
    "ax1.plot(w, gain, c='b')\n",
    "ax1.axhline(-3, color='g', ls='--') # -3[dB]\n",
    "#ax1.set_ylim(-50, 2)\n",
    "\n",
    "ax1.grid(which = \"both\", axis='both', ls=\"--\")\n",
    "ax1.set_xlabel('Omega [rad / sample]')\n",
    "ax1.set_ylabel('Gain [dB]')\n",
    "\n",
    "# x-axis [Hz]\n",
    "f = (w/np.pi)*fnyq\n",
    "\n",
    "# Gain - Linear\n",
    "ax2.plot(f, abs(h), c='b')\n",
    "ax2.axhline(1/np.sqrt(2), color='g', ls='--') # 1/sqrt(2)\n",
    "\n",
    "ax2.grid(which = \"both\", axis='both', ls=\"--\")\n",
    "ax2.set_xticks(np.arange(f.min(),f.max(),1))\n",
    "\n",
    "ax2.set_xlabel('f [Hz]')\n",
    "ax2.set_ylabel('Gain [Linear]')\n",
    "\n",
    "# Phase\n",
    "ax21 = ax2.twinx()\n",
    "phase = np.unwrap(np.angle(h))  # radian\n",
    "\n",
    "ax21.plot(f, phase, c='c')\n",
    "ax21.set_ylabel('Phase [rad]')\n",
    "\n",
    "if FLAG_fig: plt.savefig('fig_DFIL_FIR_Design_Lowpass.png')\n",
    "plt.show()"
   ]
  },
  {
   "cell_type": "markdown",
   "metadata": {},
   "source": [
    "#### バンドパスフィルタ"
   ]
  },
  {
   "cell_type": "code",
   "execution_count": null,
   "metadata": {},
   "outputs": [],
   "source": [
    "b2 = signal.firwin(numtaps=Ntaps, cutoff=[fc_L, fc_H], \n",
    "                   window='hamming', pass_zero=False, fs = fsmp)\n",
    "w, h = signal.freqz(b2)\n",
    "gain = 20*np.log10(abs(h))"
   ]
  },
  {
   "cell_type": "code",
   "execution_count": null,
   "metadata": {
    "scrolled": false
   },
   "outputs": [],
   "source": [
    "fig, (ax1, ax2)  = plt.subplots(nrows=2, figsize=(6,8))\n",
    "\n",
    "# Plot Gain[dB] vs. [rad/sample]\n",
    "ax1.plot(w, gain, c='b')\n",
    "ax1.axhline(-3, color='g', ls='--') # -3[dB]\n",
    "\n",
    "ax1.grid(which = \"both\", axis='both', ls=\"--\")\n",
    "ax1.set_xlabel('Omega [rad / sample]')\n",
    "ax1.set_ylabel('Gain [dB]')\n",
    "\n",
    "# x-axis [Hz]\n",
    "f = (w/np.pi)*fnyq\n",
    "\n",
    "# Gain - Linear\n",
    "ax2.plot(f, abs(h), c='b')\n",
    "ax2.axhline(1/np.sqrt(2), color='g', ls='--') # 1/sqrt(2)\n",
    "\n",
    "ax2.grid(which = \"both\", axis='both', ls=\"--\")\n",
    "ax2.set_xticks(np.arange(f.min(),f.max(),1))\n",
    "ax2.set_xlabel('f [Hz]')\n",
    "ax2.set_ylabel('Gain [Linear]')\n",
    "\n",
    "# Phase\n",
    "ax21 = ax2.twinx()\n",
    "phase = np.unwrap(np.angle(h))  # radian\n",
    "\n",
    "ax21.plot(f, phase, c='c')\n",
    "ax21.set_ylabel('Phase [rad]')\n",
    "\n",
    "if FLAG_fig: plt.savefig('fig_DFIL_FIR_Design_Bandpass.png')\n",
    "plt.show()"
   ]
  },
  {
   "cell_type": "markdown",
   "metadata": {},
   "source": [
    "# フィルタの効用を見る\n",
    "設計したローパスフィルタ，バンドバスフィルタの性能を見るため，二つの周波数成分を持つ信号に雑音が重畳した観測値を用いる。<br>\n",
    "scipy.signal.lfilter   https://docs.scipy.org/doc/scipy-0.18.1/reference/generated/scipy.signal.lfilter.html"
   ]
  },
  {
   "cell_type": "code",
   "execution_count": null,
   "metadata": {},
   "outputs": [],
   "source": [
    "#観測信号\n",
    "frq1, frq2 = 1.0, 5.0\n",
    "Num = 256    # データ数\n",
    "dt  = 1/fsmp      # サンプリング時間\n",
    "t = np.linspace(0, Num-1, Num)*dt\n",
    "y1 = np.sin(2*np.pi*frq1*t)\n",
    "y2 = np.sin(2*np.pi*frq2*t)\n",
    "y = y1 + y2 + 0.2*np.random.randn(t.size) # 雑音が重畳"
   ]
  },
  {
   "cell_type": "code",
   "execution_count": null,
   "metadata": {},
   "outputs": [],
   "source": [
    "#ローパスフィルタによるフィルタリング\n",
    "y_filt1 = signal.lfilter(b1,1,y)"
   ]
  },
  {
   "cell_type": "code",
   "execution_count": null,
   "metadata": {},
   "outputs": [],
   "source": [
    "fig = plt.subplots(figsize=(8,4))\n",
    "\n",
    "plt.plot(t,y, 'k', label='observed')\n",
    "plt.plot(t,y_filt1, 'g', label='filtered')\n",
    "#下記の (t-1.6)は試行錯誤的に見出した\n",
    "plt.plot(t, np.sin(2*np.pi*frq1*t-1.6), c='r', ls='--', label='y1 with lag')\n",
    "\n",
    "plt.xlabel('Time [s]')\n",
    "plt.ylabel('Amplitude')\n",
    "plt.title('Low pass')\n",
    "plt.legend()\n",
    "\n",
    "if FLAG_fig: plt.savefig('fig_DFIL_FIR_Design_Filtered1.png')\n",
    "plt.show()"
   ]
  },
  {
   "cell_type": "code",
   "execution_count": null,
   "metadata": {},
   "outputs": [],
   "source": [
    "#バンドバスフィルタによるフィルタリング\n",
    "y_filt2 = signal.lfilter(b2,1,y)\n",
    "\n",
    "fig = plt.subplots(figsize=(8,4))\n",
    "\n",
    "plt.plot(t,y_filt2, 'g', label='filtered')\n",
    "#下記の (t-1.5)は試行錯誤的に見出した\n",
    "plt.plot(t, np.sin(2*np.pi*frq2*t-1.5), c='r', ls='--', label='y2 with lag')\n",
    "plt.xlabel('Time [s]')\n",
    "plt.ylabel('Amplitude')\n",
    "plt.title('Band pass')\n",
    "plt.legend()\n",
    "\n",
    "if FLAG_fig: plt.savefig('fig_DFIL_FIR_Design_Filtered2.png')\n",
    "plt.show()"
   ]
  },
  {
   "cell_type": "code",
   "execution_count": null,
   "metadata": {},
   "outputs": [],
   "source": []
  }
 ],
 "metadata": {
  "kernelspec": {
   "display_name": "Python 3",
   "language": "python",
   "name": "python3"
  },
  "language_info": {
   "codemirror_mode": {
    "name": "ipython",
    "version": 3
   },
   "file_extension": ".py",
   "mimetype": "text/x-python",
   "name": "python",
   "nbconvert_exporter": "python",
   "pygments_lexer": "ipython3",
   "version": "3.7.0"
  }
 },
 "nbformat": 4,
 "nbformat_minor": 2
}
