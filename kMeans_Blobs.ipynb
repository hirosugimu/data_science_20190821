{
 "cells": [
  {
   "cell_type": "markdown",
   "metadata": {},
   "source": [
    "# kMeans\n",
    "#### make_blobsを用いたクラスタリング（教師なし）\n",
    "kMeans http://scikit-learn.org/stable/modules/generated/sklearn.cluster.KMeans.html<br>\n",
    "make_blobs() サンプルデータの生成　sklearn.datasets.make_blobs<br>\n",
    "http://scikit-learn.org/stable/modules/generated/sklearn.datasets.make_blobs.html"
   ]
  },
  {
   "cell_type": "code",
   "execution_count": null,
   "metadata": {},
   "outputs": [],
   "source": [
    "# -*- coding: utf-8 -*-\n",
    "import numpy as np\n",
    "import matplotlib.pyplot as plt\n",
    "%matplotlib inline\n",
    "from matplotlib import cm\n",
    "\n",
    "from sklearn.datasets import make_blobs\n",
    "from sklearn.cluster import KMeans\n",
    "from sklearn.metrics import  accuracy_score, classification_report\n",
    "\n",
    "FLAG_fig = False"
   ]
  },
  {
   "cell_type": "code",
   "execution_count": null,
   "metadata": {
    "scrolled": true
   },
   "outputs": [],
   "source": [
    "X, y = make_blobs(  #今回，目的変数（教師データ）yは用いない\n",
    "    n_samples=600,  # サンプル数\n",
    "    n_features=2,    # データ（説明変数）の特徴量の種類\n",
    "    centers=4,       # データのグループ数\n",
    "    cluster_std=1.0, # データのばらつきの標準偏差\n",
    "    random_state=2)  # 確率変数の再現性を設定\n",
    "X_train = X\n",
    "y_train = y\n",
    "plt.scatter(X_train[:,0], X_train[:,1])\n",
    "\n",
    "if FLAG_fig: plt.savefig('fig_kMeans_Blobs_1.png')\n",
    "plt.show()"
   ]
  },
  {
   "cell_type": "markdown",
   "metadata": {},
   "source": [
    "散布図を見ると3つのグループ（クラスタ）に見えるので，クラスタを3つとして分類"
   ]
  },
  {
   "cell_type": "code",
   "execution_count": null,
   "metadata": {},
   "outputs": [],
   "source": [
    "kmeans = KMeans(n_clusters=3)\n",
    "y_train_est = kmeans.fit_predict(X_train)\n",
    "#print(y_train_est[0:20])\n",
    "plt.scatter(X_train[:,0], X_train[:,1], c=y_train_est, cmap=cm.bwr, edgecolors='k')\n",
    "\n",
    "if FLAG_fig: plt.savefig('fig_kMeans_Blobs_2.png')\n",
    "plt.show()"
   ]
  },
  {
   "cell_type": "markdown",
   "metadata": {},
   "source": [
    "クラスタを4つとして分類"
   ]
  },
  {
   "cell_type": "code",
   "execution_count": null,
   "metadata": {
    "scrolled": true
   },
   "outputs": [],
   "source": [
    "kmeans = KMeans(n_clusters=4)\n",
    "cluster = kmeans.fit(X_train)\n",
    "y_train_est = kmeans.predict(X_train)\n",
    "#print(y_train_est[0:20])\n",
    "plt.scatter(X_train[:,0], X_train[:,1], c=y_train_est, cmap=cm.bwr, edgecolors='k')\n",
    "\n",
    "if FLAG_fig: plt.savefig('fig_kMeans_Blobs_3.png')\n",
    "plt.show()"
   ]
  },
  {
   "cell_type": "markdown",
   "metadata": {},
   "source": [
    "上記の2つの結果を見て，クラスタ数が３または４なのか，どちらが正しいかは不明としか言いようがない。"
   ]
  },
  {
   "cell_type": "markdown",
   "metadata": {},
   "source": [
    "あまり意味はないが，クラスタ数が真のそれと一致しているとき，クラスタ器の性能評価を行ってみる。\n",
    "ただし，評価は難しい。理由は，y_train_estに与えられるクラスタ番号の順序が一定していないので，\n",
    "y_trainのクラスタ番号に順に合わせる必要がある。\n",
    "そのため，上記まで実行したら，スクリプトはこれ以降のみを扱い，眼で見て修正を行う。"
   ]
  },
  {
   "cell_type": "code",
   "execution_count": null,
   "metadata": {
    "scrolled": false
   },
   "outputs": [],
   "source": [
    "print('accuracy =%f ' % accuracy_score(y_train, y_train_est))\n",
    "print(classification_report(y_train, y_train_est))"
   ]
  },
  {
   "cell_type": "code",
   "execution_count": null,
   "metadata": {},
   "outputs": [],
   "source": [
    "y_train_est[0:40]"
   ]
  },
  {
   "cell_type": "code",
   "execution_count": null,
   "metadata": {
    "scrolled": true
   },
   "outputs": [],
   "source": [
    "y_train[0:40]"
   ]
  },
  {
   "cell_type": "code",
   "execution_count": null,
   "metadata": {},
   "outputs": [],
   "source": [
    "a = y_train_est\n",
    "b=np.select([a==0, a==1, a==2, a==3], [1, 3, 0, 2])\n",
    "b[0:40]"
   ]
  },
  {
   "cell_type": "code",
   "execution_count": null,
   "metadata": {},
   "outputs": [],
   "source": [
    "print('accuracy =%f ' % accuracy_score(y_train, b))\n",
    "print(classification_report(y_train, b))"
   ]
  },
  {
   "cell_type": "code",
   "execution_count": null,
   "metadata": {},
   "outputs": [],
   "source": [
    "y[0:10]"
   ]
  },
  {
   "cell_type": "code",
   "execution_count": null,
   "metadata": {},
   "outputs": [],
   "source": []
  }
 ],
 "metadata": {
  "kernelspec": {
   "display_name": "Python 3",
   "language": "python",
   "name": "python3"
  },
  "language_info": {
   "codemirror_mode": {
    "name": "ipython",
    "version": 3
   },
   "file_extension": ".py",
   "mimetype": "text/x-python",
   "name": "python",
   "nbconvert_exporter": "python",
   "pygments_lexer": "ipython3",
   "version": "3.7.0"
  }
 },
 "nbformat": 4,
 "nbformat_minor": 2
}
