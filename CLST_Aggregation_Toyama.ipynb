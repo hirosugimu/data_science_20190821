{
 "cells": [
  {
   "cell_type": "code",
   "execution_count": null,
   "metadata": {},
   "outputs": [],
   "source": [
    "# -*- coding: utf-8 -*-\n",
    "import numpy as np\n",
    "import pandas as pd\n",
    "\n",
    "import matplotlib.pyplot as plt\n",
    "%matplotlib inline\n",
    "import seaborn as sns\n",
    "\n",
    "from scipy.cluster import hierarchy\n",
    "\n",
    "FLAG_fig = False"
   ]
  },
  {
   "cell_type": "markdown",
   "metadata": {},
   "source": [
    "#### 富山県の市町村別人口動態\n",
    "人口移動調査　http://www.pref.toyama.jp/sections/1015/lib/jinko/　の中にある"
   ]
  },
  {
   "cell_type": "code",
   "execution_count": null,
   "metadata": {},
   "outputs": [],
   "source": [
    "url = 'http://www.pref.toyama.jp/sections/1015/lib/jinko/_dat_h29/jinko_dat005.xls'\n",
    "data_orig = pd.read_excel(url, header=None)"
   ]
  },
  {
   "cell_type": "markdown",
   "metadata": {},
   "source": [
    "データのフォーマットを見て，必要，不必要な行，列を判別する"
   ]
  },
  {
   "cell_type": "code",
   "execution_count": null,
   "metadata": {
    "scrolled": false
   },
   "outputs": [],
   "source": [
    "data_orig.head()"
   ]
  },
  {
   "cell_type": "code",
   "execution_count": null,
   "metadata": {
    "scrolled": false
   },
   "outputs": [],
   "source": [
    "data = data_orig.drop([0,1,2,3,4],axis=0)\n",
    "# drop=True: indexの降り直し,  inplace=True: 書き換えは自身のメモリで行う\n",
    "data.reset_index(drop=True, inplace=True)\n",
    "data.head()"
   ]
  },
  {
   "cell_type": "markdown",
   "metadata": {},
   "source": [
    "上記を見て，市の名前（カラム0），自然増加（カラム2），転入総数（カラム6），転出総数（カラム9）を用いることとし，これをDataFrame dfに結合する"
   ]
  },
  {
   "cell_type": "code",
   "execution_count": null,
   "metadata": {
    "scrolled": true
   },
   "outputs": [],
   "source": [
    "df = pd.concat([data.iloc[:,0], data.iloc[0:,2], data.iloc[0:,6], data.iloc[0:,9]], axis=1)\n",
    "df.head()"
   ]
  },
  {
   "cell_type": "markdown",
   "metadata": {},
   "source": [
    "dfの各列にラベルを与える, city:市の名前，natural:自然増加, in:転入総数，out:転出総数"
   ]
  },
  {
   "cell_type": "code",
   "execution_count": null,
   "metadata": {
    "scrolled": false
   },
   "outputs": [],
   "source": [
    "df.columns = ['city', 'natural', 'in', 'out']\n",
    "df.head()"
   ]
  },
  {
   "cell_type": "markdown",
   "metadata": {},
   "source": [
    "相関図（横軸：自然増加，縦軸：転入総数）をプロットする。このとき，各点に市の名前を付加する"
   ]
  },
  {
   "cell_type": "code",
   "execution_count": null,
   "metadata": {},
   "outputs": [],
   "source": [
    "names = df.city\n",
    "city_labels = list(names) # dendrogramへの入力はリスト形式"
   ]
  },
  {
   "cell_type": "code",
   "execution_count": null,
   "metadata": {
    "scrolled": true
   },
   "outputs": [],
   "source": [
    "fig = plt.subplots(figsize=(8,4)) # (22,18)\n",
    "plt.rcParams['font.family'] ='Yu Mincho' # 日本語フォントを使うため\n",
    "plt.xlabel('natural')\n",
    "plt.ylabel('in')\n",
    "plt.scatter(df['natural'], df['in'])\n",
    "for i, text in enumerate(df.city):\n",
    "    plt.annotate(text, xy=(df['natural'][i], df['in'][i]), size=10 )\n",
    "\n",
    "if FLAG_fig: plt.savefig('fig_ClusterAggr_Toyama2.png')\n",
    "plt.show()"
   ]
  },
  {
   "cell_type": "markdown",
   "metadata": {},
   "source": [
    "df2 は，クラスタ分析のために，cityを削除したデータフレームである"
   ]
  },
  {
   "cell_type": "code",
   "execution_count": null,
   "metadata": {
    "scrolled": false
   },
   "outputs": [],
   "source": [
    "fig = plt.subplots(figsize=(8,4))\n",
    "df2 = df.drop('city',axis=1)\n",
    "Z = hierarchy.linkage(df2, 'ward')\n",
    "dn = hierarchy.dendrogram(Z, labels=city_labels, leaf_rotation=90.)\n",
    "\n",
    "#plt.tight_layout() # prevent the lack of label\n",
    "if FLAG_fig: plt.savefig('fig_ClusterAggr_Toyama3.png', bbox_inches='tight')\n",
    "plt.show()"
   ]
  },
  {
   "cell_type": "markdown",
   "metadata": {},
   "source": [
    "#### 相関図\n",
    "念のため，各変数同士の相関図を見る。<br>\n",
    "seabornのプロットは，バージョン0.9.0から，この例のようなデータセットの種類の数に応じた色数を明示的に用意することが求められる。<br>\n",
    "そうでないと，次のエラーが現れる \"ValueError: color kwarg must have one color per dataset\"<br>\n",
    "ここでは，簡単に，hue='out'と指定した。ここに，'out'はdfのラベル名。幾つかのWarningが現れるが，気にしないことにする。"
   ]
  },
  {
   "cell_type": "code",
   "execution_count": null,
   "metadata": {},
   "outputs": [],
   "source": [
    "sns.pairplot(df, hue='out')\n",
    "\n",
    "if FLAG_fig: plt.savefig('fig_ClusterAggr_Toyama1.png')\n",
    "plt.show()"
   ]
  },
  {
   "cell_type": "markdown",
   "metadata": {},
   "source": [
    "上記の結果を見て，in, outに強い相関が有ることが認められる。naturalと（in, out）にも負の相関が認められるが，若干，外れる市町村があり，この原因究明も興味深い調査となるであろう。"
   ]
  },
  {
   "cell_type": "code",
   "execution_count": null,
   "metadata": {},
   "outputs": [],
   "source": []
  }
 ],
 "metadata": {
  "kernelspec": {
   "display_name": "Python 3",
   "language": "python",
   "name": "python3"
  },
  "language_info": {
   "codemirror_mode": {
    "name": "ipython",
    "version": 3
   },
   "file_extension": ".py",
   "mimetype": "text/x-python",
   "name": "python",
   "nbconvert_exporter": "python",
   "pygments_lexer": "ipython3",
   "version": "3.7.0"
  }
 },
 "nbformat": 4,
 "nbformat_minor": 2
}
