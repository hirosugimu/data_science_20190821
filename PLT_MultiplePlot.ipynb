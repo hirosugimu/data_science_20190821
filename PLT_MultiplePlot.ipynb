{
 "cells": [
  {
   "cell_type": "markdown",
   "metadata": {},
   "source": [
    "# matplotlibを用いて複数のプロット，グラフを描く\n",
    "subplotsのパラメータ:<br>\n",
    "https://matplotlib.org/api/_as_gen/matplotlib.pyplot.subplots.html <br>\n",
    "\n",
    "このパラメータのうち，更なるもの（figsize[inch, inch], facecolor, edgecolorなど）は次：<br>\n",
    "https://matplotlib.org/api/_as_gen/matplotlib.pyplot.figure.html<br>\n"
   ]
  },
  {
   "cell_type": "code",
   "execution_count": null,
   "metadata": {},
   "outputs": [],
   "source": [
    "# -*- coding: utf-8 -*-\n",
    "import numpy as np\n",
    "\n",
    "import matplotlib.pyplot as plt\n",
    "%matplotlib inline\n",
    "\n",
    "FLAG_fig = False"
   ]
  },
  {
   "cell_type": "code",
   "execution_count": null,
   "metadata": {},
   "outputs": [],
   "source": [
    "x = np.linspace(-3, 3, 20)\n",
    "y1 = x\n",
    "y2 = x ** 2\n",
    "y3 = x ** 3\n",
    "y4 = x ** 4"
   ]
  },
  {
   "cell_type": "code",
   "execution_count": null,
   "metadata": {},
   "outputs": [],
   "source": [
    "fig = plt.subplots(figsize=(10,3)) # size [inch,inch]\n",
    "plt.plot(x,y2)\n",
    "plt.plot(x,y3)\n",
    "\n",
    "plt.grid()\n",
    "plt.xlabel('x')\n",
    "plt.ylabel('y')\n",
    "plt.title('Example')\n",
    "\n",
    "plt.tight_layout() # xlabelの欠落を防ぐ方法１\n",
    "if FLAG_fig: plt.savefig('fig_PLT_MultipleGraph_1.png')\n",
    "#if FLAG_fig: plt.savefig('fig_PLT_MultipleGraph_1.png', bbox_inches='tight') #xlabeの欠落を防ぐ方法2\n",
    "plt.show()"
   ]
  },
  {
   "cell_type": "code",
   "execution_count": null,
   "metadata": {},
   "outputs": [],
   "source": [
    "fig, axs = plt.subplots(nrows=2, ncols=2, figsize=(6, 4))\n",
    " \n",
    "axs[0, 0].plot(x, y1) # upper left\n",
    "axs[0, 1].plot(x, y2) # upper right\n",
    "axs[1, 0].plot(x, y3) # lower left\n",
    "axs[1, 1].plot(x, y4) # lower right\n",
    "\n",
    "if FLAG_fig: plt.savefig('fig_PLT_MultipleGraph_2.png')\n",
    "plt.show()"
   ]
  },
  {
   "cell_type": "code",
   "execution_count": null,
   "metadata": {},
   "outputs": [],
   "source": [
    "fig, ((ax1, ax2), (ax3, ax4)) = plt.subplots(nrows=2, ncols=2, figsize=(6,4))\n",
    "\n",
    "ax1.plot(x, y1) # upper left\n",
    "ax2.plot(x, y2) # upper right\n",
    "ax3.plot(x, y3) # lower left\n",
    "ax4.plot(x, y4) # lower right\n",
    " \n",
    "if FLAG_fig: plt.savefig('fig_PLT_MultipleGraph_3.png')\n",
    "plt.show()"
   ]
  },
  {
   "cell_type": "code",
   "execution_count": null,
   "metadata": {},
   "outputs": [],
   "source": []
  }
 ],
 "metadata": {
  "kernelspec": {
   "display_name": "Python 3",
   "language": "python",
   "name": "python3"
  },
  "language_info": {
   "codemirror_mode": {
    "name": "ipython",
    "version": 3
   },
   "file_extension": ".py",
   "mimetype": "text/x-python",
   "name": "python",
   "nbconvert_exporter": "python",
   "pygments_lexer": "ipython3",
   "version": "3.7.0"
  }
 },
 "nbformat": 4,
 "nbformat_minor": 2
}
