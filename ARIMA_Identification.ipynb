{
 "cells": [
  {
   "cell_type": "markdown",
   "metadata": {},
   "source": [
    "# ARIMAモデル，1次式型トレンドを含むデータ\n",
    "1. ARMAシステム（真）のデータに1次式データ（非定常）が重畳する。<br>\n",
    "2. そのデータの差分表示を行うと，非定常分が消えることを示す。<br>\n",
    "Ref:<br>\n",
    "Autoregressive Moving Average (ARMA): Artificial data https://www.statsmodels.org/dev/generated/statsmodels.tsa.arima_model.ARIMA.html<br>\n",
    "statsmodels.tsa.arima_model.ARIMAResults.plot_predict https://www.statsmodels.org/dev/generated/statsmodels.tsa.arima_model.ARIMAResults.plot_predict.html<br>"
   ]
  },
  {
   "cell_type": "code",
   "execution_count": null,
   "metadata": {},
   "outputs": [],
   "source": [
    "# -*- coding: utf-8 -*-\n",
    "import numpy as np\n",
    "import pandas as pd\n",
    "\n",
    "import matplotlib.pyplot as plt\n",
    "%matplotlib inline\n",
    "\n",
    "import statsmodels.api as sm\n",
    "from statsmodels.tsa.arima_process import arma_generate_sample\n",
    "from statsmodels.tsa.arima_model import ARMA, ARIMA\n",
    "\n",
    "from scipy import stats\n",
    "\n",
    "np.random.seed(123)\n",
    "FLAG_fig = False"
   ]
  },
  {
   "cell_type": "markdown",
   "metadata": {},
   "source": [
    "観測データ（トレニーングデータ）              y  \n",
    "予測精度を見るための実データ（テストデータ）  y_test"
   ]
  },
  {
   "cell_type": "code",
   "execution_count": null,
   "metadata": {
    "scrolled": false
   },
   "outputs": [],
   "source": [
    "ar = [1, -1.5, 0.7]\n",
    "ma = [1.0, 0.6]\n",
    "\n",
    "nobs = 1000\n",
    "nobs_test = 100\n",
    "nobs_all = nobs + nobs_test\n",
    "\n",
    "dist = lambda n: np.random.randn(n)  # 正規分布,  引数 n はダミー\n",
    "#dist = lambda n: np.random.standard_t(3, size=n)  # t 分布\n",
    "\n",
    "# 知りたい信号成分\n",
    "sig0_all = arma_generate_sample(ar, ma, nobs_all, sigma=1, distrvs=dist, burnin=500)\n",
    "\n",
    "# トレンドの信号（1次式型）\n",
    "coef_a, coef_b = 0.05, 4\n",
    "trend0_all = coef_a*np.arange(len(sig0_all)) + coef_b\n",
    "\n",
    "# 出力信号（トレーニングデータ＋テストデータ）\n",
    "y0_all = sig0_all + trend0_all\n",
    "\n",
    "index = pd.date_range('1/1/2000', periods=nobs_all, freq='D')\n",
    "y_all = pd.Series(y0_all, index=index)\n",
    "\n",
    "#信号だけのデータを作成\n",
    "sig_all = pd.Series(sig0_all, index=index)\n",
    "\n",
    "y = y_all[:nobs]      #観測データはｙ\n",
    "y_test = y_all[nobs:] #予測精度を見るためのテストデータはy_test\n",
    "\n",
    "y.tail(5)\n",
    "\n",
    "y.plot(color='b')\n",
    "y_test.plot(color='c')\n",
    "\n",
    "if FLAG_fig: plt.savefig('fig_ARIMA_ident_signal_trend.png')\n",
    "plt.show()"
   ]
  },
  {
   "cell_type": "markdown",
   "metadata": {},
   "source": [
    "yの1階差分系列（青），元の信号（灰色）とは振幅，位相が異なることがわかる"
   ]
  },
  {
   "cell_type": "code",
   "execution_count": null,
   "metadata": {},
   "outputs": [],
   "source": [
    "diff = (y - y.shift()).dropna(axis=0) #先頭のデータは NaNとなるため\n",
    "diff.plot(color='b')\n",
    "sig_all[:nobs-1].plot(color='gray')\n",
    "\n",
    "if FLAG_fig: plt.savefig('fig_ARIMA_ident_y_diff.png')\n",
    "plt.show()"
   ]
  },
  {
   "cell_type": "markdown",
   "metadata": {},
   "source": [
    "ARIMAモデル,  トレンドが重畳した観測値y に対して適用"
   ]
  },
  {
   "cell_type": "code",
   "execution_count": null,
   "metadata": {},
   "outputs": [],
   "source": [
    "arima_result = sm.tsa.ARIMA(y, order=(2,1,1)).fit(trend='nc')\n",
    "print(arima_result.summary())"
   ]
  },
  {
   "cell_type": "code",
   "execution_count": null,
   "metadata": {
    "scrolled": false
   },
   "outputs": [],
   "source": [
    "resid = arima_result.resid # residual sequence\n",
    "sig_val = 0.05 # 有意水準\n",
    "\n",
    "resid.plot(figsize=(12,4))\n",
    "print(stats.normaltest(resid))\n",
    "\n",
    "fig = plt.figure(figsize=(12,3))\n",
    "ax1 = fig.add_subplot(111)\n",
    "fig = sm.graphics.tsa.plot_acf(resid.values.squeeze(), lags=20, alpha=sig_val, ax=ax1)\n",
    "\n",
    "if FLAG_fig: plt.savefig('fig_ARIMA_ident_resid_acf.png')\n",
    "plt.show()"
   ]
  },
  {
   "cell_type": "code",
   "execution_count": null,
   "metadata": {},
   "outputs": [],
   "source": [
    "Ref:<br>\n",
    "https://www.statsmodels.org/dev/examples/notebooks/generated/tsa_arma_1.html"
   ]
  },
  {
   "cell_type": "code",
   "execution_count": null,
   "metadata": {
    "scrolled": false
   },
   "outputs": [],
   "source": [
    "fig, ax = plt.subplots(figsize=(12,4))\n",
    "fig = arima_result.plot_predict(start='2002-07-31', end='2002-10-31', ax=ax)\n",
    "y_test['2002-09-27':'2002-10-31'].plot(color='m', label='real')\n",
    "legend = ax.legend(loc='upper right')\n",
    "\n",
    "if FLAG_fig: plt.savefig('fig_ARIMA_ident_y_predict.png')\n",
    "plt.show()"
   ]
  },
  {
   "cell_type": "markdown",
   "metadata": {},
   "source": [
    "### カーブフィッティング法  \n",
    "1次式トレンドを除去する方法"
   ]
  },
  {
   "cell_type": "code",
   "execution_count": null,
   "metadata": {},
   "outputs": [],
   "source": [
    "dummy_time = np.arange(nobs, dtype='float64')\n",
    "est_a, est_b = np.polyfit(dummy_time,y,1)\n",
    "print('Est a =',est_a, '    Est b=',est_b)\n",
    "est_trend = est_a*np.arange(nobs, dtype='float64') + est_b\n",
    "\n",
    "y_remove = y.sub(est_trend)\n",
    "y_remove.plot(color='b')\n",
    "sig_all[:nobs].plot(color='gray')\n",
    "\n",
    "if FLAG_fig: plt.savefig('fig_ARIMA_ident_remove_trend.png')\n",
    "plt.show()"
   ]
  },
  {
   "cell_type": "code",
   "execution_count": null,
   "metadata": {},
   "outputs": [],
   "source": [
    "arma_result = sm.tsa.ARMA(y_remove, order=(2,1)).fit(trend='nc')\n",
    "print(arma_result.summary())"
   ]
  },
  {
   "cell_type": "code",
   "execution_count": null,
   "metadata": {},
   "outputs": [],
   "source": [
    "resid2 = arma_result.resid # residual sequence\n",
    "resid2.plot(figsize=(12,4))\n",
    "print(stats.normaltest(resid2))\n",
    "\n",
    "fig = plt.figure(figsize=(12,3))\n",
    "sig_val = 0.05 # 有意水準\n",
    "ax1 = fig.add_subplot(111)\n",
    "fig = sm.graphics.tsa.plot_acf(resid2.values.squeeze(), lags=20, alpha=sig_val, ax=ax1)\n",
    "\n",
    "\n",
    "if FLAG_fig: plt.savefig('fig_ARIMA_ident_remove_trend_resid_acf.png')\n",
    "plt.show()"
   ]
  },
  {
   "cell_type": "markdown",
   "metadata": {},
   "source": [
    "予測は，ARMAの予測値に求めた一次式を重畳（単純な加算）すればよい。\n",
    "しかし，statsmodelsはこのことを提供していないので，ユーザに委ねる。"
   ]
  }
 ],
 "metadata": {
  "kernelspec": {
   "display_name": "Python 3",
   "language": "python",
   "name": "python3"
  },
  "language_info": {
   "codemirror_mode": {
    "name": "ipython",
    "version": 3
   },
   "file_extension": ".py",
   "mimetype": "text/x-python",
   "name": "python",
   "nbconvert_exporter": "python",
   "pygments_lexer": "ipython3",
   "version": "3.7.0"
  }
 },
 "nbformat": 4,
 "nbformat_minor": 2
}
