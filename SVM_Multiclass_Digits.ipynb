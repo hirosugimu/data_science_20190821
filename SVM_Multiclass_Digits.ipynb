{
 "cells": [
  {
   "cell_type": "markdown",
   "metadata": {},
   "source": [
    "# 手書き数字の識別をSVMを用いて行う\n",
    "参考 Recognizing hand-written digits　<br>\n",
    "http://scikit-learn.org/stable/auto_examples/classification/plot_digits_classification.html"
   ]
  },
  {
   "cell_type": "code",
   "execution_count": null,
   "metadata": {},
   "outputs": [],
   "source": [
    "# -*- coding: utf-8 -*-\n",
    "import numpy as np\n",
    "import matplotlib.pyplot as plt\n",
    "%matplotlib inline\n",
    "\n",
    "from sklearn.svm import SVC\n",
    "from sklearn.model_selection import train_test_split\n",
    "from sklearn.model_selection import GridSearchCV\n",
    "from sklearn.model_selection import cross_val_score\n",
    "from sklearn.metrics import accuracy_score, classification_report\n",
    "from sklearn import datasets\n",
    "\n",
    "FLAG_fig = False"
   ]
  },
  {
   "cell_type": "markdown",
   "metadata": {},
   "source": [
    "**Load Data ** <br>\n",
    "handwritten digits 0-9<br>\n",
    "http://scikit-learn.org/stable/modules/generated/sklearn.datasets.load_digits.html\n",
    "<br>Each datapoint is a 8x8 image of a digit.<br>\n",
    "Classes\t10<br>\n",
    "Samples per class\t~180<br>\n",
    "Samples total\t1797<br>\n",
    "Dimensionality\t64<br>\n",
    "Features\tintegers 0-16"
   ]
  },
  {
   "cell_type": "code",
   "execution_count": null,
   "metadata": {},
   "outputs": [],
   "source": [
    "# import digit data form sklearn datasets,\n",
    "digits = datasets.load_digits() #load data\n",
    "print('size =', digits.data.shape)"
   ]
  },
  {
   "cell_type": "markdown",
   "metadata": {},
   "source": [
    "画像データを　画像，サイズ，数値として見る。注意として，データ配列の初めの0-9番目は手書き数字が0-9の順番に格納されているが，これ以降は順番には格納されていない。"
   ]
  },
  {
   "cell_type": "code",
   "execution_count": null,
   "metadata": {
    "scrolled": true
   },
   "outputs": [],
   "source": [
    "counter = 1\n",
    "for i in range(0,10): #適当な範囲を指定\n",
    "    plt.subplot(2,5,counter)\n",
    "    counter += 1\n",
    "    plt.imshow(digits.images[i])\n",
    "\n",
    "if FLAG_fig: plt.savefig('fig_SVM_MClass_DHand_01.png')\n",
    "plt.show()\n",
    "# 画像データのフォーマットを見る\n",
    "print(digits.images[0].shape) #適当な番号を指定\n",
    "print(digits.images[100])     #同上"
   ]
  },
  {
   "cell_type": "code",
   "execution_count": null,
   "metadata": {},
   "outputs": [],
   "source": [
    "X = digits.data\n",
    "y = digits.target\n",
    "\n",
    "X_train, X_test, y_train, y_test = train_test_split(X, y, test_size=0.1, random_state=0)\n",
    "# グリッドサーチ用パラメータを設定\n",
    "parameters = {'kernel':('linear', 'rbf'), 'C':[0.1, 1.0, 10.0], \n",
    "              'gamma':[0.01, 0.1, 1.0, 10.0], 'decision_function_shape':('ovo', 'ovr')}"
   ]
  },
  {
   "cell_type": "code",
   "execution_count": null,
   "metadata": {},
   "outputs": [],
   "source": [
    "svm = SVC()\n",
    "# グリッドサーチを実行\n",
    "clf = GridSearchCV(svm, parameters, scoring='accuracy', cv=5)\n",
    "clf.fit(X_train, y_train)"
   ]
  },
  {
   "cell_type": "code",
   "execution_count": null,
   "metadata": {
    "scrolled": false
   },
   "outputs": [],
   "source": [
    "# 最適パラメータを表示\n",
    "print('Accuracy =', clf.best_score_)\n",
    "print(clf.best_params_)"
   ]
  },
  {
   "cell_type": "code",
   "execution_count": null,
   "metadata": {},
   "outputs": [],
   "source": [
    "y_test_pred = clf.predict(X_test)\n",
    "print(\"Accuracy Score = %f \\n\" % accuracy_score(y_test, y_test_pred))\n",
    "print(\"Classification report for classifier \\n %s\"  % classification_report(y_test, y_test_pred))"
   ]
  },
  {
   "cell_type": "markdown",
   "metadata": {},
   "source": [
    "下記で，dat = np.array([X_test[id]]) として，行っている理由は，scikit-learnのver 0.19から1次元配列を渡すのを禁止とされているため，見かけ上，2次元配列のように見せるためである。これを行わず，clf.predict(X_test[id])とすると，次の警告が表れる。\n",
    "DeprecationWarning: Passing 1d arrays as data is deprecated in 0.17 and will raise ValueError in 0.19. Reshape your data either using X.reshape(-1, 1) if your data has a single feature or X.reshape(1, -1) if it contains a single sample."
   ]
  },
  {
   "cell_type": "code",
   "execution_count": null,
   "metadata": {},
   "outputs": [],
   "source": [
    "# idで指定したデータから推定した数字を見る\n",
    "id=11\n",
    "dat = np.array([X_test[id]])\n",
    "print(\"Predicted Number is %d \" % clf.predict(dat))\n",
    "print(\"Real      Number is %d \" % y_test[id])\n",
    "\n",
    "plt.matshow(X_test[id].reshape(8,8))\n",
    "if FLAG_fig: plt.savefig('fig_SVM_MClass_DHand_02.png')\n",
    "plt.show()"
   ]
  },
  {
   "cell_type": "code",
   "execution_count": null,
   "metadata": {},
   "outputs": [],
   "source": []
  }
 ],
 "metadata": {
  "kernelspec": {
   "display_name": "Python 3",
   "language": "python",
   "name": "python3"
  },
  "language_info": {
   "codemirror_mode": {
    "name": "ipython",
    "version": 3
   },
   "file_extension": ".py",
   "mimetype": "text/x-python",
   "name": "python",
   "nbconvert_exporter": "python",
   "pygments_lexer": "ipython3",
   "version": "3.7.0"
  }
 },
 "nbformat": 4,
 "nbformat_minor": 2
}
