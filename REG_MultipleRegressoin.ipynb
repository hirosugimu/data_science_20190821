{
 "cells": [
  {
   "cell_type": "markdown",
   "metadata": {},
   "source": [
    "# 重回帰分析\n",
    "2つの説明変数と関係しない変数の誤ったモデル"
   ]
  },
  {
   "cell_type": "code",
   "execution_count": null,
   "metadata": {},
   "outputs": [],
   "source": [
    "# -*- coding: utf-8 -*-\n",
    "import numpy as np\n",
    "import pandas as pd\n",
    "\n",
    "import matplotlib.pyplot as plt\n",
    "%matplotlib inline\n",
    "\n",
    "import statsmodels.formula.api as smf\n",
    "\n",
    "from mpl_toolkits.mplot3d import Axes3D # for 3D-graph, 明示的には使わないが、インポートしておく必要がある\n",
    "\n",
    "np.random.seed(123) #再現性を得るため\n",
    "FLAG_fig = False"
   ]
  },
  {
   "cell_type": "markdown",
   "metadata": {},
   "source": [
    "## F検定の値を見る\n",
    "真のシステム：y = b1*x1 + b2*x2 + noise  \n",
    "モデル:　y = b1*x1 + b2*x2"
   ]
  },
  {
   "cell_type": "code",
   "execution_count": null,
   "metadata": {},
   "outputs": [],
   "source": [
    "num = 30\n",
    "noise = np.random.normal(0.0, 0.1, num)\n",
    "rad = np.linspace(-np.pi,np.pi,num)\n",
    "x1 = np.sin(rad)\n",
    "x2 = np.random.normal(-2.0, 3.0, num)"
   ]
  },
  {
   "cell_type": "code",
   "execution_count": null,
   "metadata": {},
   "outputs": [],
   "source": [
    "b1, b2 = 1.1, -0.55 # beta_0, beta_1\n",
    "y = b1*x1 + b2*x2 + noise\n",
    "df = pd.DataFrame({'y':y, 'x1':x1, 'x2':x2})\n",
    "results = smf.ols('y ~ x1 + x2 -1', data=df).fit()\n",
    "results.summary()"
   ]
  },
  {
   "cell_type": "code",
   "execution_count": null,
   "metadata": {},
   "outputs": [],
   "source": [
    "b1, b2 = 0.0001, -0.000055\n",
    "y = b1*x1 + b2*x2 + noise\n",
    "df = pd.DataFrame({'y':y, 'x1':x1, 'x2':x2})\n",
    "results = smf.ols('y ~ x1 + x2 -1', data=df).fit()\n",
    "results.summary()"
   ]
  },
  {
   "cell_type": "markdown",
   "metadata": {},
   "source": [
    "## 多重共線性（multicollinearity）の影響を見る"
   ]
  },
  {
   "cell_type": "code",
   "execution_count": null,
   "metadata": {},
   "outputs": [],
   "source": [
    "num = 30\n",
    "rad = np.linspace(-np.pi, np.pi, num)\n",
    "x1 = np.sin(rad)\n",
    "x2 = np.random.normal(-2.0, 3.0, num)\n",
    "\n",
    "b1, b2 = 3.3, -1.25\n",
    "noise = 0.001*np.random.normal( 0.0, 1.0, num)\n",
    "y = b1*x1 + b2*x2 + noise"
   ]
  },
  {
   "cell_type": "markdown",
   "metadata": {},
   "source": [
    "関係のないx3を測定したと仮定する"
   ]
  },
  {
   "cell_type": "code",
   "execution_count": null,
   "metadata": {},
   "outputs": [],
   "source": [
    "x3 = 3.35*np.sin((rad+0.001))+ 0.001*np.random.normal( 0.0, 1.0, num)\n",
    "df = pd.DataFrame({'y':y, 'x1':x1, 'x2':x2, 'x3':x3})"
   ]
  },
  {
   "cell_type": "code",
   "execution_count": null,
   "metadata": {
    "scrolled": false
   },
   "outputs": [],
   "source": [
    "results = smf.ols('y ~ x1 + x2 + x3 -1', data=df).fit()\n",
    "results.summary()"
   ]
  },
  {
   "cell_type": "markdown",
   "metadata": {},
   "source": [
    "\"The condition number is large\"というWarningメッセージが出た場合。<br>\n",
    "condition number（条件数）は、行列の固有値から計算される数値であり、この値が大きいほど連立方程式が解きにくくなり、<br>\n",
    "解に誤差を含む可能性が高いことを示唆する。したがって、出力された数値解は、盲目的に信じることなく、注意して見守る必要がある。"
   ]
  },
  {
   "cell_type": "markdown",
   "metadata": {},
   "source": [
    "#### モデル次数をシステムに合わせる"
   ]
  },
  {
   "cell_type": "code",
   "execution_count": null,
   "metadata": {},
   "outputs": [],
   "source": [
    "results = smf.ols('y ~ x1 + x2 -1', data=df).fit()\n",
    "results.summary()"
   ]
  },
  {
   "cell_type": "markdown",
   "metadata": {},
   "source": [
    "#### ３Dプロット，\n",
    "参照　https://matplotlib.org/mpl_toolkits/mplot3d/tutorial.html"
   ]
  },
  {
   "cell_type": "code",
   "execution_count": null,
   "metadata": {},
   "outputs": [],
   "source": [
    "fig = plt.figure()\n",
    "ax = fig.add_subplot(111, projection='3d')\n",
    "\n",
    "# 軸ラベルの設定\n",
    "ax.set_xlabel(\"x1-axis\")\n",
    "ax.set_ylabel(\"x2-axis\")\n",
    "ax.set_zlabel(\"y-axis\")\n",
    "\n",
    "# 表示範囲の設定\n",
    "ax.set_xlim(-5, 5)\n",
    "ax.set_ylim(-4, 4)\n",
    "ax.set_zlim(-6, 10)\n",
    "\n",
    "#観測データのプロット\n",
    "ax.scatter(x1, x2, y, s=10, color='green')\n",
    "\n",
    "# モデル式の表示\n",
    "xx1 = np.linspace(-5,5,num)\n",
    "xx2 = np.linspace(-4,4,num)\n",
    "\n",
    "c1, c2 = results.params\n",
    "\n",
    "y0 = c1*xx1 + c2*xx2\n",
    "ax.plot(xx1, xx2, y0, color='black', linestyle='dashed')\n",
    "plt.show()"
   ]
  }
 ],
 "metadata": {
  "kernelspec": {
   "display_name": "Python 3",
   "language": "python",
   "name": "python3"
  },
  "language_info": {
   "codemirror_mode": {
    "name": "ipython",
    "version": 3
   },
   "file_extension": ".py",
   "mimetype": "text/x-python",
   "name": "python",
   "nbconvert_exporter": "python",
   "pygments_lexer": "ipython3",
   "version": "3.7.0"
  }
 },
 "nbformat": 4,
 "nbformat_minor": 2
}
