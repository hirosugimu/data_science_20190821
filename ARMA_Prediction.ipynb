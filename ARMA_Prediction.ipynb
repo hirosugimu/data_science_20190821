{
 "cells": [
  {
   "cell_type": "markdown",
   "metadata": {},
   "source": [
    "### ARMAモデル，予測"
   ]
  },
  {
   "cell_type": "code",
   "execution_count": null,
   "metadata": {},
   "outputs": [],
   "source": [
    "# -*- coding: utf-8 -*-\n",
    "import numpy as np\n",
    "import pandas as pd\n",
    "\n",
    "import matplotlib.pyplot as plt\n",
    "%matplotlib inline\n",
    "\n",
    "import statsmodels.api as sm\n",
    "from statsmodels.tsa.arima_process import arma_generate_sample\n",
    "from statsmodels.tsa.arima_model import ARMA\n",
    "\n",
    "from scipy import stats\n",
    "\n",
    "np.random.seed(123)\n",
    "FLAG_fig = False"
   ]
  },
  {
   "cell_type": "code",
   "execution_count": null,
   "metadata": {},
   "outputs": [],
   "source": [
    "nobs = 1000\n",
    "nobs_test = 100\n",
    "nobs_all = nobs + nobs_test\n",
    "ar = [1, -1.5, 0.7]\n",
    "ma = [1.0, 0.6]\n",
    "dist = lambda n: np.random.randn(n)  # 正規分布,  引数 n はダミー\n",
    "#dist = lambda n: np.random.standard_t(3, size=n)  # t 分布\n",
    "\n",
    "y_all = arma_generate_sample(ar, ma, nobs_all, sigma=1, distrvs=dist, burnin=500)\n",
    "\n",
    "#y0 = y_all[:nobs]\n",
    "#y_test = y_all[nobs:]"
   ]
  },
  {
   "cell_type": "markdown",
   "metadata": {},
   "source": [
    "pandas.date_range ドキュメント<br>\n",
    "https://pandas.pydata.org/pandas-docs/stable/generated/pandas.date_range.html<br>\n",
    "使い方例：http://pandas.pydata.org/pandas-docs/stable/timeseries.html#offset-aliases<br>\n",
    "ここの Offset Aliases にfreqの与え方が示されている<br>\n",
    "\n",
    "トレーニングデータの作成"
   ]
  },
  {
   "cell_type": "code",
   "execution_count": null,
   "metadata": {
    "scrolled": false
   },
   "outputs": [],
   "source": [
    "index = pd.date_range('1/1/2000', periods=nobs, freq='D')\n",
    "y = pd.Series(y_all[:nobs], index=index)\n",
    "print(y.head())\n",
    "print(y.tail())\n",
    "print(type(index))"
   ]
  },
  {
   "cell_type": "markdown",
   "metadata": {},
   "source": [
    "テストデータの作成<br>yの最後の時刻（DateTime）の次からを開始時刻としている。このテストデータは最後の方で用いる"
   ]
  },
  {
   "cell_type": "code",
   "execution_count": null,
   "metadata": {},
   "outputs": [],
   "source": [
    "index_tst = pd.date_range('9/27/2002', periods=nobs_test, freq='D')\n",
    "y_test = pd.Series(y_all[nobs:], index=index_tst)\n",
    "print(y_test.head())\n",
    "print(y_test.tail())"
   ]
  },
  {
   "cell_type": "code",
   "execution_count": null,
   "metadata": {
    "scrolled": true
   },
   "outputs": [],
   "source": [
    "y.plot(figsize=(16,4))\n",
    "\n",
    "if FLAG_fig: plt.savefig('fig_ARMA_Prediction_y.png')\n",
    "plt.show()"
   ]
  },
  {
   "cell_type": "markdown",
   "metadata": {},
   "source": [
    "statsmodels.graphics.tsaplots.plot_acf ドキュメント\n",
    "http://www.statsmodels.org/dev/generated/statsmodels.graphics.tsaplots.plot_acf.html  \n",
    "statsmodels.graphics.tsaplots.plot_pacf ドキュメント  \n",
    "http://www.statsmodels.org/dev/generated/statsmodels.graphics.tsaplots.plot_pacf.html"
   ]
  },
  {
   "cell_type": "code",
   "execution_count": null,
   "metadata": {},
   "outputs": [],
   "source": [
    "fig = plt.figure(figsize=(12,3))\n",
    "ax = fig.add_subplot(111)\n",
    "fig = sm.graphics.tsa.plot_acf(y, lags=20, ax=ax)\n",
    "\n",
    "if FLAG_fig: plt.savefig('fig_ARMA_Prediction_acf.png')\n",
    "plt.show()"
   ]
  },
  {
   "cell_type": "code",
   "execution_count": null,
   "metadata": {
    "scrolled": true
   },
   "outputs": [],
   "source": [
    "arma_result = sm.tsa.ARMA(y, order=(2,1)).fit(trend='nc')\n",
    "print(arma_result.summary())"
   ]
  },
  {
   "cell_type": "markdown",
   "metadata": {},
   "source": [
    "scipy.stats.normaltest　ドキュメント  \n",
    "https://docs.scipy.org/doc/scipy/reference/generated/scipy.stats.normaltest.html"
   ]
  },
  {
   "cell_type": "code",
   "execution_count": null,
   "metadata": {
    "scrolled": true
   },
   "outputs": [],
   "source": [
    "resid = arma_result.resid # residual sequence\n",
    "resid.plot(figsize=(12,4))\n",
    "\n",
    "if FLAG_fig: plt.savefig('fig_ARMA_Prediction_resid.png')\n",
    "plt.show()"
   ]
  },
  {
   "cell_type": "code",
   "execution_count": null,
   "metadata": {},
   "outputs": [],
   "source": [
    "print(stats.normaltest(resid))"
   ]
  },
  {
   "cell_type": "markdown",
   "metadata": {},
   "source": [
    "statsmodels.graphics.tsaplots.plot_acf <br>\n",
    "http://www.statsmodels.org/dev/generated/statsmodels.graphics.tsaplots.plot_acf.html"
   ]
  },
  {
   "cell_type": "code",
   "execution_count": null,
   "metadata": {
    "scrolled": false
   },
   "outputs": [],
   "source": [
    "fig = plt.figure(figsize=(12,3))\n",
    "sig_val = 0.05 # 有意水準\n",
    "ax1 = fig.add_subplot(111)\n",
    "fig = sm.graphics.tsa.plot_acf(resid.values.squeeze(), lags=20, alpha=sig_val, ax=ax1)\n",
    "\n",
    "\n",
    "if FLAG_fig: plt.savefig('fig_ARMA_Prediction_acf_resid.png')\n",
    "plt.show()"
   ]
  },
  {
   "cell_type": "markdown",
   "metadata": {},
   "source": [
    "Ref:<br>\n",
    "Autoregressive Moving Average (ARMA): Artificial data https://www.statsmodels.org/dev/examples/notebooks/generated/tsa_arma_1.html"
   ]
  },
  {
   "cell_type": "code",
   "execution_count": null,
   "metadata": {
    "scrolled": false
   },
   "outputs": [],
   "source": [
    "fig, ax = plt.subplots(figsize=(12,4))\n",
    "fig = arma_result.plot_predict(start='2002-07-31', end='2002-10-31', ax=ax)\n",
    "y_test['2002-09-27':'2002-10-31'].plot(color='m', label='real')\n",
    "legend = ax.legend(loc='upper right')\n",
    "\n",
    "if FLAG_fig: plt.savefig('fig_ARMA_Prediction_predict.png')\n",
    "plt.show()"
   ]
  }
 ],
 "metadata": {
  "kernelspec": {
   "display_name": "Python 3",
   "language": "python",
   "name": "python3"
  },
  "language_info": {
   "codemirror_mode": {
    "name": "ipython",
    "version": 3
   },
   "file_extension": ".py",
   "mimetype": "text/x-python",
   "name": "python",
   "nbconvert_exporter": "python",
   "pygments_lexer": "ipython3",
   "version": "3.7.0"
  }
 },
 "nbformat": 4,
 "nbformat_minor": 2
}
