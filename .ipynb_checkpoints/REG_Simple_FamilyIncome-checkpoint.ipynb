{
 "cells": [
  {
   "cell_type": "markdown",
   "metadata": {},
   "source": [
    "# 単回帰分析\n",
    "1世帯当たり　年間収入 と 1か月支出"
   ]
  },
  {
   "cell_type": "markdown",
   "metadata": {},
   "source": [
    "#### データ収集の仕方\n",
    "家計調査結果，総務省統計局　http://www.stat.go.jp/data/kakei/index.htm    \n",
    "->“調査の結果”  \n",
    "->“結果の概要（家計収支編）”  \n",
    "->過去の結果”の“家計調査年報（家計収支編）”  \n",
    "->“家計調査年報（総世帯・二人以上の世帯・単身世帯）”の“平成28年（2016年）　年報”  \n",
    "->“平成28年（2016年）　家計の概要” の“二人以上の世帯”  \n",
    "->“年間収入五分位・十分位階級別”，ECXELをダウンロード“fn03.xls”  \n",
    "このExcelファイル, 年間収入十分位階級から，  \n",
    "年間収入(万円) -> \"income\"  \n",
    "消費支出 -> \"expenditure\" \n",
    "エンゲル係数（％） -> \"engel\"\n",
    "と表現して，データを作成。"
   ]
  },
  {
   "cell_type": "markdown",
   "metadata": {},
   "source": [
    "#### 単回帰分析の解放とAPI\n",
    "statsmodelsが持ちる回帰モデルと仮定する条件　http://www.statsmodels.org/stable/regression.html  \n",
    "計算はOLSを使用　Ordinary Least Squares　http://www.statsmodels.org/stable/examples/notebooks/generated/ols.html  \n",
    "OLSのパラメータの与え方が不便と思うならばR風の与え方を可能とする方法　http://www.statsmodels.org/dev/example_formulas.html"
   ]
  },
  {
   "cell_type": "code",
   "execution_count": null,
   "metadata": {},
   "outputs": [],
   "source": [
    "# -*- coding: utf-8 -*-\n",
    "import numpy as np\n",
    "import pandas as pd\n",
    "import matplotlib.pyplot as plt\n",
    "%matplotlib inline\n",
    "\n",
    "import statsmodels.formula.api as smf\n",
    "\n",
    "FLAG_fig = False"
   ]
  },
  {
   "cell_type": "code",
   "execution_count": null,
   "metadata": {
    "scrolled": false
   },
   "outputs": [],
   "source": [
    "url = 'https://sites.google.com/site/datasciencehiro/datasets/FamilyIncome.csv'\n",
    "df = pd.read_csv(url, comment='#')\n",
    "df_save = df.copy() # deep copy\n",
    "print(df)\n",
    "print(df.shape)\n",
    "df.corr()"
   ]
  },
  {
   "cell_type": "markdown",
   "metadata": {},
   "source": [
    "ols(ordinary least squares、最小2乗)法を用いて単回帰モデルを求める。<br>\n",
    "https://en.wikipedia.org/wiki/Ordinary_least_squares\n",
    "データ数 < 20 の場合には、尖度（kurtosis）の評価（olsではkurtosistestと表記）が有効にできないというwarningメッセージが現れるが、ここではこの評価は使わないので無視する。<br>\n",
    "scipy.stats.kurtosistest https://docs.scipy.org/doc/scipy-0.14.0/reference/generated/scipy.stats.kurtosistest.html <br>\n",
    "Kurtosis: https://en.wikipedia.org/wiki/Kurtosis"
   ]
  },
  {
   "cell_type": "code",
   "execution_count": null,
   "metadata": {},
   "outputs": [],
   "source": [
    "result = smf.ols('expenditure ~ income', data=df).fit()\n",
    "print(result.summary())"
   ]
  },
  {
   "cell_type": "markdown",
   "metadata": {},
   "source": [
    "$P > |t|$は，係数がゼロである確率，これが非常に小さいならば，ゼロでないといえる。"
   ]
  },
  {
   "cell_type": "code",
   "execution_count": null,
   "metadata": {},
   "outputs": [],
   "source": [
    "result.params"
   ]
  },
  {
   "cell_type": "code",
   "execution_count": null,
   "metadata": {
    "scrolled": false
   },
   "outputs": [],
   "source": [
    "b0, b1 = result.params\n",
    "plt.plot(df['income'],df['expenditure'], 'o')\n",
    "plt.plot(df['income'], b0+b1*df['income'], c='k')\n",
    "\n",
    "plt.xlabel('income [x 10000YEN]')\n",
    "plt.ylabel('expenditure')\n",
    "\n",
    "plt.tight_layout()\n",
    "if FLAG_fig: plt.savefig('REG_Simple_FamilyIncome1.png')\n",
    "plt.show()"
   ]
  },
  {
   "cell_type": "markdown",
   "metadata": {},
   "source": [
    "#### 予測"
   ]
  },
  {
   "cell_type": "code",
   "execution_count": null,
   "metadata": {
    "scrolled": true
   },
   "outputs": [],
   "source": [
    "NewData = {'income':[1100,1200]}\n",
    "df = pd.DataFrame(NewData)\n",
    "pred = result.predict(df)\n",
    "pred"
   ]
  },
  {
   "cell_type": "markdown",
   "metadata": {},
   "source": [
    "次は同じことを計算している"
   ]
  },
  {
   "cell_type": "code",
   "execution_count": null,
   "metadata": {},
   "outputs": [],
   "source": [
    "pred = b0 + b1*1100\n",
    "pred"
   ]
  },
  {
   "cell_type": "markdown",
   "metadata": {},
   "source": [
    "上のグラフを見ると，最低収入と最高収入のデータが最も外れているように見えるので，この2点をはずした回帰分析を再度行う。"
   ]
  },
  {
   "cell_type": "code",
   "execution_count": null,
   "metadata": {},
   "outputs": [],
   "source": [
    "df1=df_save.copy()"
   ]
  },
  {
   "cell_type": "code",
   "execution_count": null,
   "metadata": {},
   "outputs": [],
   "source": [
    "df1.drop(9, inplace=True)\n",
    "df1.drop(0, inplace=True)"
   ]
  },
  {
   "cell_type": "code",
   "execution_count": null,
   "metadata": {},
   "outputs": [],
   "source": [
    "result = smf.ols('expenditure ~ income', data=df1).fit()\n",
    "result.summary()"
   ]
  },
  {
   "cell_type": "code",
   "execution_count": null,
   "metadata": {
    "scrolled": true
   },
   "outputs": [],
   "source": [
    "a, b = result.params\n",
    "plt.plot(df1['income'],df1['expenditure'], 'o', c='k')\n",
    "plt.plot(df1['income'], a+b*df1['income'])\n",
    "\n",
    "plt.xlabel('income [x 10000YEN]')\n",
    "plt.ylabel('expenditure')\n",
    "plt.show()"
   ]
  },
  {
   "cell_type": "code",
   "execution_count": null,
   "metadata": {},
   "outputs": [],
   "source": [
    "result = smf.ols('engel ~ income', data=df1).fit()\n",
    "result.summary()"
   ]
  },
  {
   "cell_type": "code",
   "execution_count": null,
   "metadata": {},
   "outputs": [],
   "source": [
    "a, b = result.params\n",
    "plt.plot(df1['income'],df1['engel'], 'o')\n",
    "plt.plot(df1['income'], a+b*df1['income'], c='k')\n",
    "\n",
    "plt.xlabel('income [x 10000YEN]')\n",
    "plt.ylabel('engel coeff [%]')\n",
    "\n",
    "plt.tight_layout()\n",
    "if FLAG_fig: plt.savefig('REG_Simple_FamilyIncome2.png')\n",
    "plt.show()"
   ]
  },
  {
   "cell_type": "code",
   "execution_count": null,
   "metadata": {},
   "outputs": [],
   "source": []
  },
  {
   "cell_type": "code",
   "execution_count": null,
   "metadata": {},
   "outputs": [],
   "source": []
  }
 ],
 "metadata": {
  "kernelspec": {
   "display_name": "Python 3",
   "language": "python",
   "name": "python3"
  },
  "language_info": {
   "codemirror_mode": {
    "name": "ipython",
    "version": 3
   },
   "file_extension": ".py",
   "mimetype": "text/x-python",
   "name": "python",
   "nbconvert_exporter": "python",
   "pygments_lexer": "ipython3",
   "version": "3.7.0"
  }
 },
 "nbformat": 4,
 "nbformat_minor": 2
}
