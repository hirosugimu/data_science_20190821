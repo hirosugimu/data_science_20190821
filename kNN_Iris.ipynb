{
 "cells": [
  {
   "cell_type": "markdown",
   "metadata": {},
   "source": [
    "# kNN irisデータの分類"
   ]
  },
  {
   "cell_type": "code",
   "execution_count": null,
   "metadata": {},
   "outputs": [],
   "source": [
    "# -*- coding: utf-8 -*-\n",
    "import numpy as np\n",
    "import matplotlib.pyplot as plt\n",
    "%matplotlib inline\n",
    "from matplotlib import cm\n",
    "\n",
    "from sklearn.neighbors import KNeighborsClassifier\n",
    "from sklearn import datasets\n",
    "from sklearn.metrics import  accuracy_score, classification_report\n",
    "from sklearn.model_selection import train_test_split\n",
    "\n",
    "FLAG_fig = False"
   ]
  },
  {
   "cell_type": "markdown",
   "metadata": {},
   "source": [
    "#### Xは2次元\n",
    "iris変量の内，sepal（がく）と petal（花びら）の長さ[cm]を見るため\n",
    "0番目と2番目のデータをXに格納"
   ]
  },
  {
   "cell_type": "code",
   "execution_count": null,
   "metadata": {},
   "outputs": [],
   "source": [
    "# Load iris data, 150 sample\n",
    "iris = datasets.load_iris()\n",
    "X = iris.data[:, [0, 2]]\n",
    "y = iris.target\n",
    "\n",
    "# Split into training and test\n",
    "X_train, X_test, y_train, y_test = train_test_split(X, y, test_size=2/15, random_state=123)\n",
    "\n",
    "fig = plt.subplots(figsize=(8,4))\n",
    "plt.xlim(4.0, 8.0)\n",
    "plt.ylim(0.5, 7.5)\n",
    "plt.scatter(X_train[:,0], X_train[:,1], c=y_train, cmap=cm.bwr, edgecolors='k')\n",
    "plt.title('Training, Blue:0, White:1, Red:2')\n",
    "plt.grid()\n",
    "\n",
    "if FLAG_fig: plt.savefig('fig_kNN_Iris_1.png')\n",
    "plt.show()"
   ]
  },
  {
   "cell_type": "code",
   "execution_count": null,
   "metadata": {
    "scrolled": false
   },
   "outputs": [],
   "source": [
    "k_range=(3, 7, 9)\n",
    "for k in k_range:\n",
    "    \n",
    "    neigh = KNeighborsClassifier(n_neighbors=k)\n",
    "    neigh.fit(X_train, y_train)\n",
    "    \n",
    "    y_test_pred = neigh.predict(X_test)\n",
    "    acc = accuracy_score(y_test, y_test_pred)\n",
    "    print('Accuracy =',acc)\n",
    "    print(classification_report(y_test, y_test_pred))\n",
    "    \n",
    "    fig = plt.subplots(figsize=(8,4))\n",
    "    plt.xlim(4.0, 8.0)\n",
    "    plt.ylim(0.5, 7.5)\n",
    "    plt.scatter(X_test[:,0], X_test[:,1], c=y_test_pred, cmap=cm.bwr, edgecolors='k')\n",
    "    plt.grid()\n",
    "    plt.title('Predicttion, Blue:0, White:1, Red:2')\n",
    "    \n",
    "    if FLAG_fig: plt.savefig('fig_kNN_Iris_2.png') #結果が変わらないので，最後の図を出力\n",
    "    plt.show()"
   ]
  },
  {
   "cell_type": "markdown",
   "metadata": {},
   "source": [
    "どのデータが誤っているかを調べる。"
   ]
  },
  {
   "cell_type": "code",
   "execution_count": null,
   "metadata": {},
   "outputs": [],
   "source": [
    "print('Real       =',y_test)\n",
    "print('Prediction =',y_test_pred)"
   ]
  },
  {
   "cell_type": "code",
   "execution_count": null,
   "metadata": {},
   "outputs": [],
   "source": [
    "#上のグラフと比較してｋNNの性能を推測する。\n",
    "print('  0:',X_test[0],'\\n  5:',X_test[5],'\\n 10:',X_test[10])"
   ]
  },
  {
   "cell_type": "markdown",
   "metadata": {},
   "source": [
    "#### 説明変数の特徴量を4次元（全て）にして，kNNを実施\n",
    "ただし，splitする際にrandom_stateを省いているため，試行ごとにトレーニングデータとテストデータの性質が異なる。"
   ]
  },
  {
   "cell_type": "code",
   "execution_count": null,
   "metadata": {},
   "outputs": [],
   "source": [
    "# random_state be not set. random division\n",
    "X_train, X_test, y_train, y_test = train_test_split(iris.data, iris.target, test_size=2/15)\n",
    "\n",
    "print(X_train.shape, y_train.shape)\n",
    "print(X_test.shape, y_test.shape)\n",
    "\n",
    "neigh = KNeighborsClassifier(n_neighbors=3)\n",
    "neigh.fit(X_train, y_train)"
   ]
  },
  {
   "cell_type": "code",
   "execution_count": null,
   "metadata": {},
   "outputs": [],
   "source": [
    "y_test_predt = neigh.predict(X_test)\n",
    "acc = accuracy_score(y_test, y_test_pred)\n",
    "print('Accuracy =',acc)\n",
    "print('Real       =',y_test)\n",
    "print('Prediction =',y_test_pred)"
   ]
  },
  {
   "cell_type": "markdown",
   "metadata": {},
   "source": [
    "結果は随分と変わる。"
   ]
  }
 ],
 "metadata": {
  "kernelspec": {
   "display_name": "Python 3",
   "language": "python",
   "name": "python3"
  },
  "language_info": {
   "codemirror_mode": {
    "name": "ipython",
    "version": 3
   },
   "file_extension": ".py",
   "mimetype": "text/x-python",
   "name": "python",
   "nbconvert_exporter": "python",
   "pygments_lexer": "ipython3",
   "version": "3.7.0"
  }
 },
 "nbformat": 4,
 "nbformat_minor": 2
}
