{
 "cells": [
  {
   "cell_type": "markdown",
   "metadata": {},
   "source": [
    "# DFT Zero Padding\n",
    "\n",
    "scipy.fftpackを使用　https://docs.scipy.org/doc/scipy/reference/fftpack.html<br>\n",
    "dft, fftは，numpy.fft.fftにもあるが，上記を使用する。<br>\n",
    "wiki https://en.wikipedia.org/wiki/Discrete_Fourier_transform <br>"
   ]
  },
  {
   "cell_type": "code",
   "execution_count": null,
   "metadata": {},
   "outputs": [],
   "source": [
    "# coding: utf-8\n",
    "import numpy as np\n",
    "import scipy.fftpack\n",
    "\n",
    "import matplotlib.pyplot as plt\n",
    "%matplotlib inline\n",
    "\n",
    "np.random.seed(123)\n",
    "FLAG_fig = False"
   ]
  },
  {
   "cell_type": "markdown",
   "metadata": {},
   "source": [
    "#### サイン波の周期の整数倍を観測"
   ]
  },
  {
   "cell_type": "code",
   "execution_count": null,
   "metadata": {
    "scrolled": false
   },
   "outputs": [],
   "source": [
    "N = 16\n",
    "T = 1.1\n",
    "dt = T/N  # サンプリング時間\n",
    "df = 1/T  # 周波数分解能\n",
    "\n",
    "t = np.linspace(0, N-1, N)*dt # 時間軸\n",
    "x = 0.5*np.sin(2*np.pi*1.1*t)  \\\n",
    "  + 1.0*np.sin(2*np.pi*1.7*t + np.pi/2) \\\n",
    "  + 0.5*np.sin(2*np.pi*3.1*t)\n",
    "\n",
    "plt.plot(t, x, marker='.')\n",
    "plt.xlabel('time[s]')\n",
    "plt.grid()"
   ]
  },
  {
   "cell_type": "markdown",
   "metadata": {},
   "source": [
    "scipy.fftpack.fft https://docs.scipy.org/doc/scipy/reference/generated/scipy.fftpack.fft.html<br>\n",
    "Zero Padding: n > x.shape, x is zero-padded."
   ]
  },
  {
   "cell_type": "markdown",
   "metadata": {},
   "source": [
    "step(markerfmt='None') https://matplotlib.org/api/markers_api.html"
   ]
  },
  {
   "cell_type": "code",
   "execution_count": null,
   "metadata": {
    "scrolled": true
   },
   "outputs": [],
   "source": [
    "dft = scipy.fftpack.fft(x)\n",
    "esd = (np.abs(dft)**2) # エネルギースペクトル\n",
    "psd = esd/T            # パワースペクトル\n",
    "Num = dft.size\n",
    "dt  = T/Num\n",
    "freq = np.fft.fftfreq(Num, d=dt) # 周波数軸\n",
    "\n",
    "plt.stem(freq, psd,  markerfmt='None')\n",
    "plt.xlabel('Frequency [Hz]')\n",
    "plt.ylabel('Power Spectrum')\n",
    "plt.title('N ='+str(N))\n",
    "if FLAG_fig: plt.savefig('fig_DFT_ZeroPad_01.png')\n",
    "plt.show()"
   ]
  },
  {
   "cell_type": "markdown",
   "metadata": {},
   "source": [
    "備考：次のscipy.fftpack.fft(x,n=Num)の実行で，次のWarning<br>\n",
    "FutureWarning: Using a non-tuple sequence for multidimensional indexing is deprecated; use `arr[tuple(seq)]` instead of `arr[seq]`. <br>\n",
    "が出力された，引数x=Numの影響を受けて，1次元のnumpy.ndarrayであるxのインデックスにtupleを用いなさい，と言っているが，現時点では無視しても構わない。"
   ]
  },
  {
   "cell_type": "code",
   "execution_count": null,
   "metadata": {
    "scrolled": true
   },
   "outputs": [],
   "source": [
    "Num = 2**5\n",
    "dft = scipy.fftpack.fft(x, n=Num)\n",
    "esd = (np.abs(dft)**2) # エネルギースペクトル\n",
    "psd = esd/T            # パワースペクトル\n",
    "\n",
    "#Tx = Num*dt\n",
    "#dt  = T/Num\n",
    "freq = np.fft.fftfreq(Num, d=dt) # 周波数軸\n",
    "print('Num*dt=',Num*dt)\n",
    "\n",
    "plt.stem(freq, psd,  markerfmt='None')\n",
    "plt.xlabel('Frequency [Hz]')\n",
    "plt.ylabel('Power Spectrum')\n",
    "plt.title('N ='+str(Num))\n",
    "if FLAG_fig: plt.savefig('fig_DFT_ZeroPad_02.png')\n",
    "plt.show()"
   ]
  },
  {
   "cell_type": "code",
   "execution_count": null,
   "metadata": {
    "scrolled": true
   },
   "outputs": [],
   "source": [
    "Num = 2**6\n",
    "FTx = scipy.fftpack.fft(x, n=Num)\n",
    "esd = (np.abs(FTx)**2) # エネルギースペクトル\n",
    "psd = esd/T            # パワースペクトル\n",
    "#dt  = T/Num\n",
    "freq = np.fft.fftfreq(Num, d=dt) # 周波数軸\n",
    "print('Num*dt=',Num*dt)\n",
    "\n",
    "plt.stem(freq, psd,  markerfmt='None')\n",
    "plt.xlabel('Frequency [Hz]')\n",
    "plt.ylabel('Power Spectrum')\n",
    "plt.title('N ='+str(Num))\n",
    "if FLAG_fig: plt.savefig('fig_DFT_ZeroPad_03.png')\n",
    "plt.show()"
   ]
  },
  {
   "cell_type": "code",
   "execution_count": null,
   "metadata": {},
   "outputs": [],
   "source": [
    "Num = 2**7\n",
    "FTx = scipy.fftpack.fft(x, n=Num)\n",
    "esd = (np.abs(FTx)**2) # エネルギースペクトル\n",
    "psd = esd/T            # パワースペクトル\n",
    "#dt  = T/Num\n",
    "freq = np.fft.fftfreq(Num, d=dt) # 周波数軸\n",
    "print('Num*dt=',Num*dt)\n",
    "\n",
    "plt.stem(freq, psd,  markerfmt='None')\n",
    "plt.xlabel('Frequency [Hz]')\n",
    "plt.ylabel('Power Spectrum')\n",
    "plt.title('N ='+str(Num))\n",
    "plt.show()"
   ]
  },
  {
   "cell_type": "code",
   "execution_count": null,
   "metadata": {},
   "outputs": [],
   "source": [
    "Num = 2**9\n",
    "FTx = scipy.fftpack.fft(x, n=Num)\n",
    "esd = (np.abs(FTx)**2) # エネルギースペクトル\n",
    "psd = esd/T            # パワースペクトル\n",
    "#dt  = T/Num\n",
    "freq = np.fft.fftfreq(Num, d=dt) # 周波数軸\n",
    "\n",
    "plt.stem(freq, psd,  markerfmt='None')\n",
    "plt.xlabel('Frequency [Hz]')\n",
    "plt.ylabel('Power Spectrum')\n",
    "plt.title('N ='+str(Num))\n",
    "if FLAG_fig: plt.savefig('fig_DFT_ZeroPad_04.png')\n",
    "plt.show()"
   ]
  },
  {
   "cell_type": "code",
   "execution_count": null,
   "metadata": {},
   "outputs": [],
   "source": []
  }
 ],
 "metadata": {
  "kernelspec": {
   "display_name": "Python 3",
   "language": "python",
   "name": "python3"
  },
  "language_info": {
   "codemirror_mode": {
    "name": "ipython",
    "version": 3
   },
   "file_extension": ".py",
   "mimetype": "text/x-python",
   "name": "python",
   "nbconvert_exporter": "python",
   "pygments_lexer": "ipython3",
   "version": "3.7.0"
  }
 },
 "nbformat": 4,
 "nbformat_minor": 2
}
