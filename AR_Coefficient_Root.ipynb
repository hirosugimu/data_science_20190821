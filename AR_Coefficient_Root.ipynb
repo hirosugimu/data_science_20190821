{
 "cells": [
  {
   "cell_type": "markdown",
   "metadata": {},
   "source": [
    "# ARモデルのパラメータと極を求める\n",
    "\n",
    "ARモデルを表す多項式（polynomial）を考える。安定な極（pole）とは複素平面上で単位円（半径1, 中心が原点）にあるものをいう。すなわち，極の大きさ（絶対値）は1以下である。<br>\n",
    "本プログラムは，複素平面上の単位円の中にあるか否かを見る。<br>\n",
    "ARモデル<br>\n",
    "$$ A(z^{-1}) = 1 + a_1 z^{-1} + a_2 z^{-2} + \\cdots + a_n z^{-n}$$\n",
    "これに$z^n$を乗じて，次の多項式として見る<br>\n",
    "$$ f(z) = z^{n} + a_1 z^{n-1} + \\cdots + a_n = \\Pi (z - \\lambda_i) $$\n",
    "ここに，$\\lambda_i$ は根（root）であり，ここではARモデルの極と等価である。これを求める問題と考える。<br>\n",
    "このとき，代数学より実数係数の多項式の根は共役複素数（conjugate complex number）か実数（real number）である。<br>\n",
    "この問題を次の二つのアプローチから計算を行う。<br>\n",
    "Numpy　多項式の根を求める　https://docs.scipy.org/doc/numpy/reference/generated/numpy.roots.html<br>\n",
    "Sympy　数式計算（Mathematicaライク）http://docs.sympy.org/latest/modules/solvers/solvers.html　<br>"
   ]
  },
  {
   "cell_type": "markdown",
   "metadata": {},
   "source": [
    "備考：ここでのパラメータは，多項式の係数と同じであるから，（パラメータ，係数）の用語が混在することがある。"
   ]
  },
  {
   "cell_type": "code",
   "execution_count": null,
   "metadata": {},
   "outputs": [],
   "source": [
    "# -*- coding: utf-8 -*-\n",
    "import numpy as np\n",
    "import sympy as syp\n",
    "\n",
    "import matplotlib.pyplot as plt\n",
    "import matplotlib.patches as patches\n",
    "%matplotlib inline\n",
    "\n",
    "FLAG_fig = False"
   ]
  },
  {
   "cell_type": "markdown",
   "metadata": {},
   "source": [
    "#### numpyを用いた場合\n",
    "多項式の係数を与えて根, すなわち，ARモデルの極を調べる"
   ]
  },
  {
   "cell_type": "code",
   "execution_count": null,
   "metadata": {},
   "outputs": [],
   "source": [
    "deg = 2 # degree\n",
    "coef1 = np.array([1, -1.5, +0.7])\n",
    "pole = np.roots(coef1)\n",
    "print(pole)\n",
    "for i in np.arange(deg):\n",
    "    print(i,':', np.real(pole[i]), np.imag(pole[i]), 'abs=',np.abs(pole[i]) )"
   ]
  },
  {
   "cell_type": "code",
   "execution_count": null,
   "metadata": {
    "scrolled": true
   },
   "outputs": [],
   "source": [
    "fig, ax = plt.subplots(figsize=(4,4))\n",
    "circ = patches.Circle(xy=(0, 0), radius=1.0, fill=False, ec='k') # filll:塗りつぶし無し\n",
    "#plt.axis('scaled')\n",
    "ax.set_xlim((-1.2, 1.2))\n",
    "ax.set_ylim((-1.2, 1.2))\n",
    "ax.set_aspect('equal')\n",
    "ax.add_patch(circ)\n",
    "ax.grid()\n",
    "\n",
    "for i in np.arange(deg):\n",
    "    plt.plot(np.real(pole[i]), np.imag(pole[i]), marker='x', color='r')\n",
    "\n",
    "if FLAG_fig: plt.savefig('fig_AR_Roots_1.png')\n",
    "plt.show()"
   ]
  },
  {
   "cell_type": "markdown",
   "metadata": {},
   "source": [
    "根を与えて，実係数を求める<br>\n",
    "このため，根は共役複素数，または実数である。"
   ]
  },
  {
   "cell_type": "code",
   "execution_count": null,
   "metadata": {},
   "outputs": [],
   "source": [
    "#deg = 2\n",
    "#roots = [ -0.9 + 0.4j, -0.9 - 0.4j]\n",
    "deg = 3\n",
    "roots = np.array([ -0.5 + 0.3j, -0.5 - 0.3j, -0.2 ])\n",
    "print('abs  =',np.abs(roots))\n",
    "coef2 = np.poly(roots)\n",
    "print('coef =',coef2)"
   ]
  },
  {
   "cell_type": "code",
   "execution_count": null,
   "metadata": {},
   "outputs": [],
   "source": [
    "fig, ax = plt.subplots(figsize=(4,4))\n",
    "circ = patches.Circle(xy=(0, 0), radius=1.0, fill=False, ec='k') #塗りつぶし無し(False)\n",
    "#plt.axis('scaled')\n",
    "ax.set_xlim((-1.2, 1.2))\n",
    "ax.set_ylim((-1.2, 1.2))\n",
    "ax.set_aspect('equal')\n",
    "ax.add_patch(circ)\n",
    "ax.grid()\n",
    "\n",
    "for i in np.arange(deg):\n",
    "    plt.plot(np.real(roots[i]), np.imag(roots[i]), marker='x', color='r')\n",
    "\n",
    "if FLAG_fig: plt.savefig('fig_AR_Roots_2.png')\n",
    "plt.show()"
   ]
  },
  {
   "cell_type": "markdown",
   "metadata": {},
   "source": [
    "#### Sympyを用いた場合\n",
    "http://docs.sympy.org/latest/modules/solvers/solvers.html<br>\n",
    "SympyはMathematicaライクに数式処理できるものである。次のimportが必要<br>\n",
    "import sympy as syp<br>\n",
    "ここでは，係数を与えて根を求める"
   ]
  },
  {
   "cell_type": "code",
   "execution_count": null,
   "metadata": {},
   "outputs": [],
   "source": [
    "x = syp.Symbol('x')\n",
    "y = syp.Symbol('y')\n",
    "f = x**2 - 1.5*x + 0.7\n",
    "roots = syp.solve(f, x)\n",
    "print(roots)"
   ]
  },
  {
   "cell_type": "markdown",
   "metadata": {},
   "source": [
    "根を与えて係数を求める"
   ]
  },
  {
   "cell_type": "code",
   "execution_count": null,
   "metadata": {
    "scrolled": true
   },
   "outputs": [],
   "source": [
    "f = (x - (-0.5 + 0.3*syp.I))*(x - (-0.5 - 0.3*syp.I))*(x-(-0.2))\n",
    "eqn = syp.expand(f)\n",
    "print(eqn)"
   ]
  },
  {
   "cell_type": "code",
   "execution_count": null,
   "metadata": {},
   "outputs": [],
   "source": []
  }
 ],
 "metadata": {
  "kernelspec": {
   "display_name": "Python 3",
   "language": "python",
   "name": "python3"
  },
  "language_info": {
   "codemirror_mode": {
    "name": "ipython",
    "version": 3
   },
   "file_extension": ".py",
   "mimetype": "text/x-python",
   "name": "python",
   "nbconvert_exporter": "python",
   "pygments_lexer": "ipython3",
   "version": "3.7.0"
  }
 },
 "nbformat": 4,
 "nbformat_minor": 2
}
