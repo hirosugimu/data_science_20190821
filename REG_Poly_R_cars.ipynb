{
 "cells": [
  {
   "cell_type": "markdown",
   "metadata": {},
   "source": [
    "# 多項式回帰分析\n",
    "Rデータセットのcarsを用いる。\n",
    "このデータセットを使用するには，パッケージrpy2を事前にインストールすること<br>\n",
    "Documentation for rpy2 https://rpy2.readthedocs.io/en/version_2.8.x/<br>\n",
    "\n",
    "carsの説明 : 次のサイトからcarsを検索  \n",
    "https://stat.ethz.ch/R-manual/R-devel/library/datasets/html/00Index.html"
   ]
  },
  {
   "cell_type": "code",
   "execution_count": null,
   "metadata": {},
   "outputs": [],
   "source": [
    "# -*- coding: utf-8 -*-\n",
    "import numpy as np\n",
    "import matplotlib\n",
    "import matplotlib.pyplot as plt\n",
    "%matplotlib inline\n",
    "\n",
    "import statsmodels.formula.api as smf\n",
    "\n",
    "from rpy2.robjects import r, pandas2ri\n",
    "pandas2ri.activate()\n",
    "\n",
    "FLAG_fig = False"
   ]
  },
  {
   "cell_type": "code",
   "execution_count": null,
   "metadata": {
    "scrolled": false
   },
   "outputs": [],
   "source": [
    "df = r['cars']  # read datasets of cars\n",
    "x = df.speed\n",
    "df.head()"
   ]
  },
  {
   "cell_type": "markdown",
   "metadata": {},
   "source": [
    "#### 1次モデル\n",
    "$y = b_0 + b_1 x$"
   ]
  },
  {
   "cell_type": "code",
   "execution_count": null,
   "metadata": {
    "scrolled": true
   },
   "outputs": [],
   "source": [
    "result1 = smf.ols('dist ~ speed', data=df).fit()\n",
    "print(result1.summary())\n",
    "b0, b1 = result1.params"
   ]
  },
  {
   "cell_type": "code",
   "execution_count": null,
   "metadata": {},
   "outputs": [],
   "source": [
    "df.plot(kind='scatter', x='speed', y='dist')\n",
    "plt.plot(x, b0+b1*x)\n",
    "\n",
    "if FLAG_fig: plt.savefig('fig_REG_poy_R_cars_01.eps')\n",
    "plt.show()"
   ]
  },
  {
   "cell_type": "markdown",
   "metadata": {},
   "source": [
    "#### 2次モデル\n",
    "$y = b_0 + b_1 x + b_2 x^2$"
   ]
  },
  {
   "cell_type": "markdown",
   "metadata": {},
   "source": [
    "df.plot(kind='scatter', x='speed', y='dist')\n",
    "plt.plot(x, b0+x*b1)"
   ]
  },
  {
   "cell_type": "code",
   "execution_count": null,
   "metadata": {
    "scrolled": true
   },
   "outputs": [],
   "source": [
    "result2 = smf.ols('dist ~ np.power(speed,2) + speed', data=df).fit()\n",
    "print(result2.summary())\n",
    "b0, b2, b1 = result2.params"
   ]
  },
  {
   "cell_type": "code",
   "execution_count": null,
   "metadata": {
    "scrolled": false
   },
   "outputs": [],
   "source": [
    "df.plot(kind='scatter', x='speed', y='dist')\n",
    "plt.plot(x, b0+b1*x+b2*(x**2))\n",
    "\n",
    "if FLAG_fig: plt.savefig('fig_REG_poy_R_cars_02.eps')\n",
    "plt.show()"
   ]
  },
  {
   "cell_type": "markdown",
   "metadata": {},
   "source": [
    "#### 3次モデル\n",
    "$y = b_0 + b_1  + b_2 x^2 + b_3 x^3$"
   ]
  },
  {
   "cell_type": "code",
   "execution_count": null,
   "metadata": {},
   "outputs": [],
   "source": [
    "result3 = smf.ols('dist ~ np.power(speed,3) + np.power(speed,2) + speed', data=df).fit()\n",
    "print(result3.summary())\n",
    "b0, b3, b2, b1 = result3.params"
   ]
  },
  {
   "cell_type": "code",
   "execution_count": null,
   "metadata": {},
   "outputs": [],
   "source": [
    "df.plot(kind='scatter', x='speed', y='dist')\n",
    "plt.plot(x, b0+b1*x+b2*(x**2) + b3*(x**3))\n",
    "\n",
    "if FLAG_fig: plt.savefig('fig_REG_poy_R_cars_03.eps')\n",
    "plt.show()"
   ]
  },
  {
   "cell_type": "code",
   "execution_count": null,
   "metadata": {},
   "outputs": [],
   "source": []
  },
  {
   "cell_type": "markdown",
   "metadata": {},
   "source": [
    "## nupmy.polyfit（）を用いたカーブフィッティングの例"
   ]
  },
  {
   "cell_type": "code",
   "execution_count": null,
   "metadata": {
    "scrolled": false
   },
   "outputs": [],
   "source": [
    "x = df.speed\n",
    "y = df.dist\n",
    "degree = 2\n",
    "fit = np.polyfit(x, y, degree)\n",
    "print(fit)\n",
    "est = np.poly1d(fit)\n",
    "print(est)\n",
    "plt.scatter(x,y)\n",
    "plt.plot(x,est(x))\n",
    "plt.title('degree = %d' % degree)"
   ]
  },
  {
   "cell_type": "code",
   "execution_count": null,
   "metadata": {},
   "outputs": [],
   "source": [
    "degree = 3\n",
    "fit = np.polyfit(x, y, degree)\n",
    "print(fit)\n",
    "est = np.poly1d(fit)\n",
    "print(est)\n",
    "plt.scatter(x,y)\n",
    "plt.plot(x,est(x))\n",
    "plt.title('degree = %d' % degree)"
   ]
  },
  {
   "cell_type": "markdown",
   "metadata": {},
   "source": [
    "#### 次の例は，オーバーフィッティング（over fitting）を示す"
   ]
  },
  {
   "cell_type": "code",
   "execution_count": null,
   "metadata": {},
   "outputs": [],
   "source": [
    "degree = 9\n",
    "fit = np.polyfit(x, y, degree)\n",
    "print(fit)\n",
    "est = np.poly1d(fit)\n",
    "print(est)\n",
    "plt.scatter(x,y)\n",
    "plt.plot(x,est(x))\n",
    "plt.title('degree = %d' % degree)"
   ]
  },
  {
   "cell_type": "code",
   "execution_count": null,
   "metadata": {},
   "outputs": [],
   "source": []
  }
 ],
 "metadata": {
  "kernelspec": {
   "display_name": "Python 3",
   "language": "python",
   "name": "python3"
  },
  "language_info": {
   "codemirror_mode": {
    "name": "ipython",
    "version": 3
   },
   "file_extension": ".py",
   "mimetype": "text/x-python",
   "name": "python",
   "nbconvert_exporter": "python",
   "pygments_lexer": "ipython3",
   "version": "3.7.0"
  }
 },
 "nbformat": 4,
 "nbformat_minor": 2
}
