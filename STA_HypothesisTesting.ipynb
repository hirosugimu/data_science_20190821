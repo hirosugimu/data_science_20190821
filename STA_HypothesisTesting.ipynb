{
 "cells": [
  {
   "cell_type": "markdown",
   "metadata": {},
   "source": [
    "# 仮説検定（Hypothesis Testing）"
   ]
  },
  {
   "cell_type": "markdown",
   "metadata": {},
   "source": [
    "## 平均値の検定　（母分散が未知） t検定\n",
    "$$\n",
    "t = \\frac{\\hat{\\mu} - \\mu_0}{\\sqrt{\\sigma^2 \\big/ N}}\n",
    "$$\n",
    "上記の$t$検定量は自由度$ df = N - 1 $の$t$分布に従う（ $df$: Degree of Freedom）<br>\n",
    "scipy.stats.t https://docs.scipy.org/doc/scipy/reference/generated/scipy.stats.t.html <br>"
   ]
  },
  {
   "cell_type": "code",
   "execution_count": null,
   "metadata": {},
   "outputs": [],
   "source": [
    "# -*- coding: utf-8 -*-\n",
    "\n",
    "import numpy as np\n",
    "import scipy as sp\n",
    "from scipy import stats\n",
    "\n",
    "import matplotlib.pyplot as plt\n",
    "%matplotlib inline\n",
    "\n",
    "FLAG_fig = False"
   ]
  },
  {
   "cell_type": "markdown",
   "metadata": {},
   "source": [
    "#### 例１：あるクラス，テストの平均点と補講の効用（片側検定）"
   ]
  },
  {
   "cell_type": "code",
   "execution_count": null,
   "metadata": {},
   "outputs": [],
   "source": [
    "data = np.array([1, -1, -2, 3, -1, 5, 4, 0, 7, -1])"
   ]
  },
  {
   "cell_type": "code",
   "execution_count": null,
   "metadata": {},
   "outputs": [],
   "source": [
    "m = np.average(data) # mean\n",
    "s = np.std(data, ddof=1) # std, ddof=1 : unbiased\n",
    "N = len(data) # the number of sample\n",
    "print(m,s,N)"
   ]
  },
  {
   "cell_type": "code",
   "execution_count": null,
   "metadata": {},
   "outputs": [],
   "source": [
    "alp = 0.05\n",
    "talp = stats.t.ppf((1-alp),N-1)\n",
    "print('talp (alpha=0.05, df=%d) =%f' %((N-1),talp))\n",
    "\n",
    "m0 = 0 # null hypothesis\n",
    "t = (m-m0)/(s/np.sqrt(N))\n",
    "print('t=', t)"
   ]
  },
  {
   "cell_type": "markdown",
   "metadata": {},
   "source": [
    "talp > t より，H0は棄却できない。\n",
    "通常は，talp, t のようなpp(percent point)を求めるよりは，\n",
    "p値(p value)を求める。これを次に示す。"
   ]
  },
  {
   "cell_type": "code",
   "execution_count": null,
   "metadata": {},
   "outputs": [],
   "source": [
    "prob = stats.t.cdf(t,N-1)\n",
    "print('p value=',1-prob)"
   ]
  },
  {
   "cell_type": "markdown",
   "metadata": {},
   "source": [
    "有意水準を0.05 とおくと，これよりp valueの方が大きいので，H0を棄却できない。"
   ]
  },
  {
   "cell_type": "markdown",
   "metadata": {},
   "source": [
    "#### 例2：精密部品の直径（両側検定）"
   ]
  },
  {
   "cell_type": "code",
   "execution_count": null,
   "metadata": {},
   "outputs": [],
   "source": [
    "data2 = np.array([1.5399, 1.5390, 1.5399, 1.5395, 1.5400, 1.5390, 1.5399, 1.5399])\n",
    "m = np.mean(data2)        # mean\n",
    "s = np.std(data2, ddof=1) # std, ddof=1 : unbiased\n",
    "N = len(data2)            # \n",
    "df = N - 1               # DoF (degree of freedom)\n",
    "m0 = 1.54                 # H0 (null hypothesis)\n",
    "print('sample mean =',m,'  std = ',s,' The number of data = ',N)"
   ]
  },
  {
   "cell_type": "code",
   "execution_count": null,
   "metadata": {},
   "outputs": [],
   "source": [
    "t = (m-m0)/(s/np.sqrt(N))   # サンプルから求まるpp値\n",
    "prob = stats.t.cdf(t, df)\n",
    "if t >=  0:\n",
    "    p = 1 - prob\n",
    "else:\n",
    "    p = prob\n",
    "\n",
    "print('t = ',t)\n",
    "print('p value =',2*p)"
   ]
  },
  {
   "cell_type": "markdown",
   "metadata": {},
   "source": [
    "注意：上記のように，tが負の値をとるときは，p = prob とする。  \n",
    "$\\alpha=0.05$と置くならば，p value $< \\alpha$ よりH0を棄却"
   ]
  },
  {
   "cell_type": "markdown",
   "metadata": {},
   "source": [
    "実は，次の関数を用いると計算は楽<br>\n",
    "t, p = scipy.stats.ttest_1samp(data, m0)<br>\n",
    "data: 1群のサンプルデータ<br>\n",
    "m0: 帰無仮説H0で仮定した平均値<br>\n",
    "t: t値<br>\n",
    "p: p値，両側検定を前提としている。片側検定ではこの半分の値を用いる<br>\n",
    "https://docs.scipy.org/doc/scipy/reference/generated/scipy.stats.ttest_1samp.html"
   ]
  },
  {
   "cell_type": "code",
   "execution_count": null,
   "metadata": {},
   "outputs": [],
   "source": [
    "t, p = stats.ttest_1samp(data2, m0)\n",
    "print('t = ',t)\n",
    "print('both side p = ',p)\n",
    "print('one  side p = ',p/2)"
   ]
  },
  {
   "cell_type": "markdown",
   "metadata": {},
   "source": [
    "## 分散の検定　（母平均が未知） $\\chi ^2$検定\n",
    "$$\n",
    "\\chi^2 = \\frac{N-1}{\\sigma_0^2} \\hat{\\sigma}^2 \\sim \\chi^2 (N-1)\n",
    "$$\n",
    "上記の$\\chi^2$検定量は自由度$ df = N - 1 $の$\\chi^2$分布に従う（ $df$: Degree of Freedom）<br>\n",
    "scipy.stats.chi2 https://docs.scipy.org/doc/scipy/reference/generated/scipy.stats.chi2.html <br>\n",
    "$\\chi^2$分布は非対称の分布形状である。"
   ]
  },
  {
   "cell_type": "markdown",
   "metadata": {},
   "source": [
    "#### 例３：先の例の精密部品の直径のばらつき（分散）の検定\n",
    "分散の検定ゆえに片側検定である"
   ]
  },
  {
   "cell_type": "code",
   "execution_count": null,
   "metadata": {
    "scrolled": true
   },
   "outputs": [],
   "source": [
    "var = np.var(data2, ddof=1)\n",
    "print('variance =',var)\n",
    "\n",
    "var0 = 1.e-7\n",
    "alp = 0.05\n",
    "N = len(data2) \n",
    "df = N - 1\n",
    "\n",
    "chi2 = (N-1)*var / var0\n",
    "chi2_alp = stats.chi2.ppf( (1-alp), df=df)\n",
    "print('chi2 =',chi2, '  chi2_alp=',chi2_alp)\n",
    "pval = 1 - stats.chi2.cdf(chi2, df)\n",
    "print('p value=',pval)"
   ]
  },
  {
   "cell_type": "markdown",
   "metadata": {},
   "source": [
    "chi2 < chia2_alp または p value > alp より，H0を棄却できない  \n",
    "平均値の検定で，平均値がずれているという結論だった。\n",
    "分散の検定でH0を棄却できていないので，事実とはまだ言えないが，  \n",
    "この部品は高精度であるが，低正確度（Wikipedia参照）の可能性がある。"
   ]
  },
  {
   "cell_type": "markdown",
   "metadata": {},
   "source": [
    "## 2標本の平均値の差の検定\n",
    "\n",
    "2標本，両方の母分散が共に未知である場合を扱う。この場合ウェルチのt検定（Welch's t-test）を用いる。  \n",
    "統計検定量$t$は複雑ゆえ，次を参照されたい：https://en.wikipedia.org/wiki/Welch%27s_t-test  \n",
    "この自由度は，ウェルチ-サタスウェイトの式（Welch–Satterthwaite equation）より近似的に求められる。\n",
    "https://en.wikipedia.org/wiki/Welch%E2%80%93Satterthwaite_equation  \n",
    "\n",
    "自由度も自動的に計算する関数が次のscipy.stats.ttest_ind,  入力で equal_var = False を指定する  \n",
    "https://docs.scipy.org/doc/scipy/reference/generated/scipy.stats.ttest_ind.html"
   ]
  },
  {
   "cell_type": "markdown",
   "metadata": {},
   "source": [
    "#### 例4：2つの温度計の性能検定（対応の無い2標本，分散が未知）"
   ]
  },
  {
   "cell_type": "code",
   "execution_count": null,
   "metadata": {},
   "outputs": [],
   "source": [
    "s1 = np.array([37.1, 36.7, 36.6, 37.4, 36.8, 36.7, 36.9, 37.4, 36.6, 36.7])\n",
    "s2 = np.array([36.8, 36.6, 36.5, 37.0, 36.7, 36.5, 36.6, 37.1, 36.4, 36.7])"
   ]
  },
  {
   "cell_type": "code",
   "execution_count": null,
   "metadata": {},
   "outputs": [],
   "source": [
    "t, p = stats.ttest_ind(s1, s2, equal_var = False)\n",
    "print('t = ',t, ' p value = ',p)"
   ]
  },
  {
   "cell_type": "markdown",
   "metadata": {},
   "source": [
    "p value を見て，alpha = 5% より大きいのでH0を棄却できない。すなわち，2つの体温計の平均値が等しいという仮説は棄却できない。"
   ]
  },
  {
   "cell_type": "markdown",
   "metadata": {},
   "source": [
    "参考までに，自由度の計算の仕方を紹介する。  \n",
    "ウェルチ=サタスウェイトの式により近似自由度を計算する   \n",
    "https://en.wikipedia.org/wiki/Welch%27s_t-test"
   ]
  },
  {
   "cell_type": "code",
   "execution_count": null,
   "metadata": {},
   "outputs": [],
   "source": [
    "s1m = s1.mean()\n",
    "s1v = s1.var(ddof=1)\n",
    "s2m = s2.mean()\n",
    "s2v = s2.var(ddof=1)\n",
    "\n",
    "bunshi = ((s1v/len(s1)) + (s2v/len(s2)))**2\n",
    "bunbo = (s1v)**2/((len(s1)**2)*(len(s1)-1)) + (s2v)**2/((len(s2)**2)*(len(s2)-1))\n",
    "df = bunshi/bunbo\n",
    "df"
   ]
  },
  {
   "cell_type": "markdown",
   "metadata": {},
   "source": [
    "自由度は実数となる"
   ]
  },
  {
   "cell_type": "code",
   "execution_count": null,
   "metadata": {},
   "outputs": [],
   "source": [
    "prob = stats.t.cdf(t, df)\n",
    "p = 1-prob\n",
    "print(2*p)  # 両側検定とすれば，2*pとなる"
   ]
  },
  {
   "cell_type": "markdown",
   "metadata": {},
   "source": [
    "この結果は，先の p valueと一致する"
   ]
  },
  {
   "cell_type": "markdown",
   "metadata": {},
   "source": [
    "## 相関と無相関の検定\n",
    "相関係数$\\hat{\\rho}$には次の性質がある。\n",
    "$$\n",
    "- 1 \\le \\hat{\\rho}  \\le 1\n",
    "$$\n",
    "統計検定量は次を用いる\n",
    "$$\n",
    "t = \\frac{{ |\\hat \\rho _{xy} | \\sqrt {N - 2} }}{{\\sqrt {1 - \\hat \\rho _{xy} ^2 } }}\n",
    "$$\n",
    "これは，自由度$(N-2)$の$t$分布に従う\n",
    "\n",
    "ピアソンの相関係数と帰無仮説(無相関)と設定した場合のp値　の両方を同時に計算する  \n",
    "scipy.stats.pearsonr  \n",
    "https://docs.scipy.org/doc/scipy-0.14.0/reference/generated/scipy.stats.pearsonr.html"
   ]
  },
  {
   "cell_type": "markdown",
   "metadata": {},
   "source": [
    "#### 例5：親子の身長の相関の検定\n"
   ]
  },
  {
   "cell_type": "code",
   "execution_count": null,
   "metadata": {},
   "outputs": [],
   "source": [
    "x = np.array([168, 172, 181, 179, 166, 185, 177, 176, 169, 161])\n",
    "y = np.array([111, 125, 129, 120, 126, 133, 130, 116, 118, 115])\n",
    "corr, pvalue = stats.pearsonr(x,y)\n",
    "print('corr. coef.=',corr, '  p value=',pvalue)"
   ]
  },
  {
   "cell_type": "markdown",
   "metadata": {},
   "source": [
    "alp = 0.05 のとき，p value < alp より，H0（無相関）を棄却，alp = 0.01のとき棄却できない"
   ]
  },
  {
   "cell_type": "code",
   "execution_count": null,
   "metadata": {},
   "outputs": [],
   "source": [
    "plt.scatter(x,y)\n",
    "plt.xlabel('Height of Faters')\n",
    "plt.ylabel('Height of Sons')\n",
    "if FLAG_fig: plt.savefig('fig_Stat_CorrelationTest.png')"
   ]
  },
  {
   "cell_type": "code",
   "execution_count": null,
   "metadata": {},
   "outputs": [],
   "source": []
  }
 ],
 "metadata": {
  "kernelspec": {
   "display_name": "Python 3",
   "language": "python",
   "name": "python3"
  },
  "language_info": {
   "codemirror_mode": {
    "name": "ipython",
    "version": 3
   },
   "file_extension": ".py",
   "mimetype": "text/x-python",
   "name": "python",
   "nbconvert_exporter": "python",
   "pygments_lexer": "ipython3",
   "version": "3.7.0"
  }
 },
 "nbformat": 4,
 "nbformat_minor": 2
}
