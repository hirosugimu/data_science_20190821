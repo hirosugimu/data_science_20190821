{
 "cells": [
  {
   "cell_type": "markdown",
   "metadata": {},
   "source": [
    "# ARMA(2,1) パラメータ推定\n",
    "ARMA(2,1)のデータを生成して，パラメータ推定の様子を見る\n",
    "\n",
    "statsmodels.tsa.arima_process.ArmaProcess  \n",
    "http://www.statsmodels.org/dev/generated/statsmodels.tsa.arima_process.ArmaProcess.html  \n",
    "\n",
    "statsmodels.tsa.arima_process.ArmaProcess.generate_sample  \n",
    "http://www.statsmodels.org/dev/generated/statsmodels.tsa.arima_process.ArmaProcess.generate_sample.html  \n",
    "\n",
    "statsmodels.tsa.arima_model.ARMA  \n",
    "http://www.statsmodels.org/dev/generated/statsmodels.tsa.arima_model.ARMA.html"
   ]
  },
  {
   "cell_type": "code",
   "execution_count": null,
   "metadata": {},
   "outputs": [],
   "source": [
    "# -*- coding: utf-8 -*-\n",
    "import numpy as np\n",
    "import matplotlib.pyplot as plt\n",
    "%matplotlib inline\n",
    "  \n",
    "from statsmodels.tsa.arima_process import arma_generate_sample\n",
    "from statsmodels.tsa.arima_process import ArmaProcess\n",
    "from statsmodels.tsa.arima_model import ARMA\n",
    "\n",
    "np.random.seed(123)\n",
    "FLAG_fig = False"
   ]
  },
  {
   "cell_type": "markdown",
   "metadata": {},
   "source": [
    "データ生成 arma_generate_sample<br>\n",
    "引数の説明：  \n",
    "distrvs: ARMAへの入力でディフォルトは標準正規分布(0, 1) as np.random.randn\n",
    "burnin: 初期期間を何点かで定め，この期間後にデータを出力する。過渡現象を観測しないため。"
   ]
  },
  {
   "cell_type": "code",
   "execution_count": null,
   "metadata": {},
   "outputs": [],
   "source": [
    "nobs = 10000 #データ数\n",
    "ar = [1, -1.5, 0.7] # pole = 0.75 +/- 0.37 j < unit circle\n",
    "ma = [1.0, 0.6]\n",
    "dist = lambda n: np.random.randn(n)  # 正規分布 N(0,1),  引数 n はダミー\n",
    "#dist = lambda n: np.random.standard_t(3, size=n)  # t 分布\n",
    "x = arma_generate_sample(ar, ma, nobs, sigma=1, distrvs=dist, burnin=500)\n",
    "print(type(x))"
   ]
  },
  {
   "cell_type": "markdown",
   "metadata": {},
   "source": [
    "下記の関数は次を参照<br>\n",
    "\n",
    "statsmodels.tsa.arima_model.ARMA<br>\n",
    "http://www.statsmodels.org/dev/generated/statsmodels.tsa.arima_model.ARMA.html<br>\n",
    ".fit()の作用　statsmodels.tsa.arima_model.ARMA.fit<br>\n",
    "http://www.statsmodels.org/dev/generated/statsmodels.tsa.arima_model.ARMA.fit.html<br>\n",
    ".fit()の結果　statsmodels.tsa.arima_model.ARMAResults<br>\n",
    "http://www.statsmodels.org/dev/generated/statsmodels.tsa.arima_model.ARMAResults.html\n",
    "    "
   ]
  },
  {
   "cell_type": "markdown",
   "metadata": {},
   "source": [
    "真の次数は未知として，幾つかの推定次数を用い，比較する<br>\n",
    "もし，\"FutureWarning\"というWarningは無視して構わない（2018年現在）"
   ]
  },
  {
   "cell_type": "code",
   "execution_count": null,
   "metadata": {
    "scrolled": false
   },
   "outputs": [],
   "source": [
    "arma20 = ARMA(x, order=(2,0)).fit( trend='nc' ) # AR model\n",
    "arma21 = ARMA(x, order=(2,1)).fit( trend='nc' ) # trend: バイアスは無い\n",
    "arma32 = ARMA(x, order=(3,2)).fit( trend='nc' )\n",
    "arma43 = ARMA(x, order=(4,3)).fit( trend='nc' )"
   ]
  },
  {
   "cell_type": "markdown",
   "metadata": {},
   "source": [
    "## 注意！\n",
    "ARのパラメータの符号は反転している。これは，モデルの立て方でAR部の符号反転を行っているためである。  \n",
    "http://www.statsmodels.org/dev/generated/statsmodels.tsa.arima_process.ArmaProcess.html  \n",
    "\n",
    "\n",
    "このことは，次の例題でもARの符号を反転して与えていることからもわかる<br>\n",
    "http://www.statsmodels.org/dev/examples/notebooks/generated/tsa_arma_1.html  \n",
    "\n",
    "また，極は$z$でなく$z^{-1}$で見ており，単位円外ならば安定極となっている。"
   ]
  },
  {
   "cell_type": "markdown",
   "metadata": {},
   "source": [
    "## 注意！\n",
    "パッケージのバージョン更新に伴い，テキストや書籍の計算結果と少しずつ変わることがある。"
   ]
  },
  {
   "cell_type": "code",
   "execution_count": null,
   "metadata": {
    "scrolled": true
   },
   "outputs": [],
   "source": [
    "print('arma21-----------summary--------------------')\n",
    "print(arma21.summary())"
   ]
  },
  {
   "cell_type": "markdown",
   "metadata": {},
   "source": [
    "summary（）だけでは，モデル評価がよくわからないので，sigma2（誤差分散）とAICを見る"
   ]
  },
  {
   "cell_type": "code",
   "execution_count": null,
   "metadata": {
    "scrolled": true
   },
   "outputs": [],
   "source": [
    "print('arma20: sigma2 =',arma20.sigma2, '  AIC =',arma20.aic)\n",
    "print('arma21: sigma2 =',arma21.sigma2, ' AIC =',arma21.aic)\n",
    "print('arma32: sigma2 =',arma32.sigma2, ' AIC =',arma32.aic)\n",
    "print('arma43: sigma2 =',arma43.sigma2, ' AIC =',arma43.aic)"
   ]
  },
  {
   "cell_type": "code",
   "execution_count": null,
   "metadata": {
    "scrolled": false
   },
   "outputs": [],
   "source": [
    "print('arma20 parameters = ',arma20.params)\n",
    "print('arma21 parameters = ',arma21.params)\n",
    "print('arma32 parameters = ',arma32.params)\n",
    "print('arma43 parameters = ',arma43.params)"
   ]
  },
  {
   "cell_type": "code",
   "execution_count": null,
   "metadata": {
    "scrolled": true
   },
   "outputs": [],
   "source": [
    "fig = plt.subplots(figsize=(10,3))\n",
    "plt.plot(x, label='x')\n",
    "resid = arma21.resid  # short for residual\n",
    "#print(len(resid))\n",
    "plt.plot(resid, label='resid')\n",
    "plt.xlabel('k')\n",
    "plt.legend()\n",
    "\n",
    "if FLAG_fig: plt.savefig('fig_ARMA_ParmEst_PlotResid.png', bbox_inches='tight')\n",
    "plt.show()"
   ]
  },
  {
   "cell_type": "markdown",
   "metadata": {},
   "source": [
    "#### 白色性の検定"
   ]
  },
  {
   "cell_type": "code",
   "execution_count": null,
   "metadata": {},
   "outputs": [],
   "source": [
    "auto_corr = np.correlate(resid, resid, mode='full')\n",
    "center = int(len(auto_corr)/2)\n",
    "AutoR = auto_corr[center:]/np.max(auto_corr)\n",
    "plt.xlabel('k')\n",
    "plt.plot(AutoR)\n",
    "\n",
    "if FLAG_fig: plt.savefig('fig_ARMA_ParmEst_AutoCorr.png')\n",
    "plt.show()\n",
    "    \n",
    "count = 0\n",
    "for k in np.arange(1,len(AutoR)-1):\n",
    "    if np.abs(AutoR[k]) > 2.17/np.sqrt(len(AutoR)):\n",
    "        count += 1\n",
    "    if np.abs(AutoR[k]) < -2.17/np.sqrt(len(AutoR)):\n",
    "        count += 1\n",
    "#        print(\"Warning\", i, AutoR[i])\n",
    "print('count = ', count, ' len(AutoR) = ', len(AutoR), '  rate =', count/len(AutoR))\n",
    "print('k >= 1, max(AutoR[k] =', np.max(AutoR[1:]),  '    min(AutorR[k] =', np.min(AutoR[1:]))"
   ]
  },
  {
   "cell_type": "code",
   "execution_count": null,
   "metadata": {},
   "outputs": [],
   "source": []
  }
 ],
 "metadata": {
  "kernelspec": {
   "display_name": "Python 3",
   "language": "python",
   "name": "python3"
  },
  "language_info": {
   "codemirror_mode": {
    "name": "ipython",
    "version": 3
   },
   "file_extension": ".py",
   "mimetype": "text/x-python",
   "name": "python",
   "nbconvert_exporter": "python",
   "pygments_lexer": "ipython3",
   "version": "3.7.0"
  }
 },
 "nbformat": 4,
 "nbformat_minor": 2
}
