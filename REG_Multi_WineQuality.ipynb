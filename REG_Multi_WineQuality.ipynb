{
 "cells": [
  {
   "cell_type": "markdown",
   "metadata": {},
   "source": [
    "# 赤ワインの品質を回帰分析する\n",
    "データセットの説明　Wine Quality Data Set　（ UCI　Machine Learning Repository） http://archive.ics.uci.edu/ml/datasets/Wine+Quality\n",
    "->DataFolder, \"winequality-red.csv\"  \n",
    "このラベル名の空白をアンダーラインに変換して，これを“winequality-red_mod.csv”というファイル名で下記のクラウドにアップした"
   ]
  },
  {
   "cell_type": "code",
   "execution_count": null,
   "metadata": {},
   "outputs": [],
   "source": [
    "# -*- coding: utf-8 -*-\n",
    "import numpy as np\n",
    "import pandas as pd\n",
    "\n",
    "import statsmodels.formula.api as smf\n",
    "\n",
    "import matplotlib.pyplot as plt\n",
    "%matplotlib inline"
   ]
  },
  {
   "cell_type": "code",
   "execution_count": null,
   "metadata": {
    "scrolled": false
   },
   "outputs": [],
   "source": [
    "url='https://sites.google.com/site/datasciencehiro/datasets/winequality-red_mod.csv'\n",
    "wine_set = pd.read_csv(url, sep=\";\")\n",
    "wine_set.head()"
   ]
  },
  {
   "cell_type": "code",
   "execution_count": null,
   "metadata": {},
   "outputs": [],
   "source": [
    "ols_model = \"quality ~  volatile_acidity + chlorides + total_sulfur_dioxide + sulphates + alcohol\"\n",
    "results = smf.ols(formula = ols_model, data=wine_set).fit()\n",
    "results.summary()"
   ]
  },
  {
   "cell_type": "code",
   "execution_count": null,
   "metadata": {},
   "outputs": [],
   "source": []
  }
 ],
 "metadata": {
  "kernelspec": {
   "display_name": "Python 3",
   "language": "python",
   "name": "python3"
  },
  "language_info": {
   "codemirror_mode": {
    "name": "ipython",
    "version": 3
   },
   "file_extension": ".py",
   "mimetype": "text/x-python",
   "name": "python",
   "nbconvert_exporter": "python",
   "pygments_lexer": "ipython3",
   "version": "3.7.0"
  }
 },
 "nbformat": 4,
 "nbformat_minor": 2
}
