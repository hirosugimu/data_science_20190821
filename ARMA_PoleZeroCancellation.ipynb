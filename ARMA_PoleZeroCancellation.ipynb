{
 "cells": [
  {
   "cell_type": "markdown",
   "metadata": {},
   "source": [
    "# ARMAモデル，極零点からの次数\n",
    "\n",
    "真のシステムをARMA(3,3)，推定するモデルをARMA(4,4)と置いた。"
   ]
  },
  {
   "cell_type": "code",
   "execution_count": null,
   "metadata": {},
   "outputs": [],
   "source": [
    "# -*- coding: utf-8 -*-\n",
    "import numpy as np\n",
    "import matplotlib\n",
    "import matplotlib.pyplot as plt\n",
    "%matplotlib inline\n",
    "import matplotlib.patches as patches\n",
    "\n",
    "from statsmodels.tsa.arima_process import arma_generate_sample\n",
    "from statsmodels.tsa.arima_model import ARMA\n",
    "#import statsmodels.api as sm\n",
    "\n",
    "FLAG_fig = False"
   ]
  },
  {
   "cell_type": "code",
   "execution_count": null,
   "metadata": {},
   "outputs": [],
   "source": [
    "nobs = 10000\n",
    "ar = [1, -2.0, 1.7, -0.5]\n",
    "ma=[1.0, -1.5, 0.685]\n",
    "dist = lambda n: np.random.randn(n)  # 正規分布,  引数 n はダミー\n",
    "np.random.seed(123)\n",
    "y = arma_generate_sample(ar, ma, nobs, sigma=1, distrvs=dist, burnin=500)\n",
    "print(y[-10:])\n",
    "len(y)"
   ]
  },
  {
   "cell_type": "code",
   "execution_count": null,
   "metadata": {},
   "outputs": [],
   "source": [
    "arma_result = ARMA(y, order=(4,4)).fit( trend='nc' ) # ARMA model\n",
    "print('arma_result -----------summary--------------------')\n",
    "print(arma_result.summary())"
   ]
  },
  {
   "cell_type": "code",
   "execution_count": null,
   "metadata": {
    "scrolled": false
   },
   "outputs": [],
   "source": [
    "#真の極，零点\n",
    "poles0 = np.roots(ar)\n",
    "zeros0 = np.roots(ma)\n",
    "print('poles0 : ', poles0)\n",
    "print('zeros0 : ', zeros0)\n",
    "#推定した極，零点\n",
    "p = arma_result.params\n",
    "poles = np.roots([1.0, -p[0], -p[1], -p[2], -p[3]])\n",
    "zeros = np.roots([1.0, p[4], p[5], p[6], p[7]])\n",
    "print('poles : ', poles)\n",
    "print('zeros : ', zeros)"
   ]
  },
  {
   "cell_type": "code",
   "execution_count": null,
   "metadata": {
    "scrolled": true
   },
   "outputs": [],
   "source": [
    "fig, (axL, axR) = plt.subplots(ncols=2, figsize=(14,4)) # note we must use plt.subplots, not plt.subplot\n",
    "#真のシステムの極，零点配置\n",
    "\n",
    "circ = patches.Circle(xy=(0, 0), radius=1.0, fill=False, ec='k') #塗りつぶし無し(False)\n",
    "axL.set_xlim((-2, 2))\n",
    "axL.set_ylim((-2, 2))\n",
    "axL.set_aspect('equal')\n",
    "axL.add_patch(circ)\n",
    "axL.set_title('Real Poles-Zeros')\n",
    "axL.grid()\n",
    "for i in np.arange(3):\n",
    "    axL.plot(np.real(poles0[i]), np.imag(poles0[i]), marker='x', color='r')\n",
    "for i in np.arange(2):\n",
    "    axL.plot(np.real(zeros0[i]), np.imag(zeros0[i]), marker='o', color='b')\n",
    "\n",
    "    \n",
    "circ = patches.Circle(xy=(0, 0), radius=1.0, fill=False, ec='k') #塗りつぶし無し(False)\n",
    "axR.set_xlim((-2, 2))\n",
    "axR.set_ylim((-2, 2))\n",
    "axR.set_aspect('equal')\n",
    "axR.add_patch(circ)\n",
    "axR.set_title('Estimated Poles-Zeros')\n",
    "axR.grid()\n",
    "for i in np.arange(4):\n",
    "    axR.plot(np.real(poles[i]), np.imag(poles[i]), marker='x', color='r')\n",
    "    axR.plot(np.real(zeros[i]), np.imag(zeros[i]), marker='o', color='b')\n",
    "\n",
    "if FLAG_fig: plt.savefig('fig_ARMA_PoleZeroCancellation.png')    "
   ]
  },
  {
   "cell_type": "code",
   "execution_count": null,
   "metadata": {},
   "outputs": [],
   "source": []
  }
 ],
 "metadata": {
  "kernelspec": {
   "display_name": "Python 3",
   "language": "python",
   "name": "python3"
  },
  "language_info": {
   "codemirror_mode": {
    "name": "ipython",
    "version": 3
   },
   "file_extension": ".py",
   "mimetype": "text/x-python",
   "name": "python",
   "nbconvert_exporter": "python",
   "pygments_lexer": "ipython3",
   "version": "3.7.0"
  }
 },
 "nbformat": 4,
 "nbformat_minor": 2
}
