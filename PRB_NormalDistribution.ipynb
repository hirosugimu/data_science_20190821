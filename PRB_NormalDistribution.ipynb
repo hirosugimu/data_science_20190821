{
 "cells": [
  {
   "cell_type": "markdown",
   "metadata": {},
   "source": [
    "# 正規分布を知る"
   ]
  },
  {
   "cell_type": "markdown",
   "metadata": {},
   "source": [
    "$$   \n",
    "f(x) = \\frac{1}{\\sqrt{2 \\pi \\sigma^2}}  \\exp\\left\\{ - \\frac{ (x-\\mu)^2 }{ 2 \\sigma^2} \\right\\}\n",
    "$$\n",
    "scipy.stats.norm https://docs.scipy.org/doc/scipy/reference/generated/scipy.stats.norm.html"
   ]
  },
  {
   "cell_type": "code",
   "execution_count": null,
   "metadata": {},
   "outputs": [],
   "source": [
    "# -*- coding: utf-8 -*-\n",
    "import numpy as np\n",
    "import scipy.stats\n",
    "from scipy.stats import norm  # normal distribution, 正規分布\n",
    "\n",
    "import matplotlib.pyplot as plt\n",
    "%matplotlib inline\n",
    "\n",
    "FLAG_fig = False"
   ]
  },
  {
   "cell_type": "markdown",
   "metadata": {},
   "source": [
    "#### 正規分布のグラフ pdf（probability density function）"
   ]
  },
  {
   "cell_type": "code",
   "execution_count": null,
   "metadata": {},
   "outputs": [],
   "source": [
    "m = 5   # 平均値\n",
    "std = 2 # 標準偏差\n",
    "x = np.arange( -5, 15, 0.01)\n",
    "y = norm.pdf(x, loc=m, scale=std)\n",
    "#y = (1 / np.sqrt(2 * np.pi * std*std ) ) * np.exp(-(x-m) ** 2 / (2 * std*std) ) #正規分布の式\n",
    "\n",
    "fig = plt.subplots(figsize=(8,3))\n",
    "plt.plot(x,y)\n",
    "plt.xlabel('x')\n",
    "plt.ylabel('probabiity density')\n",
    "plt.plot(x,y)"
   ]
  },
  {
   "cell_type": "markdown",
   "metadata": {},
   "source": [
    "#### パーセント点と確率の計算\n",
    "パーセント点（pp:percent point)$z_{\\alpha}$ を求めるには，$1-\\alpha$をppf ( percent point function )に与える。<br>\n",
    "確率を求めるには，パーセント点$z_{\\alpha}$をcdf (cumulative density function)　に与える。<br>\n",
    "なお，標準正規分布（平均値 $m = 0$,  標準偏差 $\\sigma=1$ ）を対象とする<br>"
   ]
  },
  {
   "cell_type": "markdown",
   "metadata": {},
   "source": [
    "#### 片側の場合\n",
    "標準正規分布$N(0,1)$のグラフで，$z_{\\alpha} \\le x < \\infty$ の確率 $\\alpha$（面積）をユーザが与える。このとき，  \n",
    "$- \\infty < x \\le z_{\\alpha} $の確率（面積）は $1-\\alpha$となる。\n",
    "この値をscipy.stats.norm.ppf に与えれば，$z_{\\alpha}$が求まる。"
   ]
  },
  {
   "cell_type": "code",
   "execution_count": null,
   "metadata": {
    "scrolled": true
   },
   "outputs": [],
   "source": [
    "m = 0\n",
    "std = 1\n",
    "alpha = 0.05\n",
    "prob = 1 - alpha\n",
    "z_alp = norm.ppf(prob, loc=m, scale=std)\n",
    "print('パーセント点＝', z_alp) #"
   ]
  },
  {
   "cell_type": "markdown",
   "metadata": {},
   "source": [
    "isf (Inverse survival function，生存関数の逆関数）を用いると，1-alphaの計算が不要で，上記と同じパーセント点を得る。"
   ]
  },
  {
   "cell_type": "code",
   "execution_count": null,
   "metadata": {},
   "outputs": [],
   "source": [
    "z_alp2 = norm.isf(alpha, loc=m, scale=std)\n",
    "print('isfを用いたパーセント点', z_alp2)"
   ]
  },
  {
   "cell_type": "code",
   "execution_count": null,
   "metadata": {},
   "outputs": [],
   "source": [
    "m = 0\n",
    "std = 1.0\n",
    "z_alp = 1.96\n",
    "prob = norm.cdf(z_alp, loc=m, scale=std)\n",
    "print('確率＝',prob)"
   ]
  },
  {
   "cell_type": "markdown",
   "metadata": {},
   "source": [
    "#### 両側の場合\n",
    "区間[a b]の確率を求める。\n",
    "1. $- \\infty < x \\le z_{b} $の確率$P_a$を求める  \n",
    "2. $- \\infty < x \\le z_{a} $の確率$P_b$を求める\n",
    "3. $P_a - P_b$を計算"
   ]
  },
  {
   "cell_type": "code",
   "execution_count": null,
   "metadata": {},
   "outputs": [],
   "source": [
    "za = 1.65\n",
    "zb = -1.65\n",
    "pa = norm.cdf(za, loc=0, scale=1) # loc is mean\n",
    "pb = norm.cdf(zb, loc=0, scale=1) # scale is standard deviation\n",
    "p = pa - pb\n",
    "print('p=',p)"
   ]
  },
  {
   "cell_type": "markdown",
   "metadata": {},
   "source": [
    "#### 検定では，$\\alpha$が初めに与えられる。\n",
    "これに基づき，片側（z_alp），両側（za, zb）を求めることが多い。  \n",
    "片側の場合は既に述べた。  \n",
    "両側の場合，正規分布が対称で，かつ，（za, zb）が原点を中心とした左右対称という前提があり，この場合，intervalを用いることができる。<br>\n",
    "下記の例では，両側にz_alp/2=0.025 があり，この二つを足して0.05となることに留意。"
   ]
  },
  {
   "cell_type": "code",
   "execution_count": null,
   "metadata": {},
   "outputs": [],
   "source": [
    "za,zb = norm.interval(alpha=0.95, loc=0, scale=1)\n",
    "print('za=',za,'  zb=',zb)"
   ]
  },
  {
   "cell_type": "markdown",
   "metadata": {},
   "source": [
    "#### 正規確率変数のプロット\n",
    "数値的に発生した正規確率変数（正規分布に従うランダム変数）のヒストグラムをプロットする"
   ]
  },
  {
   "cell_type": "markdown",
   "metadata": {},
   "source": [
    "横軸が $x$,  縦軸が頻度（データ数Nが多いほど，縦軸のスケールも大きくなる）<br>\n",
    "・平均値を中心とした分布となる<br>\n",
    "・データ数100程度では，正規分布の形とは言えず，データ数を非常に多くして，ようやく理想形に近くなる<br>\n",
    "・標本平均値，標本標準偏差もデータ数がかなり多くないと，真値に近づかない<br>\n",
    "・標準偏差の計算 x.std(ddof=1) のddof=1は“不偏標準偏差”を求めるとき，すなわち，1/(N-1)という除算を行う<br>\n",
    "・このddofを指定しないと， 1/N を用いた計算を行い，不偏とならない<br>\n",
    "・標準偏差はばらつきの指標となる"
   ]
  },
  {
   "cell_type": "code",
   "execution_count": null,
   "metadata": {},
   "outputs": [],
   "source": [
    "np.random.seed(123) # scipyと共通，乱数発生の再現性を得る\n",
    "\n",
    "mean = 2.0 # mean, 平均値\n",
    "std = 3.0  # standar deviation, 標準偏差\n",
    "for N in [100, 10000]:\n",
    "    x = scipy.stats.norm.rvs(loc=mean, scale=std, size=N) # rvs:Random variates\n",
    "    print('N = %d  mean = %f  std = %e' % (N, x.mean(), x.std(ddof=1))) \n",
    "    plt.figure()\n",
    "    plt.hist(x, bins=20)\n",
    "    plt.title('$N = %i$' % (N) )\n",
    "\n",
    "if FLAG_fig: plt.savefig('fig_PROB_NormalDist_Sim.png')\n",
    "plt.show()"
   ]
  },
  {
   "cell_type": "markdown",
   "metadata": {},
   "source": [
    "#### 中心極限定理\n",
    "一様乱数を用いる，この区間[a,b]の平均値は$\\mu = \\frac{a+b}{2}$, 分散$\\sigma^2 = \\frac{(b-a)^2}{12}$である。\n",
    "このn個（幾つかの値）の標本平均をN個（これは一定とする）発生させ，その分布を見ると，正規分布$N(\\mu, \\sigma^2/n )$に近づく。ここでは，標準正規分布に正規化する。\n",
    "他の分布でも試してみられたい。"
   ]
  },
  {
   "cell_type": "code",
   "execution_count": null,
   "metadata": {},
   "outputs": [],
   "source": [
    "N = 2000\n",
    "y= np.zeros(N)\n",
    "for n in [5, 5000]:\n",
    "    for i in range(N):\n",
    "        x = scipy.stats.uniform.rvs(size=n)\n",
    "        y[i] = (x.mean() - 1/2)/(np.sqrt(1/12)/np.sqrt(n))\n",
    "    plt.hist(y, bins=20, range=(-4,4), density=True)\n",
    "\n",
    "xx = np.arange(-4, 4, 0.01)\n",
    "nrm = scipy.stats.norm.pdf(xx, loc=0.0, scale=1.0 )\n",
    "plt.plot(xx, nrm, c='k')\n",
    "\n",
    "if FLAG_fig: plt.savefig('fig_PROB_NormalDist_Climt.png')\n",
    "plt.show()"
   ]
  },
  {
   "cell_type": "code",
   "execution_count": null,
   "metadata": {},
   "outputs": [],
   "source": []
  }
 ],
 "metadata": {
  "kernelspec": {
   "display_name": "Python 3",
   "language": "python",
   "name": "python3"
  },
  "language_info": {
   "codemirror_mode": {
    "name": "ipython",
    "version": 3
   },
   "file_extension": ".py",
   "mimetype": "text/x-python",
   "name": "python",
   "nbconvert_exporter": "python",
   "pygments_lexer": "ipython3",
   "version": "3.7.0"
  }
 },
 "nbformat": 4,
 "nbformat_minor": 2
}
