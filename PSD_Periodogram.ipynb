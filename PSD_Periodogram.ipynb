{
 "cells": [
  {
   "cell_type": "markdown",
   "metadata": {},
   "source": [
    "# ペリオドグラム法による不規則信号のPSD"
   ]
  },
  {
   "cell_type": "code",
   "execution_count": null,
   "metadata": {},
   "outputs": [],
   "source": [
    "# coding: utf-8\n",
    "import numpy as np\n",
    "\n",
    "from scipy import signal \n",
    "import scipy.fftpack\n",
    "\n",
    "import matplotlib.pyplot as plt\n",
    "%matplotlib inline\n",
    "\n",
    "np.random.seed(123)\n",
    "FLAG_fig = False"
   ]
  },
  {
   "cell_type": "markdown",
   "metadata": {},
   "source": [
    "DFTを用いた例"
   ]
  },
  {
   "cell_type": "code",
   "execution_count": null,
   "metadata": {},
   "outputs": [],
   "source": [
    "f1, a1  = 1.2, 1.0 # 周波数 [Hz], 振幅\n",
    "f2, a2  = 1.3, 1.0 # 周波数 [Hz], 振幅\n",
    "sd = 5.0  # 観測雑音の標準偏差\n",
    "\n",
    "dt  = 0.2  # サンプリング時間 [s]\n",
    "T   = 100  # 観測時間 [s]\n",
    "Num = 1024 # ゼロ埋込みのための，見掛け上のサンプル数\n",
    "df = 1/(dt*Num)  # 見掛け上の周波数分解能\n",
    "t = np.linspace(0, Num-1, Num)*dt # 時間軸\n",
    "freq = np.fft.fftfreq(Num, d=dt) # 周波数軸\n",
    "\n",
    "w_hamming = signal.hamming(Num) # ハミング窓\n",
    "\n",
    "x = a1*np.sin(2*np.pi*f1*t) + a2*np.sin(2*np.pi*f2*t) + \\\n",
    "        np.random.normal(loc=0.0, scale=sd, size=Num) # 信号\n",
    "    \n",
    "fig = plt.subplots(figsize=(6,3))\n",
    "plt.plot(t,x)\n",
    "plt.xlabel('time[s]')\n",
    "\n",
    "plt.tight_layout() # xlabelの欠落を防ぐ\n",
    "if FLAG_fig: plt.savefig('PSDrand00.png')\n",
    "\n",
    "plt.show()"
   ]
  },
  {
   "cell_type": "code",
   "execution_count": null,
   "metadata": {
    "scrolled": false
   },
   "outputs": [],
   "source": [
    "nend=np.int(Num/2)-1\n",
    "\n",
    "psd_sum = np.zeros(Num)\n",
    "\n",
    "loop_num = 10\n",
    "for loop in range(1,loop_num+1):\n",
    "    x = a1*np.sin(2*np.pi*f1*t) + a2*np.sin(2*np.pi*f2*t) + \\\n",
    "        np.random.normal(loc=0.0, scale=sd, size=Num) # 信号\n",
    "    xw = w_hamming*x\n",
    "\n",
    "\n",
    "    dft = dt*scipy.fftpack.fft(xw)\n",
    "    psd = (np.abs(dft)**2)/T\n",
    "    psd_sum += psd\n",
    "\n",
    "    fig = plt.subplots(figsize=(4,2))\n",
    "    plt.plot(freq[0:nend], psd[0:nend])\n",
    "    plt.xlabel('Frequency[Hz]')\n",
    "    plt.title('loop ='+str(loop))\n",
    "    \n",
    "    # 保存する図番号を文字に変換するためのスクリプト\n",
    "    if FLAG_fig:\n",
    "        fname = 'fig_PSDrand'+str(loop)+'.png'\n",
    "        plt.tight_layout() # xlabelの欠落を防ぐ\n",
    "        plt.savefig(fname)     \n",
    "\n",
    "    plt.show()\n",
    "\n",
    "psd_sum /= loop_num\n",
    "fig = plt.subplots(figsize=(6,3))\n",
    "#plt.stem(freq[0:nend], psd_sum[0:nend],  markerfmt='None')\n",
    "plt.plot(freq[0:nend], psd_sum[0:nend])\n",
    "plt.xlabel('Frequency[Hz]')\n",
    "plt.title('Mean of PSD')\n",
    "plt.tight_layout() # xlabelの欠落を防ぐ\n",
    "if FLAG_fig: plt.savefig('fig_PSDrandFinal.png')\n",
    "plt.show()    "
   ]
  },
  {
   "cell_type": "code",
   "execution_count": null,
   "metadata": {},
   "outputs": [],
   "source": []
  }
 ],
 "metadata": {
  "kernelspec": {
   "display_name": "Python 3",
   "language": "python",
   "name": "python3"
  },
  "language_info": {
   "codemirror_mode": {
    "name": "ipython",
    "version": 3
   },
   "file_extension": ".py",
   "mimetype": "text/x-python",
   "name": "python",
   "nbconvert_exporter": "python",
   "pygments_lexer": "ipython3",
   "version": "3.7.0"
  }
 },
 "nbformat": 4,
 "nbformat_minor": 2
}
