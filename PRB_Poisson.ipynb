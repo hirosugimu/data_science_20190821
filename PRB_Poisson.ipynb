{
 "cells": [
  {
   "cell_type": "markdown",
   "metadata": {},
   "source": [
    "# ポアソン分布\n",
    "$$\n",
    "P(X=k) = \\exp (-\\lambda t) \\frac{(\\lambda t)^k}{k !}\n",
    "$$\n",
    "scipy.stats.poisson  \n",
    "https://docs.scipy.org/doc/scipy/reference/generated/scipy.stats.poisson.html"
   ]
  },
  {
   "cell_type": "code",
   "execution_count": null,
   "metadata": {},
   "outputs": [],
   "source": [
    "# -*- coding: utf-8 -*-\n",
    "import numpy as np\n",
    "from scipy.stats import poisson\n",
    "from scipy.stats import uniform\n",
    "\n",
    "import matplotlib.pyplot as plt\n",
    "%matplotlib inline\n",
    "\n",
    "FLAG_fig = False"
   ]
  },
  {
   "cell_type": "markdown",
   "metadata": {},
   "source": [
    "#### 確率質量関数（pmf: Probability mass function）のグラフ\n",
    "離散確率変数の場合の呼称 ，連続確率変数の場合は確率密度関数 (pdf: Probability density function)"
   ]
  },
  {
   "cell_type": "code",
   "execution_count": null,
   "metadata": {
    "scrolled": false
   },
   "outputs": [],
   "source": [
    "fig = plt.subplots(figsize=(8,4))\n",
    "k = np.arange(0,16)\n",
    "\n",
    "for lamb in range(1,6):\n",
    "    p = poisson.pmf(k, lamb)\n",
    "    plt.plot(k, p, label='lamb='+str(lamb))\n",
    "\n",
    "plt.xlabel('k')\n",
    "plt.ylabel('Probability mass function')\n",
    "plt.legend()\n",
    "\n",
    "if FLAG_fig: plt.savefig('fig_PROB_Poisson_pmf_Plot')\n",
    "plt.show()"
   ]
  },
  {
   "cell_type": "markdown",
   "metadata": {},
   "source": [
    "#### 例：交通事故問題\n",
    "交通事故　平均2.4件／日のとき，交通事故が2件／日　以下となる確率を求める。"
   ]
  },
  {
   "cell_type": "code",
   "execution_count": null,
   "metadata": {},
   "outputs": [],
   "source": [
    "lamb = 2.4\n",
    "psum = 0\n",
    "for k in [0, 1, 2]:\n",
    "    p = poisson.pmf(k, mu=lamb)\n",
    "    psum = psum + p\n",
    "print('sum of p =',psum)"
   ]
  },
  {
   "cell_type": "code",
   "execution_count": null,
   "metadata": {},
   "outputs": [],
   "source": []
  },
  {
   "cell_type": "markdown",
   "metadata": {},
   "source": [
    "#### ポアソン到着モデル\n",
    "$$ \n",
    "  t_{arrive} = -\\frac{1}{\\lambda} \\log_{e} P_{arrive} (T) \n",
    "$$"
   ]
  },
  {
   "cell_type": "code",
   "execution_count": null,
   "metadata": {},
   "outputs": [],
   "source": [
    "np.random.seed(123)\n",
    "\n",
    "Num=30 # 　Num人分の到着時刻を得る\n",
    "t_arrive = np.zeros(Num)\n",
    "lamb = 1\n",
    "\n",
    "sum = 0.0\n",
    "for i in range(Num):\n",
    "    sum = sum - (1/lamb) * np.log( uniform.rvs(size=1) )\n",
    "    t_arrive[i] = sum\n",
    "\n",
    "fig, ax = plt.subplots(figsize=(6,3))\n",
    "ax.vlines(t_arrive, ymin=0, ymax=1)\n",
    "ax.set_xlabel('time[k]')\n",
    "plt.tight_layout() \n",
    "\n",
    "if FLAG_fig: plt.savefig('fig_PROB_Poisson_Arrival')\n",
    "plt.show()"
   ]
  },
  {
   "cell_type": "code",
   "execution_count": null,
   "metadata": {},
   "outputs": [],
   "source": [
    "t_arrive"
   ]
  },
  {
   "cell_type": "code",
   "execution_count": null,
   "metadata": {},
   "outputs": [],
   "source": [
    "Num=30 # the number of arraivl, Num人分の到着時刻を得る\n",
    "t_arrive = np.zeros(Num)\n",
    "lamb = 1\n",
    "\n",
    "sum = 0.0\n",
    "for i in range(Num):\n",
    "    sum = sum - (1/lamb) * np.log( uniform.rvs(size=1) )\n",
    "    t_arrive[i] = sum\n",
    "\n",
    "fig, ax = plt.subplots(figsize=(6,3))\n",
    "ax.vlines(t_arrive, ymin=0, ymax=1)\n",
    "ax.set_xlabel('time[k]')\n",
    "plt.tight_layout() \n",
    "\n",
    "if FLAG_fig: plt.savefig('fig_PROB_Poisson_Arrival')\n",
    "plt.show()"
   ]
  }
 ],
 "metadata": {
  "kernelspec": {
   "display_name": "Python 3",
   "language": "python",
   "name": "python3"
  },
  "language_info": {
   "codemirror_mode": {
    "name": "ipython",
    "version": 3
   },
   "file_extension": ".py",
   "mimetype": "text/x-python",
   "name": "python",
   "nbconvert_exporter": "python",
   "pygments_lexer": "ipython3",
   "version": "3.7.0"
  }
 },
 "nbformat": 4,
 "nbformat_minor": 2
}
