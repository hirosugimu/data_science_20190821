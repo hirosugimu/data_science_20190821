{
 "cells": [
  {
   "cell_type": "markdown",
   "metadata": {},
   "source": [
    "# 有限桁に基づく問題点\n",
    "計算機イプシロンとニュートン法"
   ]
  },
  {
   "cell_type": "code",
   "execution_count": null,
   "metadata": {},
   "outputs": [],
   "source": [
    "# -*- coding: utf-8 -*-\n",
    "import numpy as np"
   ]
  },
  {
   "cell_type": "markdown",
   "metadata": {},
   "source": [
    "#### 計算機イプシロン\n",
    "https://en.wikipedia.org/wiki/Machine_epsilon"
   ]
  },
  {
   "cell_type": "code",
   "execution_count": null,
   "metadata": {
    "scrolled": true
   },
   "outputs": [],
   "source": [
    "a = 1.0\n",
    "\n",
    "while (1.0+a) != 1.0:\n",
    "    epsilon = a\n",
    "    a = a/2.0\n",
    "    print(epsilon)\n",
    "    \n",
    "print('epsilon=', epsilon)"
   ]
  },
  {
   "cell_type": "code",
   "execution_count": null,
   "metadata": {},
   "outputs": [],
   "source": [
    "b = 1 + (epsilon/2)\n",
    "b == 1.0"
   ]
  },
  {
   "cell_type": "markdown",
   "metadata": {},
   "source": [
    "#### ニュートン法\n",
    "https://en.wikipedia.org/wiki/Newton%27s_method"
   ]
  },
  {
   "cell_type": "code",
   "execution_count": null,
   "metadata": {},
   "outputs": [],
   "source": [
    "# 関数\n",
    "def f(x):\n",
    "    return x*x - 9.0\n",
    " \n",
    "# 導関数\n",
    "def df(x):\n",
    "    return 2.0*x\n",
    "\n",
    "def newton_method(x0, eps):\n",
    "    for i in range(1000):\n",
    "        x = x0 - f(x0)/df(x0)\n",
    "        # 収束条件\n",
    "        if abs(x - x0) < eps:break\n",
    "        #　数値解の更新\n",
    "        x0 = x      \n",
    "    return x0, i\n",
    "\n",
    "eps = 1.e-2 # 収束判定に用いる数字\n",
    "x0  = 1.0   # 初期値，出発点\n",
    "x , i = newton_method(x0, eps)\n",
    "print('Solution = ',x ,' The number of iteration =', i+1, \")\") "
   ]
  },
  {
   "cell_type": "code",
   "execution_count": null,
   "metadata": {},
   "outputs": [],
   "source": []
  }
 ],
 "metadata": {
  "kernelspec": {
   "display_name": "Python 3",
   "language": "python",
   "name": "python3"
  },
  "language_info": {
   "codemirror_mode": {
    "name": "ipython",
    "version": 3
   },
   "file_extension": ".py",
   "mimetype": "text/x-python",
   "name": "python",
   "nbconvert_exporter": "python",
   "pygments_lexer": "ipython3",
   "version": "3.7.0"
  }
 },
 "nbformat": 4,
 "nbformat_minor": 2
}
