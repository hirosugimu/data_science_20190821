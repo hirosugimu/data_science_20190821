{
 "cells": [
  {
   "cell_type": "markdown",
   "metadata": {},
   "source": [
    "気象データと様々な家計調査項目との相関を調べる"
   ]
  },
  {
   "cell_type": "code",
   "execution_count": null,
   "metadata": {},
   "outputs": [],
   "source": [
    "# -*- coding: utf-8 -*-\n",
    "\n",
    "import numpy as np\n",
    "import pandas as pd\n",
    "\n",
    "import matplotlib.pyplot as plt\n",
    "%matplotlib inline\n",
    "\n",
    "import seaborn as sns"
   ]
  },
  {
   "cell_type": "code",
   "execution_count": null,
   "metadata": {
    "scrolled": true
   },
   "outputs": [],
   "source": [
    "url = 'https://sites.google.com/site/datasciencehiro/datasets/weather_items.csv'\n",
    "df = pd.read_csv(url, index_col='date', parse_dates=[0],\n",
    "                        comment='#', encoding='SHIFT-JIS')\n",
    "df.head()"
   ]
  },
  {
   "cell_type": "code",
   "execution_count": null,
   "metadata": {
    "scrolled": false
   },
   "outputs": [],
   "source": [
    "corr = df.corr()\n",
    "corr"
   ]
  },
  {
   "cell_type": "code",
   "execution_count": null,
   "metadata": {},
   "outputs": [],
   "source": [
    "heatmap = sns.heatmap(corr, annot=True, square=True, cmap='bwr')"
   ]
  },
  {
   "cell_type": "code",
   "execution_count": null,
   "metadata": {
    "scrolled": false
   },
   "outputs": [],
   "source": [
    "df.plot(subplots=True, figsize=(12,12))"
   ]
  },
  {
   "cell_type": "markdown",
   "metadata": {},
   "source": [
    "クロス集計を行うために，気象データを削除する  \n",
    "次に，groupby機能を用いて，四季毎にデータをまとめる"
   ]
  },
  {
   "cell_type": "code",
   "execution_count": null,
   "metadata": {},
   "outputs": [],
   "source": [
    "df_1 = df.drop(['max_temperature', 'sum_rainfall', 'mean_humidity'], axis=1)\n",
    "df_season = df_1.groupby('season')"
   ]
  },
  {
   "cell_type": "markdown",
   "metadata": {},
   "source": [
    "メンバ関数sum()を用いて，クロス集計を行う"
   ]
  },
  {
   "cell_type": "code",
   "execution_count": null,
   "metadata": {
    "scrolled": true
   },
   "outputs": [],
   "source": [
    "df_season_sum = df_season.sum()\n",
    "df_season_sum"
   ]
  },
  {
   "cell_type": "markdown",
   "metadata": {},
   "source": [
    "備考：クロス集計を行っているからと言って，この例のように，セルに０か１の数をカウントするという頻度を扱っていないので，カイ2乗検定は適用しない。このデータは時系列データゆえ，先に示したように，相関係数からなる相関行列を見る方が良い。"
   ]
  },
  {
   "cell_type": "code",
   "execution_count": null,
   "metadata": {},
   "outputs": [],
   "source": [
    "df_season_sum.plot.bar(rot=0)"
   ]
  }
 ],
 "metadata": {
  "kernelspec": {
   "display_name": "Python 3",
   "language": "python",
   "name": "python3"
  },
  "language_info": {
   "codemirror_mode": {
    "name": "ipython",
    "version": 3
   },
   "file_extension": ".py",
   "mimetype": "text/x-python",
   "name": "python",
   "nbconvert_exporter": "python",
   "pygments_lexer": "ipython3",
   "version": "3.7.0"
  }
 },
 "nbformat": 4,
 "nbformat_minor": 2
}
